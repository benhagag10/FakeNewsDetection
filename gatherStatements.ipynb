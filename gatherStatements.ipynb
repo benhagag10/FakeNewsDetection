{
 "cells": [
  {
   "cell_type": "raw",
   "metadata": {},
   "source": [
    "this notebook is used to gather all statements.\n",
    "in addition it will explore some basic insights about the statements and their speakers.\n",
    "\n",
    "The stages are:\n",
    "1. retrive all statements :\n",
    "    1.1. retrive all url without statements and get the statements using the crawler.\n",
    "    1.2. retrive all hand-made statements.\n",
    "    1.3. combine all statements into one dataframe and save it.\n",
    "    \n",
    "2. Basic insights\n",
    "    2.1 speaker distribution\n",
    "    2.2 gender distribution \n",
    "        2.2.1 who lie the most?\n",
    "    2.3 media distribution\n",
    "        2.3.1 distribution by statements spoken vs. written\n",
    "        2.3.2 score-written distribution\n",
    "    2.4 statement by score aka labels"
   ]
  },
  {
   "cell_type": "code",
   "execution_count": 1,
   "metadata": {},
   "outputs": [],
   "source": [
    "#global imports\n",
    "import pandas as pd\n",
    "import math\n",
    "import seaborn as sns\n",
    "import mpld3\n",
    "import matplotlib.pyplot as plt\n",
    "from matplotlib.pyplot import pie,axis,show,figure\n",
    "import seaborn as sns\n",
    "\n",
    "\n"
   ]
  },
  {
   "cell_type": "code",
   "execution_count": 2,
   "metadata": {},
   "outputs": [],
   "source": [
    "#global constants\n",
    "RUN_CRAWLER_AGAIN=False"
   ]
  },
  {
   "cell_type": "markdown",
   "metadata": {},
   "source": [
    "# 1. retrive all statements"
   ]
  },
  {
   "cell_type": "markdown",
   "metadata": {},
   "source": [
    "## 1.1 retrive all url without statements and get the statements using the crawler"
   ]
  },
  {
   "cell_type": "code",
   "execution_count": 3,
   "metadata": {},
   "outputs": [
    {
     "data": {
      "text/html": [
       "<div>\n",
       "<style scoped>\n",
       "    .dataframe tbody tr th:only-of-type {\n",
       "        vertical-align: middle;\n",
       "    }\n",
       "\n",
       "    .dataframe tbody tr th {\n",
       "        vertical-align: top;\n",
       "    }\n",
       "\n",
       "    .dataframe thead th {\n",
       "        text-align: right;\n",
       "    }\n",
       "</style>\n",
       "<table border=\"1\" class=\"dataframe\">\n",
       "  <thead>\n",
       "    <tr style=\"text-align: right;\">\n",
       "      <th></th>\n",
       "      <th>date</th>\n",
       "      <th>speaker</th>\n",
       "      <th>title</th>\n",
       "      <th>party</th>\n",
       "      <th>media</th>\n",
       "      <th>score</th>\n",
       "      <th>field</th>\n",
       "      <th>subject</th>\n",
       "      <th>link</th>\n",
       "      <th>knesset</th>\n",
       "      <th>gender</th>\n",
       "    </tr>\n",
       "  </thead>\n",
       "  <tbody>\n",
       "    <tr>\n",
       "      <th>0</th>\n",
       "      <td>25/08/2017</td>\n",
       "      <td>אבי גבאי</td>\n",
       "      <td>על מתווה הגז, בעקבות הערכת החשב הכללי</td>\n",
       "      <td>עבודה</td>\n",
       "      <td>פייסבוק</td>\n",
       "      <td>untrue</td>\n",
       "      <td>כלכלה</td>\n",
       "      <td>מתווה הגז</td>\n",
       "      <td>https://www.thewhistle.co.il/feed/1l0L1amWva</td>\n",
       "      <td>הכנסת ה-20</td>\n",
       "      <td>male</td>\n",
       "    </tr>\n",
       "    <tr>\n",
       "      <th>1</th>\n",
       "      <td>25/08/2017</td>\n",
       "      <td>אבי גבאי</td>\n",
       "      <td>על מתווה הגז</td>\n",
       "      <td>עבודה</td>\n",
       "      <td>פייסבוק</td>\n",
       "      <td>half true</td>\n",
       "      <td>כלכלה</td>\n",
       "      <td>מתווה הגז</td>\n",
       "      <td>https://www.thewhistle.co.il/feed/e30EJDQWXQ</td>\n",
       "      <td>הכנסת ה-20</td>\n",
       "      <td>male</td>\n",
       "    </tr>\n",
       "    <tr>\n",
       "      <th>2</th>\n",
       "      <td>07/09/2017</td>\n",
       "      <td>אבי גבאי</td>\n",
       "      <td>על מחיר הגז הטבעי בעולם</td>\n",
       "      <td>עבודה</td>\n",
       "      <td>גל״צ</td>\n",
       "      <td>half true</td>\n",
       "      <td>כלכלה</td>\n",
       "      <td>מתווה הגז</td>\n",
       "      <td>https://www.thewhistle.co.il/feed/a5xQz3e0qA</td>\n",
       "      <td>הכנסת ה-20</td>\n",
       "      <td>male</td>\n",
       "    </tr>\n",
       "    <tr>\n",
       "      <th>3</th>\n",
       "      <td>24/09/2017</td>\n",
       "      <td>אבי גבאי</td>\n",
       "      <td>על ועדת צמח</td>\n",
       "      <td>עבודה</td>\n",
       "      <td>גל״צ</td>\n",
       "      <td>untrue</td>\n",
       "      <td>כלכלה</td>\n",
       "      <td>מתווה הגז</td>\n",
       "      <td>https://www.thewhistle.co.il/feed/GPxPq420a6</td>\n",
       "      <td>הכנסת ה-20</td>\n",
       "      <td>male</td>\n",
       "    </tr>\n",
       "    <tr>\n",
       "      <th>4</th>\n",
       "      <td>11/03/2018</td>\n",
       "      <td>אבי גבאי</td>\n",
       "      <td>על עמדת אייפא״ק</td>\n",
       "      <td>עבודה</td>\n",
       "      <td>כאן ב׳</td>\n",
       "      <td>untrue</td>\n",
       "      <td>חוץ ובטחון</td>\n",
       "      <td>סכסוך ישראלי-פלסטיני</td>\n",
       "      <td>https://www.thewhistle.co.il/feed/O4Wk2r50jb</td>\n",
       "      <td>הכנסת ה-20</td>\n",
       "      <td>male</td>\n",
       "    </tr>\n",
       "  </tbody>\n",
       "</table>\n",
       "</div>"
      ],
      "text/plain": [
       "         date   speaker                                  title  party  \\\n",
       "0  25/08/2017  אבי גבאי  על מתווה הגז, בעקבות הערכת החשב הכללי  עבודה   \n",
       "1  25/08/2017  אבי גבאי                           על מתווה הגז  עבודה   \n",
       "2  07/09/2017  אבי גבאי                על מחיר הגז הטבעי בעולם  עבודה   \n",
       "3  24/09/2017  אבי גבאי                            על ועדת צמח  עבודה   \n",
       "4  11/03/2018  אבי גבאי                        על עמדת אייפא״ק  עבודה   \n",
       "\n",
       "     media      score       field               subject  \\\n",
       "0  פייסבוק     untrue       כלכלה             מתווה הגז   \n",
       "1  פייסבוק  half true       כלכלה             מתווה הגז   \n",
       "2     גל״צ  half true       כלכלה             מתווה הגז   \n",
       "3     גל״צ     untrue       כלכלה             מתווה הגז   \n",
       "4   כאן ב׳     untrue  חוץ ובטחון  סכסוך ישראלי-פלסטיני   \n",
       "\n",
       "                                           link     knesset gender  \n",
       "0  https://www.thewhistle.co.il/feed/1l0L1amWva  הכנסת ה-20   male  \n",
       "1  https://www.thewhistle.co.il/feed/e30EJDQWXQ  הכנסת ה-20   male  \n",
       "2  https://www.thewhistle.co.il/feed/a5xQz3e0qA  הכנסת ה-20   male  \n",
       "3  https://www.thewhistle.co.il/feed/GPxPq420a6  הכנסת ה-20   male  \n",
       "4  https://www.thewhistle.co.il/feed/O4Wk2r50jb  הכנסת ה-20   male  "
      ]
     },
     "execution_count": 3,
     "metadata": {},
     "output_type": "execute_result"
    }
   ],
   "source": [
    "poli_statements=pd.read_csv('dataset/politician_statements.csv')\n",
    "poli_statements.head()"
   ]
  },
  {
   "cell_type": "code",
   "execution_count": 4,
   "metadata": {},
   "outputs": [],
   "source": [
    "NUM_OF_SPLITS=3\n",
    "\n",
    "def get_array_of_divided_urls(poli_statements,num_of_splits):\n",
    "    ##split dataframe to num_of_splits in order to save mid-results\n",
    "    num_of_rows=len(poli_statements)\n",
    "    divided_df=[]\n",
    "    print('num of total rows is: {}'.format(num_of_rows))\n",
    "    for i in range(num_of_splits):\n",
    "      print('the start index is : {} , the end index is {}'.format(math.ceil(num_of_rows/num_of_splits)*(i),(math.ceil(num_of_rows/num_of_splits)*(i+1))))\n",
    "      poli_statements_temp=poli_statements[(math.ceil(num_of_rows/num_of_splits)*(i)):(math.ceil(num_of_rows/num_of_splits)*(i+1))]\n",
    "      divided_df=divided_df+[poli_statements_temp]\n",
    "      print('the size of the new df is: {}'.format(poli_statements_temp.shape[0]))\n",
    "\n",
    "    return divided_df\n"
   ]
  },
  {
   "cell_type": "code",
   "execution_count": 5,
   "metadata": {},
   "outputs": [
    {
     "name": "stdout",
     "output_type": "stream",
     "text": [
      "num of total rows is: 444\n",
      "the start index is : 0 , the end index is 148\n",
      "the size of the new df is: 148\n",
      "the start index is : 148 , the end index is 296\n",
      "the size of the new df is: 148\n",
      "the start index is : 296 , the end index is 444\n",
      "the size of the new df is: 148\n"
     ]
    }
   ],
   "source": [
    "triple_df=get_array_of_divided_urls(poli_statements,NUM_OF_SPLITS)"
   ]
  },
  {
   "cell_type": "code",
   "execution_count": 6,
   "metadata": {},
   "outputs": [
    {
     "name": "stdout",
     "output_type": "stream",
     "text": [
      "Requirement already satisfied: selenium in c:\\users\\ben\\anaconda3\\lib\\site-packages (3.141.0)\n",
      "Requirement already satisfied: urllib3 in c:\\users\\ben\\anaconda3\\lib\\site-packages (from selenium) (1.24.2)\n",
      "Checking Whistle website using crawler: False\n"
     ]
    }
   ],
   "source": [
    "!pip install selenium\n",
    "from bs4 import BeautifulSoup\n",
    "from selenium import webdriver\n",
    "#driver = webdriver.Chrome(executable_path=\"path/to/chromedriver.exe\", chrome_options=options)\n",
    "\n",
    "\n",
    "def get_main_quote(url):\n",
    "  options = webdriver.ChromeOptions()\n",
    "  options.add_argument('--no-sandbox')\n",
    "  options.add_argument('--headless')\n",
    "  options.add_argument('--disable-dev-shm-usage')\n",
    "  wd = webdriver.Chrome('chromedriver',options=options)\n",
    "  #open it, go to a website, and get results\n",
    "  print('the url is: {}'.format((url)))\n",
    "  wd.get(url)\n",
    "  html=wd.page_source\n",
    "  soup = BeautifulSoup(html, 'html.parser')\n",
    "  #print(\"the url is {}\".format(url))\n",
    "  #print(html)\n",
    "  try:\n",
    "    method3 = soup.find('div', class_='main-quote').text\n",
    "    print(method3)\n",
    "    return method3\n",
    "  except Exception as e:\n",
    "    print('exception occured'.format(e))\n",
    "    return -1\n",
    "\n",
    "print('Checking Whistle website using crawler: {}'.format(RUN_CRAWLER_AGAIN))\n",
    "full_ds_array=[]\n",
    "if RUN_CRAWLER_AGAIN:\n",
    "  #prepare()\n",
    "    for en,poli_statements_part in enumerate(triple_df):\n",
    "        poli_statements_part['main-quote']=poli_statements_part['link'].apply(get_main_quote)\n",
    "        print(en)\n",
    "        poli_statements_part.to_csv(path_or_buf='dataset/modified_data_p{}.csv'.format(en),encoding=\"utf-8\")\n",
    "        full_ds_array=full_ds_array+[poli_statements_part]\n",
    "    all_stmt_ds=pd.concat([full_ds_array[0],full_ds_array[1],full_ds_array[2]])\n",
    "else:\n",
    "  #load data from previous run. no need to check whistle website again\n",
    "    poli_statements_p0=pd.read_csv('dataset/modified_data_p0.csv',encoding=\"utf-8\")\n",
    "    poli_statements_p1=pd.read_csv('dataset/modified_data_p1.csv',encoding=\"utf-8\")\n",
    "    poli_statements_p2=pd.read_csv('dataset/modified_data_p2.csv',encoding=\"utf-8\")\n",
    "    all_stmt_ds=pd.concat([poli_statements_p0,poli_statements_p1,poli_statements_p2])\n",
    "    all_stmt_ds.drop('Unnamed: 0',inplace=True,axis=1)"
   ]
  },
  {
   "cell_type": "code",
   "execution_count": 7,
   "metadata": {},
   "outputs": [
    {
     "data": {
      "text/plain": [
       "444"
      ]
     },
     "execution_count": 7,
     "metadata": {},
     "output_type": "execute_result"
    }
   ],
   "source": [
    "len(all_stmt_ds)"
   ]
  },
  {
   "cell_type": "markdown",
   "metadata": {},
   "source": [
    "## 1.2 retrive all hand-made statements."
   ]
  },
  {
   "cell_type": "code",
   "execution_count": 8,
   "metadata": {},
   "outputs": [],
   "source": [
    "handMadestmt=pd.read_csv('dataset/handMadeStmt.csv',encoding=\"utf-8\")"
   ]
  },
  {
   "cell_type": "code",
   "execution_count": 9,
   "metadata": {},
   "outputs": [],
   "source": [
    "#fix score True to TRUE(uppercase)\n",
    "handMadestmt.loc[handMadestmt['score'] ==True, 'score'] = 'TRUE'"
   ]
  },
  {
   "cell_type": "code",
   "execution_count": 10,
   "metadata": {},
   "outputs": [
    {
     "data": {
      "text/plain": [
       "33"
      ]
     },
     "execution_count": 10,
     "metadata": {},
     "output_type": "execute_result"
    }
   ],
   "source": [
    "len(handMadestmt)"
   ]
  },
  {
   "cell_type": "code",
   "execution_count": 11,
   "metadata": {},
   "outputs": [
    {
     "data": {
      "text/html": [
       "<div>\n",
       "<style scoped>\n",
       "    .dataframe tbody tr th:only-of-type {\n",
       "        vertical-align: middle;\n",
       "    }\n",
       "\n",
       "    .dataframe tbody tr th {\n",
       "        vertical-align: top;\n",
       "    }\n",
       "\n",
       "    .dataframe thead th {\n",
       "        text-align: right;\n",
       "    }\n",
       "</style>\n",
       "<table border=\"1\" class=\"dataframe\">\n",
       "  <thead>\n",
       "    <tr style=\"text-align: right;\">\n",
       "      <th></th>\n",
       "      <th>date</th>\n",
       "      <th>speaker</th>\n",
       "      <th>title</th>\n",
       "      <th>party</th>\n",
       "      <th>media</th>\n",
       "      <th>score</th>\n",
       "      <th>field</th>\n",
       "      <th>subject</th>\n",
       "      <th>link</th>\n",
       "      <th>knesset</th>\n",
       "      <th>gender</th>\n",
       "      <th>main-quote</th>\n",
       "    </tr>\n",
       "  </thead>\n",
       "  <tbody>\n",
       "    <tr>\n",
       "      <th>0</th>\n",
       "      <td>31/12/2019</td>\n",
       "      <td>אביגדור ליברמן</td>\n",
       "      <td>NaN</td>\n",
       "      <td>ישראל ביתנו</td>\n",
       "      <td>ועידת תחזיות</td>\n",
       "      <td>TRUE</td>\n",
       "      <td>NaN</td>\n",
       "      <td>NaN</td>\n",
       "      <td>NaN</td>\n",
       "      <td>NaN</td>\n",
       "      <td>male</td>\n",
       "      <td>\"החוק שמאפשר לראש ממשלה לכהן עד פסק דין חלוט ה...</td>\n",
       "    </tr>\n",
       "    <tr>\n",
       "      <th>1</th>\n",
       "      <td>21/07/2019</td>\n",
       "      <td>אופיר אקוניס</td>\n",
       "      <td>NaN</td>\n",
       "      <td>הליכוד</td>\n",
       "      <td>פייסבוק</td>\n",
       "      <td>TRUE</td>\n",
       "      <td>NaN</td>\n",
       "      <td>NaN</td>\n",
       "      <td>NaN</td>\n",
       "      <td>NaN</td>\n",
       "      <td>male</td>\n",
       "      <td>\"לתקופה של ארבעה חודשים כיהנתי כממונה על רשות ...</td>\n",
       "    </tr>\n",
       "    <tr>\n",
       "      <th>2</th>\n",
       "      <td>21/07/2019</td>\n",
       "      <td>אופיר אקוניס</td>\n",
       "      <td>NaN</td>\n",
       "      <td>הליכוד</td>\n",
       "      <td>פייסבוק</td>\n",
       "      <td>TRUE</td>\n",
       "      <td>NaN</td>\n",
       "      <td>NaN</td>\n",
       "      <td>NaN</td>\n",
       "      <td>NaN</td>\n",
       "      <td>male</td>\n",
       "      <td>\"קבעתי שתחנות הרדיו תקראנה ״קול ישראל״, כדי שכ...</td>\n",
       "    </tr>\n",
       "    <tr>\n",
       "      <th>3</th>\n",
       "      <td>20/03/2019</td>\n",
       "      <td>אורלי לוי אבקסיס</td>\n",
       "      <td>NaN</td>\n",
       "      <td>גשר</td>\n",
       "      <td>פייסבוק</td>\n",
       "      <td>TRUE</td>\n",
       "      <td>בריאות</td>\n",
       "      <td>NaN</td>\n",
       "      <td>NaN</td>\n",
       "      <td>NaN</td>\n",
       "      <td>female</td>\n",
       "      <td>\"מדי יום מתים בישראל 13 בני אדם מוות מיותר כתו...</td>\n",
       "    </tr>\n",
       "    <tr>\n",
       "      <th>4</th>\n",
       "      <td>12/03/2019</td>\n",
       "      <td>אורלי לוי אבקסיס</td>\n",
       "      <td>NaN</td>\n",
       "      <td>גשר</td>\n",
       "      <td>פייסבוק</td>\n",
       "      <td>TRUE</td>\n",
       "      <td>בריאות</td>\n",
       "      <td>NaN</td>\n",
       "      <td>NaN</td>\n",
       "      <td>NaN</td>\n",
       "      <td>female</td>\n",
       "      <td>\"למרות חוק בריאות חינם, 83% רוכשים ביטוח פרטי ...</td>\n",
       "    </tr>\n",
       "  </tbody>\n",
       "</table>\n",
       "</div>"
      ],
      "text/plain": [
       "         date           speaker title        party         media score  \\\n",
       "0  31/12/2019    אביגדור ליברמן   NaN  ישראל ביתנו  ועידת תחזיות  TRUE   \n",
       "1  21/07/2019      אופיר אקוניס   NaN       הליכוד       פייסבוק  TRUE   \n",
       "2  21/07/2019      אופיר אקוניס   NaN       הליכוד       פייסבוק  TRUE   \n",
       "3  20/03/2019  אורלי לוי אבקסיס   NaN          גשר       פייסבוק  TRUE   \n",
       "4  12/03/2019  אורלי לוי אבקסיס   NaN          גשר       פייסבוק  TRUE   \n",
       "\n",
       "    field subject link  knesset  gender  \\\n",
       "0     NaN     NaN  NaN      NaN    male   \n",
       "1     NaN     NaN  NaN      NaN    male   \n",
       "2     NaN     NaN  NaN      NaN    male   \n",
       "3  בריאות     NaN  NaN      NaN  female   \n",
       "4  בריאות     NaN  NaN      NaN  female   \n",
       "\n",
       "                                          main-quote  \n",
       "0  \"החוק שמאפשר לראש ממשלה לכהן עד פסק דין חלוט ה...  \n",
       "1  \"לתקופה של ארבעה חודשים כיהנתי כממונה על רשות ...  \n",
       "2  \"קבעתי שתחנות הרדיו תקראנה ״קול ישראל״, כדי שכ...  \n",
       "3  \"מדי יום מתים בישראל 13 בני אדם מוות מיותר כתו...  \n",
       "4  \"למרות חוק בריאות חינם, 83% רוכשים ביטוח פרטי ...  "
      ]
     },
     "execution_count": 11,
     "metadata": {},
     "output_type": "execute_result"
    }
   ],
   "source": [
    "handMadestmt.head()"
   ]
  },
  {
   "cell_type": "markdown",
   "metadata": {},
   "source": [
    "## 1.3 combine all statements into one dataframe and save it"
   ]
  },
  {
   "cell_type": "markdown",
   "metadata": {},
   "source": [
    "handmade  + crawler-made"
   ]
  },
  {
   "cell_type": "code",
   "execution_count": 12,
   "metadata": {},
   "outputs": [],
   "source": [
    "full_ds=pd.concat([all_stmt_ds,handMadestmt])"
   ]
  },
  {
   "cell_type": "code",
   "execution_count": 13,
   "metadata": {},
   "outputs": [
    {
     "data": {
      "text/plain": [
       "477"
      ]
     },
     "execution_count": 13,
     "metadata": {},
     "output_type": "execute_result"
    }
   ],
   "source": [
    "len(full_ds)"
   ]
  },
  {
   "cell_type": "code",
   "execution_count": 16,
   "metadata": {},
   "outputs": [],
   "source": [
    "full_ds.to_csv(path_or_buf='dataset/full_ds.csv',encoding=\"utf-8-sig\")"
   ]
  },
  {
   "cell_type": "code",
   "execution_count": 17,
   "metadata": {},
   "outputs": [
    {
     "data": {
      "text/html": [
       "<div>\n",
       "<style scoped>\n",
       "    .dataframe tbody tr th:only-of-type {\n",
       "        vertical-align: middle;\n",
       "    }\n",
       "\n",
       "    .dataframe tbody tr th {\n",
       "        vertical-align: top;\n",
       "    }\n",
       "\n",
       "    .dataframe thead th {\n",
       "        text-align: right;\n",
       "    }\n",
       "</style>\n",
       "<table border=\"1\" class=\"dataframe\">\n",
       "  <thead>\n",
       "    <tr style=\"text-align: right;\">\n",
       "      <th></th>\n",
       "      <th>date</th>\n",
       "      <th>speaker</th>\n",
       "      <th>title</th>\n",
       "      <th>party</th>\n",
       "      <th>media</th>\n",
       "      <th>score</th>\n",
       "      <th>field</th>\n",
       "      <th>subject</th>\n",
       "      <th>link</th>\n",
       "      <th>knesset</th>\n",
       "      <th>gender</th>\n",
       "      <th>main-quote</th>\n",
       "    </tr>\n",
       "  </thead>\n",
       "  <tbody>\n",
       "    <tr>\n",
       "      <th>0</th>\n",
       "      <td>25/08/2017</td>\n",
       "      <td>אבי גבאי</td>\n",
       "      <td>על מתווה הגז, בעקבות הערכת החשב הכללי</td>\n",
       "      <td>עבודה</td>\n",
       "      <td>פייסבוק</td>\n",
       "      <td>untrue</td>\n",
       "      <td>כלכלה</td>\n",
       "      <td>מתווה הגז</td>\n",
       "      <td>https://www.thewhistle.co.il/feed/1l0L1amWva</td>\n",
       "      <td>הכנסת ה-20</td>\n",
       "      <td>male</td>\n",
       "      <td>\"דיברו על 600 מיליארד. נתניהו אמר מאות מיליארד...</td>\n",
       "    </tr>\n",
       "    <tr>\n",
       "      <th>1</th>\n",
       "      <td>25/08/2017</td>\n",
       "      <td>אבי גבאי</td>\n",
       "      <td>על מתווה הגז</td>\n",
       "      <td>עבודה</td>\n",
       "      <td>פייסבוק</td>\n",
       "      <td>half true</td>\n",
       "      <td>כלכלה</td>\n",
       "      <td>מתווה הגז</td>\n",
       "      <td>https://www.thewhistle.co.il/feed/e30EJDQWXQ</td>\n",
       "      <td>הכנסת ה-20</td>\n",
       "      <td>male</td>\n",
       "      <td>\"נתניהו אמר מאות מיליארדים. ועכשיו בעצם זה ירד...</td>\n",
       "    </tr>\n",
       "    <tr>\n",
       "      <th>2</th>\n",
       "      <td>07/09/2017</td>\n",
       "      <td>אבי גבאי</td>\n",
       "      <td>על מחיר הגז הטבעי בעולם</td>\n",
       "      <td>עבודה</td>\n",
       "      <td>גל״צ</td>\n",
       "      <td>half true</td>\n",
       "      <td>כלכלה</td>\n",
       "      <td>מתווה הגז</td>\n",
       "      <td>https://www.thewhistle.co.il/feed/a5xQz3e0qA</td>\n",
       "      <td>הכנסת ה-20</td>\n",
       "      <td>male</td>\n",
       "      <td>\"לגרום לכך שאזרחי ישראל ישלמו 6 דולר עבור הגז,...</td>\n",
       "    </tr>\n",
       "    <tr>\n",
       "      <th>3</th>\n",
       "      <td>24/09/2017</td>\n",
       "      <td>אבי גבאי</td>\n",
       "      <td>על ועדת צמח</td>\n",
       "      <td>עבודה</td>\n",
       "      <td>גל״צ</td>\n",
       "      <td>untrue</td>\n",
       "      <td>כלכלה</td>\n",
       "      <td>מתווה הגז</td>\n",
       "      <td>https://www.thewhistle.co.il/feed/GPxPq420a6</td>\n",
       "      <td>הכנסת ה-20</td>\n",
       "      <td>male</td>\n",
       "      <td>\"לפי הכללים של ועדת צמח, שהממשלה אישרה אותם ב-...</td>\n",
       "    </tr>\n",
       "    <tr>\n",
       "      <th>4</th>\n",
       "      <td>11/03/2018</td>\n",
       "      <td>אבי גבאי</td>\n",
       "      <td>על עמדת אייפא״ק</td>\n",
       "      <td>עבודה</td>\n",
       "      <td>כאן ב׳</td>\n",
       "      <td>untrue</td>\n",
       "      <td>חוץ ובטחון</td>\n",
       "      <td>סכסוך ישראלי-פלסטיני</td>\n",
       "      <td>https://www.thewhistle.co.il/feed/O4Wk2r50jb</td>\n",
       "      <td>הכנסת ה-20</td>\n",
       "      <td>male</td>\n",
       "      <td>\"בכנס איפא\"ק האחרון הייתה דרמה, כי באיפא\"ק נאמ...</td>\n",
       "    </tr>\n",
       "  </tbody>\n",
       "</table>\n",
       "</div>"
      ],
      "text/plain": [
       "         date   speaker                                  title  party  \\\n",
       "0  25/08/2017  אבי גבאי  על מתווה הגז, בעקבות הערכת החשב הכללי  עבודה   \n",
       "1  25/08/2017  אבי גבאי                           על מתווה הגז  עבודה   \n",
       "2  07/09/2017  אבי גבאי                על מחיר הגז הטבעי בעולם  עבודה   \n",
       "3  24/09/2017  אבי גבאי                            על ועדת צמח  עבודה   \n",
       "4  11/03/2018  אבי גבאי                        על עמדת אייפא״ק  עבודה   \n",
       "\n",
       "     media      score       field               subject  \\\n",
       "0  פייסבוק     untrue       כלכלה             מתווה הגז   \n",
       "1  פייסבוק  half true       כלכלה             מתווה הגז   \n",
       "2     גל״צ  half true       כלכלה             מתווה הגז   \n",
       "3     גל״צ     untrue       כלכלה             מתווה הגז   \n",
       "4   כאן ב׳     untrue  חוץ ובטחון  סכסוך ישראלי-פלסטיני   \n",
       "\n",
       "                                           link     knesset gender  \\\n",
       "0  https://www.thewhistle.co.il/feed/1l0L1amWva  הכנסת ה-20   male   \n",
       "1  https://www.thewhistle.co.il/feed/e30EJDQWXQ  הכנסת ה-20   male   \n",
       "2  https://www.thewhistle.co.il/feed/a5xQz3e0qA  הכנסת ה-20   male   \n",
       "3  https://www.thewhistle.co.il/feed/GPxPq420a6  הכנסת ה-20   male   \n",
       "4  https://www.thewhistle.co.il/feed/O4Wk2r50jb  הכנסת ה-20   male   \n",
       "\n",
       "                                          main-quote  \n",
       "0  \"דיברו על 600 מיליארד. נתניהו אמר מאות מיליארד...  \n",
       "1  \"נתניהו אמר מאות מיליארדים. ועכשיו בעצם זה ירד...  \n",
       "2  \"לגרום לכך שאזרחי ישראל ישלמו 6 דולר עבור הגז,...  \n",
       "3  \"לפי הכללים של ועדת צמח, שהממשלה אישרה אותם ב-...  \n",
       "4  \"בכנס איפא\"ק האחרון הייתה דרמה, כי באיפא\"ק נאמ...  "
      ]
     },
     "execution_count": 17,
     "metadata": {},
     "output_type": "execute_result"
    }
   ],
   "source": [
    "full_ds.head()"
   ]
  },
  {
   "cell_type": "markdown",
   "metadata": {},
   "source": [
    "### re read full_ds without re compute"
   ]
  },
  {
   "cell_type": "code",
   "execution_count": 5,
   "metadata": {},
   "outputs": [
    {
     "data": {
      "text/html": [
       "<div>\n",
       "<style scoped>\n",
       "    .dataframe tbody tr th:only-of-type {\n",
       "        vertical-align: middle;\n",
       "    }\n",
       "\n",
       "    .dataframe tbody tr th {\n",
       "        vertical-align: top;\n",
       "    }\n",
       "\n",
       "    .dataframe thead th {\n",
       "        text-align: right;\n",
       "    }\n",
       "</style>\n",
       "<table border=\"1\" class=\"dataframe\">\n",
       "  <thead>\n",
       "    <tr style=\"text-align: right;\">\n",
       "      <th></th>\n",
       "      <th>Unnamed: 0</th>\n",
       "      <th>date</th>\n",
       "      <th>speaker</th>\n",
       "      <th>title</th>\n",
       "      <th>party</th>\n",
       "      <th>media</th>\n",
       "      <th>score</th>\n",
       "      <th>field</th>\n",
       "      <th>subject</th>\n",
       "      <th>link</th>\n",
       "      <th>knesset</th>\n",
       "      <th>gender</th>\n",
       "      <th>main-quote</th>\n",
       "    </tr>\n",
       "  </thead>\n",
       "  <tbody>\n",
       "    <tr>\n",
       "      <th>0</th>\n",
       "      <td>0</td>\n",
       "      <td>25/08/2017</td>\n",
       "      <td>אבי גבאי</td>\n",
       "      <td>על מתווה הגז, בעקבות הערכת החשב הכללי</td>\n",
       "      <td>עבודה</td>\n",
       "      <td>פייסבוק</td>\n",
       "      <td>untrue</td>\n",
       "      <td>כלכלה</td>\n",
       "      <td>מתווה הגז</td>\n",
       "      <td>https://www.thewhistle.co.il/feed/1l0L1amWva</td>\n",
       "      <td>הכנסת ה-20</td>\n",
       "      <td>male</td>\n",
       "      <td>\"דיברו על 600 מיליארד. נתניהו אמר מאות מיליארד...</td>\n",
       "    </tr>\n",
       "    <tr>\n",
       "      <th>1</th>\n",
       "      <td>1</td>\n",
       "      <td>25/08/2017</td>\n",
       "      <td>אבי גבאי</td>\n",
       "      <td>על מתווה הגז</td>\n",
       "      <td>עבודה</td>\n",
       "      <td>פייסבוק</td>\n",
       "      <td>half true</td>\n",
       "      <td>כלכלה</td>\n",
       "      <td>מתווה הגז</td>\n",
       "      <td>https://www.thewhistle.co.il/feed/e30EJDQWXQ</td>\n",
       "      <td>הכנסת ה-20</td>\n",
       "      <td>male</td>\n",
       "      <td>\"נתניהו אמר מאות מיליארדים. ועכשיו בעצם זה ירד...</td>\n",
       "    </tr>\n",
       "  </tbody>\n",
       "</table>\n",
       "</div>"
      ],
      "text/plain": [
       "   Unnamed: 0        date   speaker                                  title  \\\n",
       "0           0  25/08/2017  אבי גבאי  על מתווה הגז, בעקבות הערכת החשב הכללי   \n",
       "1           1  25/08/2017  אבי גבאי                           על מתווה הגז   \n",
       "\n",
       "   party    media      score  field    subject  \\\n",
       "0  עבודה  פייסבוק     untrue  כלכלה  מתווה הגז   \n",
       "1  עבודה  פייסבוק  half true  כלכלה  מתווה הגז   \n",
       "\n",
       "                                           link     knesset gender  \\\n",
       "0  https://www.thewhistle.co.il/feed/1l0L1amWva  הכנסת ה-20   male   \n",
       "1  https://www.thewhistle.co.il/feed/e30EJDQWXQ  הכנסת ה-20   male   \n",
       "\n",
       "                                          main-quote  \n",
       "0  \"דיברו על 600 מיליארד. נתניהו אמר מאות מיליארד...  \n",
       "1  \"נתניהו אמר מאות מיליארדים. ועכשיו בעצם זה ירד...  "
      ]
     },
     "execution_count": 5,
     "metadata": {},
     "output_type": "execute_result"
    }
   ],
   "source": [
    "import pandas as pd\n",
    "full_ds=pd.read_csv('dataset/full_ds.csv')\n",
    "full_ds.head(2)"
   ]
  },
  {
   "cell_type": "markdown",
   "metadata": {},
   "source": [
    "# 2. Basic insights"
   ]
  },
  {
   "cell_type": "markdown",
   "metadata": {},
   "source": [
    "## 2.1 speaker distribution"
   ]
  },
  {
   "cell_type": "code",
   "execution_count": 6,
   "metadata": {},
   "outputs": [
    {
     "data": {
      "text/plain": [
       "121"
      ]
     },
     "execution_count": 6,
     "metadata": {},
     "output_type": "execute_result"
    }
   ],
   "source": [
    "#how many unique speakers we have: \n",
    "len(full_ds.speaker.unique())"
   ]
  },
  {
   "cell_type": "code",
   "execution_count": 7,
   "metadata": {},
   "outputs": [],
   "source": [
    "spaeker_dist=full_ds.groupby(['speaker'])['speaker'].count().reset_index(name='count')"
   ]
  },
  {
   "cell_type": "code",
   "execution_count": 8,
   "metadata": {},
   "outputs": [
    {
     "data": {
      "text/html": [
       "<div>\n",
       "<style scoped>\n",
       "    .dataframe tbody tr th:only-of-type {\n",
       "        vertical-align: middle;\n",
       "    }\n",
       "\n",
       "    .dataframe tbody tr th {\n",
       "        vertical-align: top;\n",
       "    }\n",
       "\n",
       "    .dataframe thead th {\n",
       "        text-align: right;\n",
       "    }\n",
       "</style>\n",
       "<table border=\"1\" class=\"dataframe\">\n",
       "  <thead>\n",
       "    <tr style=\"text-align: right;\">\n",
       "      <th></th>\n",
       "      <th>speaker</th>\n",
       "      <th>count</th>\n",
       "    </tr>\n",
       "  </thead>\n",
       "  <tbody>\n",
       "    <tr>\n",
       "      <th>0</th>\n",
       "      <td>אבי גבאי</td>\n",
       "      <td>6</td>\n",
       "    </tr>\n",
       "    <tr>\n",
       "      <th>1</th>\n",
       "      <td>אבי דיכטר</td>\n",
       "      <td>1</td>\n",
       "    </tr>\n",
       "    <tr>\n",
       "      <th>2</th>\n",
       "      <td>אבי ניסנקורן</td>\n",
       "      <td>3</td>\n",
       "    </tr>\n",
       "  </tbody>\n",
       "</table>\n",
       "</div>"
      ],
      "text/plain": [
       "        speaker  count\n",
       "0      אבי גבאי      6\n",
       "1     אבי דיכטר      1\n",
       "2  אבי ניסנקורן      3"
      ]
     },
     "execution_count": 8,
     "metadata": {},
     "output_type": "execute_result"
    }
   ],
   "source": [
    "spaeker_dist.head(3)"
   ]
  },
  {
   "cell_type": "code",
   "execution_count": 9,
   "metadata": {},
   "outputs": [],
   "source": [
    "spaeker_dist['speaker_reverse']=spaeker_dist.loc[:,'speaker'].apply(lambda x: x[::-1])"
   ]
  },
  {
   "cell_type": "code",
   "execution_count": 10,
   "metadata": {},
   "outputs": [
    {
     "data": {
      "text/html": [
       "<div>\n",
       "<style scoped>\n",
       "    .dataframe tbody tr th:only-of-type {\n",
       "        vertical-align: middle;\n",
       "    }\n",
       "\n",
       "    .dataframe tbody tr th {\n",
       "        vertical-align: top;\n",
       "    }\n",
       "\n",
       "    .dataframe thead th {\n",
       "        text-align: right;\n",
       "    }\n",
       "</style>\n",
       "<table border=\"1\" class=\"dataframe\">\n",
       "  <thead>\n",
       "    <tr style=\"text-align: right;\">\n",
       "      <th></th>\n",
       "      <th>speaker</th>\n",
       "      <th>count</th>\n",
       "      <th>speaker_reverse</th>\n",
       "    </tr>\n",
       "  </thead>\n",
       "  <tbody>\n",
       "    <tr>\n",
       "      <th>0</th>\n",
       "      <td>אבי גבאי</td>\n",
       "      <td>6</td>\n",
       "      <td>יאבג יבא</td>\n",
       "    </tr>\n",
       "    <tr>\n",
       "      <th>1</th>\n",
       "      <td>אבי דיכטר</td>\n",
       "      <td>1</td>\n",
       "      <td>רטכיד יבא</td>\n",
       "    </tr>\n",
       "    <tr>\n",
       "      <th>2</th>\n",
       "      <td>אבי ניסנקורן</td>\n",
       "      <td>3</td>\n",
       "      <td>ןרוקנסינ יבא</td>\n",
       "    </tr>\n",
       "  </tbody>\n",
       "</table>\n",
       "</div>"
      ],
      "text/plain": [
       "        speaker  count speaker_reverse\n",
       "0      אבי גבאי      6        יאבג יבא\n",
       "1     אבי דיכטר      1       רטכיד יבא\n",
       "2  אבי ניסנקורן      3    ןרוקנסינ יבא"
      ]
     },
     "execution_count": 10,
     "metadata": {},
     "output_type": "execute_result"
    }
   ],
   "source": [
    "spaeker_dist.head(3)"
   ]
  },
  {
   "cell_type": "code",
   "execution_count": 11,
   "metadata": {},
   "outputs": [
    {
     "ename": "NameError",
     "evalue": "name 'plt' is not defined",
     "output_type": "error",
     "traceback": [
      "\u001b[1;31m---------------------------------------------------------------------------\u001b[0m",
      "\u001b[1;31mNameError\u001b[0m                                 Traceback (most recent call last)",
      "\u001b[1;32m<ipython-input-11-0e01b5c8610e>\u001b[0m in \u001b[0;36m<module>\u001b[1;34m\u001b[0m\n\u001b[0;32m      2\u001b[0m \u001b[1;32mfrom\u001b[0m \u001b[0mbidi\u001b[0m \u001b[1;32mimport\u001b[0m \u001b[0malgorithm\u001b[0m \u001b[1;32mas\u001b[0m \u001b[0mbidialg\u001b[0m \u001b[1;31m#package for showing hebrew text right to left\u001b[0m\u001b[1;33m\u001b[0m\u001b[1;33m\u001b[0m\u001b[0m\n\u001b[0;32m      3\u001b[0m \u001b[1;33m\u001b[0m\u001b[0m\n\u001b[1;32m----> 4\u001b[1;33m \u001b[0mfig\u001b[0m\u001b[1;33m,\u001b[0m \u001b[0max\u001b[0m \u001b[1;33m=\u001b[0m \u001b[0mplt\u001b[0m\u001b[1;33m.\u001b[0m\u001b[0msubplots\u001b[0m\u001b[1;33m(\u001b[0m\u001b[1;33m)\u001b[0m\u001b[1;33m\u001b[0m\u001b[1;33m\u001b[0m\u001b[0m\n\u001b[0m\u001b[0;32m      5\u001b[0m \u001b[1;33m\u001b[0m\u001b[0m\n\u001b[0;32m      6\u001b[0m \u001b[0mspaeker_dist\u001b[0m\u001b[1;33m.\u001b[0m\u001b[0mplot\u001b[0m\u001b[1;33m(\u001b[0m\u001b[0mx\u001b[0m\u001b[1;33m=\u001b[0m\u001b[1;34m'speaker_reverse'\u001b[0m\u001b[1;33m,\u001b[0m \u001b[0my\u001b[0m\u001b[1;33m=\u001b[0m\u001b[1;34m'count'\u001b[0m\u001b[1;33m,\u001b[0m\u001b[0mkind\u001b[0m\u001b[1;33m=\u001b[0m\u001b[1;34m'bar'\u001b[0m\u001b[1;33m,\u001b[0m\u001b[0max\u001b[0m\u001b[1;33m=\u001b[0m\u001b[0max\u001b[0m\u001b[1;33m,\u001b[0m\u001b[0mfigsize\u001b[0m\u001b[1;33m=\u001b[0m\u001b[1;33m(\u001b[0m\u001b[1;36m20\u001b[0m\u001b[1;33m,\u001b[0m\u001b[1;36m8\u001b[0m\u001b[1;33m)\u001b[0m\u001b[1;33m)\u001b[0m\u001b[1;33m\u001b[0m\u001b[1;33m\u001b[0m\u001b[0m\n",
      "\u001b[1;31mNameError\u001b[0m: name 'plt' is not defined"
     ]
    }
   ],
   "source": [
    "from matplotlib.pyplot import figure\n",
    "from bidi import algorithm as bidialg #package for showing hebrew text right to left\n",
    "\n",
    "fig, ax = plt.subplots()\n",
    "\n",
    "spaeker_dist.plot(x='speaker_reverse', y='count',kind='bar',ax=ax,figsize=(20,8))\n",
    "\n",
    "\n",
    "plt.figure(figsize=(10,10))\n",
    "fig.tight_layout()\n",
    "#mpld3.display(fig)"
   ]
  },
  {
   "cell_type": "code",
   "execution_count": 22,
   "metadata": {},
   "outputs": [
    {
     "data": {
      "image/png": "[encoded data removed]",
      "text/plain": [
       "<Figure size 1440x640 with 2 Axes>"
      ]
     },
     "metadata": {},
     "output_type": "display_data"
    }
   ],
   "source": [
    "figure(num=None, figsize=(18, 8), dpi=80, facecolor='w', edgecolor='k')\n",
    "\n",
    "plt.subplot(1, 2, 1)\n",
    "\n",
    "#pie chart number of statements distribution\n",
    "speaker_dist_grouped=spaeker_dist.groupby(['count'])['count'].count().reset_index(name='Num_of_speakers')\n",
    "#figure(num=None, figsize=(8, 8), dpi=80, facecolor='w', edgecolor='k')\n",
    "pie(speaker_dist_grouped['Num_of_speakers'],labels=speaker_dist_grouped['count'])\n",
    "plt.title('number of statements distribution')\n",
    "\n",
    "\n",
    "\n",
    "plt.subplot(1, 2, 2)\n",
    "\n",
    "#bining the data count\n",
    "speaker_dist_stand=spaeker_dist.copy()\n",
    "speaker_dist_stand.loc[speaker_dist_stand['count']<=5,'count']=5\n",
    "speaker_dist_stand.loc[(speaker_dist_stand['count']<=10) &  (speaker_dist_stand['count']>5),'count']=10\n",
    "speaker_dist_stand.loc[(speaker_dist_stand['count']<=15) &  (speaker_dist_stand['count']>10),'count']=15\n",
    "plt.title('statement distribution after bining')\n",
    "\n",
    "\n",
    "speaker_dist_stand_grouped=speaker_dist_stand.groupby(['count'])['count'].count().reset_index(name='Num_of_speakers')\n",
    "\n",
    "\n",
    "#plot\n",
    "#figure(num=None, figsize=(8, 8), dpi=80, facecolor='w', edgecolor='k')\n",
    "pie(speaker_dist_stand_grouped['Num_of_speakers'],labels=speaker_dist_stand_grouped['count'])\n",
    "\n",
    "show()"
   ]
  },
  {
   "cell_type": "code",
   "execution_count": 23,
   "metadata": {},
   "outputs": [
    {
     "data": {
      "text/html": [
       "<div>\n",
       "<style scoped>\n",
       "    .dataframe tbody tr th:only-of-type {\n",
       "        vertical-align: middle;\n",
       "    }\n",
       "\n",
       "    .dataframe tbody tr th {\n",
       "        vertical-align: top;\n",
       "    }\n",
       "\n",
       "    .dataframe thead th {\n",
       "        text-align: right;\n",
       "    }\n",
       "</style>\n",
       "<table border=\"1\" class=\"dataframe\">\n",
       "  <thead>\n",
       "    <tr style=\"text-align: right;\">\n",
       "      <th></th>\n",
       "      <th>speaker</th>\n",
       "      <th>score</th>\n",
       "      <th>count</th>\n",
       "    </tr>\n",
       "  </thead>\n",
       "  <tbody>\n",
       "    <tr>\n",
       "      <th>0</th>\n",
       "      <td>אבי גבאי</td>\n",
       "      <td>half true</td>\n",
       "      <td>2</td>\n",
       "    </tr>\n",
       "    <tr>\n",
       "      <th>1</th>\n",
       "      <td>אבי גבאי</td>\n",
       "      <td>mostly untrue</td>\n",
       "      <td>1</td>\n",
       "    </tr>\n",
       "    <tr>\n",
       "      <th>2</th>\n",
       "      <td>אבי גבאי</td>\n",
       "      <td>untrue</td>\n",
       "      <td>3</td>\n",
       "    </tr>\n",
       "    <tr>\n",
       "      <th>3</th>\n",
       "      <td>אבי דיכטר</td>\n",
       "      <td>TRUE</td>\n",
       "      <td>1</td>\n",
       "    </tr>\n",
       "  </tbody>\n",
       "</table>\n",
       "</div>"
      ],
      "text/plain": [
       "     speaker          score  count\n",
       "0   אבי גבאי      half true      2\n",
       "1   אבי גבאי  mostly untrue      1\n",
       "2   אבי גבאי         untrue      3\n",
       "3  אבי דיכטר           TRUE      1"
      ]
     },
     "execution_count": 23,
     "metadata": {},
     "output_type": "execute_result"
    }
   ],
   "source": [
    "#score per speaker :\n",
    "\n",
    "score_speaker_dist=full_ds.groupby(['speaker','score'])['speaker'].count().reset_index(name='count')\n",
    "score_speaker_dist.head(4)"
   ]
  },
  {
   "cell_type": "code",
   "execution_count": 24,
   "metadata": {},
   "outputs": [
    {
     "data": {
      "text/html": [
       "<div>\n",
       "<style scoped>\n",
       "    .dataframe tbody tr th:only-of-type {\n",
       "        vertical-align: middle;\n",
       "    }\n",
       "\n",
       "    .dataframe tbody tr th {\n",
       "        vertical-align: top;\n",
       "    }\n",
       "\n",
       "    .dataframe thead th {\n",
       "        text-align: right;\n",
       "    }\n",
       "</style>\n",
       "<table border=\"1\" class=\"dataframe\">\n",
       "  <thead>\n",
       "    <tr style=\"text-align: right;\">\n",
       "      <th></th>\n",
       "      <th>score</th>\n",
       "      <th>count</th>\n",
       "    </tr>\n",
       "  </thead>\n",
       "  <tbody>\n",
       "    <tr>\n",
       "      <th>0</th>\n",
       "      <td>TRUE</td>\n",
       "      <td>47</td>\n",
       "    </tr>\n",
       "    <tr>\n",
       "      <th>1</th>\n",
       "      <td>half true</td>\n",
       "      <td>41</td>\n",
       "    </tr>\n",
       "    <tr>\n",
       "      <th>2</th>\n",
       "      <td>misleading</td>\n",
       "      <td>5</td>\n",
       "    </tr>\n",
       "    <tr>\n",
       "      <th>3</th>\n",
       "      <td>mostly true</td>\n",
       "      <td>31</td>\n",
       "    </tr>\n",
       "    <tr>\n",
       "      <th>4</th>\n",
       "      <td>mostly untrue</td>\n",
       "      <td>57</td>\n",
       "    </tr>\n",
       "    <tr>\n",
       "      <th>5</th>\n",
       "      <td>untrue</td>\n",
       "      <td>78</td>\n",
       "    </tr>\n",
       "  </tbody>\n",
       "</table>\n",
       "</div>"
      ],
      "text/plain": [
       "           score  count\n",
       "0           TRUE     47\n",
       "1      half true     41\n",
       "2     misleading      5\n",
       "3    mostly true     31\n",
       "4  mostly untrue     57\n",
       "5         untrue     78"
      ]
     },
     "execution_count": 24,
     "metadata": {},
     "output_type": "execute_result"
    }
   ],
   "source": [
    "#how many distinct speaker we have for each category score \n",
    "score_speaker_dist.groupby(['score'])['count'].count().reset_index(name='count')"
   ]
  },
  {
   "cell_type": "markdown",
   "metadata": {},
   "source": [
    "it can be seen that almost 65% from the speakers has 'untrue' statements\n",
    "it can be seen that almost 65% from the speakers has 'untrue' statements\n",
    "it can be seen that almost 65% from the speakers has 'untrue' statements\n",
    "it can be seen that almost 65% from the speakers has 'untrue' statements\n",
    "it can be seen that almost 65% from the speakers has 'untrue' statements\n"
   ]
  },
  {
   "cell_type": "code",
   "execution_count": 85,
   "metadata": {},
   "outputs": [],
   "source": [
    "true_list=score_speaker_dist[score_speaker_dist.score=='TRUE'][['speaker']].speaker.to_dict()\n",
    "true_set=set(true_list.values())\n",
    "\n",
    "\n",
    "half_true_list=score_speaker_dist[score_speaker_dist.score=='half true'][['speaker']].speaker.to_dict()\n",
    "half_true_set=set(half_true_list.values())\n",
    "\n",
    "misleading_list=score_speaker_dist[score_speaker_dist.score=='misleading'][['speaker']].speaker.to_dict()\n",
    "misleading_set=set(misleading_list.values())\n",
    "\n",
    "\n",
    "mostly_true_list=score_speaker_dist[score_speaker_dist.score=='mostly true'][['speaker']].speaker.to_dict()\n",
    "mostly_true_set=set(mostly_true_list.values())\n",
    "\n",
    "\n",
    "mostly_untrue_list=score_speaker_dist[score_speaker_dist.score=='mostly untrue'][['speaker']].speaker.to_dict()\n",
    "mostly_untrue_set=set(mostly_untrue_list.values())\n",
    "\n",
    "untrue_list=score_speaker_dist[score_speaker_dist.score=='untrue'][['speaker']].speaker.to_dict()\n",
    "untrue_set=set(untrue_list.values())"
   ]
  },
  {
   "cell_type": "code",
   "execution_count": 107,
   "metadata": {},
   "outputs": [
    {
     "data": {
      "text/plain": [
       "<matplotlib.axes._subplots.AxesSubplot at 0x1fb851c5908>"
      ]
     },
     "execution_count": 107,
     "metadata": {},
     "output_type": "execute_result"
    },
    {
     "data": {
      "image/png": "[encoded data removed]",
      "text/plain": [
       "<Figure size 720x720 with 1 Axes>"
      ]
     },
     "metadata": {},
     "output_type": "display_data"
    }
   ],
   "source": [
    "from venn import venn\n",
    "from venn import pseudovenn\n",
    "\n",
    "%matplotlib inline\n",
    "\n",
    "score_sets = {\n",
    "    \"untrue_set\":untrue_set,\n",
    "    \"mostly_untrue_set\": mostly_untrue_set,\n",
    "    \"mostly_true_set\": mostly_true_set,\n",
    "    \"misleading_set\": misleading_set,\n",
    "    \"half_true_set\" : half_true_set,\n",
    "    \"true_set\":true_set\n",
    "}\n",
    "\n",
    "pseudovenn(score_sets, cmap=\"plasma\",fmt=\"{size}\\n{percentage:.1f}%\",hint_hidden=False,figsize=(10, 10),legend_loc=\"best\")"
   ]
  },
  {
   "cell_type": "code",
   "execution_count": 153,
   "metadata": {},
   "outputs": [
    {
     "name": "stdout",
     "output_type": "stream",
     "text": [
      "number of total unique speakers in this diagram is 121 of 121 speakers total\n"
     ]
    },
    {
     "data": {
      "image/png": "[encoded data removed]",
      "text/plain": [
       "<Figure size 360x360 with 1 Axes>"
      ]
     },
     "metadata": {},
     "output_type": "display_data"
    }
   ],
   "source": [
    "# venn diagram with bins for scores: { True true_set+mostly_true_set: ,Untrue: untrue_set+mostly_untrue_set,half_true_set,misleading_set}\n",
    "#new bins sets \n",
    "from venn import venn\n",
    "from venn import pseudovenn\n",
    "\n",
    "%matplotlib inline\n",
    "true_bin_set=true_set.union(mostly_true_set).union(half_true_set)\n",
    "untrue_bin_set=untrue_set.union(mostly_untrue_set).union(misleading_set)\n",
    "\n",
    "\n",
    "bins_score_sets = {\n",
    "    \"true_bin_set\":true_bin_set,\n",
    "    \"untrue_bin_set\": untrue_bin_set\n",
    "}\n",
    "\n",
    "venn(bins_score_sets, cmap=\"plasma\",fmt=\"{size}\\n{percentage:.1f}%\",hint_hidden=False,figsize=(5, 5),legend_loc=\"best\")\n",
    "unique_speakers=true_bin_set.union(untrue_bin_set)\n",
    "print('number of total unique speakers in this diagram is {} of 121 speakers total'.format(len(unique_speakers)))"
   ]
  },
  {
   "cell_type": "markdown",
   "metadata": {},
   "source": [
    "## 2.2 gender distribution"
   ]
  },
  {
   "cell_type": "code",
   "execution_count": 234,
   "metadata": {},
   "outputs": [
    {
     "data": {
      "text/plain": [
       "<matplotlib.axes._subplots.AxesSubplot at 0x1fb8e456cc0>"
      ]
     },
     "execution_count": 234,
     "metadata": {},
     "output_type": "execute_result"
    },
    {
     "data": {
      "image/png": "[encoded data removed]",
      "text/plain": [
       "<Figure size 720x288 with 2 Axes>"
      ]
     },
     "metadata": {},
     "output_type": "display_data"
    }
   ],
   "source": [
    "fig, ax =plt.subplots(1,2,figsize=(10,4))\n",
    "\n",
    "#statements by gender : male vs female\n",
    "gender_dist=full_ds.groupby(['gender'])['gender'].count().reset_index(name='count_of_stmt')\n",
    "sns.barplot(x='gender',y='count_of_stmt',data=gender_dist,ax=ax[0])\n",
    "\n",
    "#distinct speakers by gender : male vs female \n",
    "distinct_speaker_gender=full_ds[['speaker','gender']].drop_duplicates()\n",
    "distinct_speaker_gender=distinct_speaker_gender.groupby(['gender'])['gender'].count().reset_index(name='count_of_speakers')\n",
    "sns.barplot(x='gender',y='count_of_speakers',data=distinct_speaker_gender,ax=ax[1])\n"
   ]
  },
  {
   "cell_type": "markdown",
   "metadata": {},
   "source": [
    "## 2.2.1 who lie the most? "
   ]
  },
  {
   "cell_type": "code",
   "execution_count": 248,
   "metadata": {},
   "outputs": [
    {
     "data": {
      "image/png": "[encoded data removed]",
      "text/plain": [
       "<Figure size 720x288 with 2 Axes>"
      ]
     },
     "metadata": {},
     "output_type": "display_data"
    }
   ],
   "source": [
    "fig, ax =plt.subplots(1,2,figsize=(10,4))\n",
    "\n",
    "score_gender=full_ds.groupby(['gender','score']).size().reset_index(name='count')\n",
    "sns.catplot(x=\"gender\", y=\"count\", hue=\"score\", kind=\"bar\", data=score_gender,hue_order=['TRUE','mostly true','half true','misleading','mostly untrue','untrue'],ax=ax[0])\n",
    "\n",
    "\n",
    "#create full_ds with bins for scores \n",
    "full_ds_score_bins=full_ds.copy()\n",
    "full_ds_score_bins.loc[full_ds_score_bins['score']=='half true','score']='TRUE'\n",
    "full_ds_score_bins.loc[full_ds_score_bins['score']=='mostly true','score']='TRUE'\n",
    "\n",
    "full_ds_score_bins.loc[full_ds_score_bins['score']=='misleading','score']='untrue'\n",
    "full_ds_score_bins.loc[full_ds_score_bins['score']=='mostly untrue','score']='untrue'\n",
    "\n",
    "score_gender_bins=full_ds_score_bins.groupby(['gender','score']).size().reset_index(name='count')\n",
    "sns.catplot(x=\"gender\", y=\"count\", hue=\"score\", kind=\"bar\", data=score_gender_bins,palette=['g','r'],ax=ax[1])\n",
    "\n",
    "plt.close(2)\n",
    "plt.close(3)\n",
    "plt.show()"
   ]
  },
  {
   "cell_type": "markdown",
   "metadata": {},
   "source": [
    " as we can see the feamle statements concerning the \"pure\" TRUE and \"pure\" UNTRUE is relatively balanced\n",
    " in contrast to male statements."
   ]
  },
  {
   "cell_type": "markdown",
   "metadata": {},
   "source": [
    "## 2.3 media distribution  "
   ]
  },
  {
   "cell_type": "code",
   "execution_count": 12,
   "metadata": {},
   "outputs": [],
   "source": [
    "media_dist=full_ds.groupby('media').size().reset_index(name='count')\n",
    "media_dist=media_dist.replace(regex=[r'^רדיו.*$',r'^גל.צ.*',r'^גלי.*',r'.*FM.*',r'כאן ב.*',r'.*רק\"ע.*',r'.*מורשת.*'],value='Radio')\n",
    "media_dist=media_dist.replace(regex=[r'^ערוץ.*',r'רשת',r'.*אולפן.*',r'חברת החדשות',r'קשת',r'כאן 11',r'פגוש את העיתונות'],value='TV')\n",
    "media_dist=media_dist.replace(regex=[r'טוויטר',r'פייסבוק'],value='Social Media')\n",
    "media_dist=media_dist.replace(regex=[r'ידיעות אחרונות',r'דה-מרקר',r'הארץ',r'גלובס',r'הודעה לעיתונות',r'כלכליסט'],value='Print Newspapers')\n",
    "media_dist=media_dist.replace(regex=[r'נאום',r'.*כנסת.*',r'כנס',r'.*וואלה.*',r'.*ועידת.*',r'.*מסיבת.*'],value='Other')\n",
    "\n",
    "\n",
    "#media_dist=media_dist.groupby('media')['count'].sum().reset_index(name='count')\n"
   ]
  },
  {
   "cell_type": "code",
   "execution_count": 250,
   "metadata": {},
   "outputs": [
    {
     "data": {
      "text/plain": [
       "<matplotlib.axes._subplots.AxesSubplot at 0x1fb8de5ed68>"
      ]
     },
     "execution_count": 250,
     "metadata": {},
     "output_type": "execute_result"
    },
    {
     "data": {
      "image/png": "[encoded data removed]",
      "text/plain": [
       "<Figure size 720x307.44 with 1 Axes>"
      ]
     },
     "metadata": {},
     "output_type": "display_data"
    }
   ],
   "source": [
    "sns.set(rc={'figure.figsize':(10,4.27)})\n",
    "sns.barplot(x='media',y='count',data=media_dist)"
   ]
  },
  {
   "cell_type": "markdown",
   "metadata": {},
   "source": [
    "## 2.3.1 distribution by statements spoken vs. written"
   ]
  },
  {
   "cell_type": "code",
   "execution_count": 20,
   "metadata": {},
   "outputs": [],
   "source": [
    "#create csv with new column , written or spoken\n",
    "\n",
    "#first stage\n",
    "full_ds=full_ds.replace(regex=[r'^רדיו.*$',r'^גל.צ.*',r'^גלי.*',r'.*FM.*',r'כאן ב.*',r'.*רק\"ע.*',r'.*מורשת.*'],value='Radio')\n",
    "full_ds=full_ds.replace(regex=[r'^ערוץ.*',r'רשת',r'.*אולפן.*',r'חברת החדשות',r'קשת',r'כאן 11',r'פגוש את העיתונות'],value='TV')\n",
    "full_ds=full_ds.replace(regex=[r'טוויטר',r'פייסבוק'],value='Social Media')\n",
    "full_ds=full_ds.replace(regex=[r'ידיעות אחרונות',r'דה-מרקר',r'הארץ',r'גלובס',r'הודעה לעיתונות',r'כלכליסט'],value='Print Newspapers')\n",
    "full_ds=full_ds.replace(regex=[r'נאום',r'.*כנסת.*',r'כנס',r'.*וואלה.*',r'.*ועידת.*',r'.*מסיבת.*'],value='Other')\n",
    "\n",
    "#second stage\n",
    "full_ds=full_ds.replace(regex=[r'Radio',r'TV',r'Other'],value='spoken')\n",
    "full_ds=full_ds.replace(regex=[r'Social Media'],value='written')\n",
    "full_ds=full_ds.replace(regex=[r'Print Newspapers'],value='other')\n",
    "\n"
   ]
  },
  {
   "cell_type": "code",
   "execution_count": 29,
   "metadata": {},
   "outputs": [],
   "source": [
    "full_ds[['media']].to_csv('media_type.csv',index=None)"
   ]
  },
  {
   "cell_type": "code",
   "execution_count": 13,
   "metadata": {},
   "outputs": [],
   "source": [
    "#group by text or spoken\n",
    "media_dist=media_dist.replace(regex=[r'Radio',r'TV',r'Other'],value='spoken')\n",
    "media_dist=media_dist.replace(regex=[r'Social Media'],value='written')\n",
    "media_dist=media_dist.replace(regex=[r'Print Newspapers'],value='other')\n",
    "\n",
    "media_dist=media_dist.groupby('media')['count'].sum().reset_index(name='count')\n",
    "sns.barplot(x='media',y='count',data=media_dist)"
   ]
  },
  {
   "cell_type": "code",
   "execution_count": 14,
   "metadata": {},
   "outputs": [
    {
     "data": {
      "text/html": [
       "<div>\n",
       "<style scoped>\n",
       "    .dataframe tbody tr th:only-of-type {\n",
       "        vertical-align: middle;\n",
       "    }\n",
       "\n",
       "    .dataframe tbody tr th {\n",
       "        vertical-align: top;\n",
       "    }\n",
       "\n",
       "    .dataframe thead th {\n",
       "        text-align: right;\n",
       "    }\n",
       "</style>\n",
       "<table border=\"1\" class=\"dataframe\">\n",
       "  <thead>\n",
       "    <tr style=\"text-align: right;\">\n",
       "      <th></th>\n",
       "      <th>media</th>\n",
       "      <th>count</th>\n",
       "    </tr>\n",
       "  </thead>\n",
       "  <tbody>\n",
       "    <tr>\n",
       "      <th>0</th>\n",
       "      <td>spoken</td>\n",
       "      <td>28</td>\n",
       "    </tr>\n",
       "    <tr>\n",
       "      <th>1</th>\n",
       "      <td>other</td>\n",
       "      <td>12</td>\n",
       "    </tr>\n",
       "    <tr>\n",
       "      <th>2</th>\n",
       "      <td>spoken</td>\n",
       "      <td>272</td>\n",
       "    </tr>\n",
       "    <tr>\n",
       "      <th>3</th>\n",
       "      <td>written</td>\n",
       "      <td>72</td>\n",
       "    </tr>\n",
       "    <tr>\n",
       "      <th>4</th>\n",
       "      <td>spoken</td>\n",
       "      <td>93</td>\n",
       "    </tr>\n",
       "  </tbody>\n",
       "</table>\n",
       "</div>"
      ],
      "text/plain": [
       "     media  count\n",
       "0   spoken     28\n",
       "1    other     12\n",
       "2   spoken    272\n",
       "3  written     72\n",
       "4   spoken     93"
      ]
     },
     "execution_count": 14,
     "metadata": {},
     "output_type": "execute_result"
    }
   ],
   "source": [
    "media_dist"
   ]
  },
  {
   "cell_type": "markdown",
   "metadata": {},
   "source": [
    "## 2.3.2 score-written distribution"
   ]
  },
  {
   "cell_type": "code",
   "execution_count": 282,
   "metadata": {},
   "outputs": [],
   "source": [
    "full_ds_ext=full_ds.copy()\n",
    "full_ds_ext.loc[full_ds_ext.media.str.contains(r'^רדיו.*$|^גל.צ.*|^גלי.*|.*FM.*|כאן ב.*|.*רק\"ע.*|.*מורשת.*', na=False, regex=True), 'written'] = False\n",
    "full_ds_ext.loc[full_ds_ext.media.str.contains(r'^ערוץ.*|רשת|.*אולפן.*|חברת החדשות|קשת|כאן 11|פגוש את העיתונות', na=False, regex=True), 'written'] = False\n",
    "full_ds_ext.loc[full_ds_ext.media.str.contains(r'טוויטר|פייסבוק', na=False, regex=True), 'written'] = True\n",
    "full_ds_ext.loc[full_ds_ext.media.str.contains(r'ידיעות אחרונות|דה-מרקר|הארץ|גלובס|הודעה לעיתונות|כלכליסט', na=False, regex=True), 'written'] = False\n",
    "full_ds_ext.loc[full_ds_ext.media.str.contains(r'נאום|.*כנסת.*|כנס|.*וואלה.*|.*ועידת.*|.*מסיבת.*', na=False, regex=True), 'written'] = False"
   ]
  },
  {
   "cell_type": "code",
   "execution_count": 284,
   "metadata": {},
   "outputs": [
    {
     "data": {
      "text/plain": [
       "<seaborn.axisgrid.FacetGrid at 0x1fb8bb9f710>"
      ]
     },
     "execution_count": 284,
     "metadata": {},
     "output_type": "execute_result"
    },
    {
     "data": {
      "image/png": "[encoded data removed]",
      "text/plain": [
       "<Figure size 465.85x360 with 1 Axes>"
      ]
     },
     "metadata": {},
     "output_type": "display_data"
    }
   ],
   "source": [
    "written_score_dist=full_ds_ext.groupby(['score','written']).size().reset_index(name='count')\n",
    "sns.catplot(x=\"written\", y=\"count\", hue=\"score\", kind=\"bar\", data=written_score_dist,hue_order=['TRUE','mostly true','half true','misleading','mostly untrue','untrue'])"
   ]
  },
  {
   "cell_type": "markdown",
   "metadata": {},
   "source": [
    "## 2.4 statement by score aka labels "
   ]
  },
  {
   "cell_type": "code",
   "execution_count": 71,
   "metadata": {},
   "outputs": [
    {
     "data": {
      "text/plain": [
       "<matplotlib.axes._subplots.AxesSubplot at 0x1dcdb2b5278>"
      ]
     },
     "execution_count": 71,
     "metadata": {},
     "output_type": "execute_result"
    },
    {
     "data": {
      "image/png": "[encoded data removed]",
      "text/plain": [
       "<Figure size 626.4x595.44 with 1 Axes>"
      ]
     },
     "metadata": {},
     "output_type": "display_data"
    }
   ],
   "source": [
    "#score analyze\n",
    "score_dist=full_ds.groupby(['score'])['score'].count().reset_index(name='count')\n",
    "sns.set(rc={'figure.figsize':(8.7,8.27)})\n",
    "sns.barplot(x='score',y='count',data=score_dist,order=['TRUE','mostly true','half true','misleading','mostly untrue','untrue'])"
   ]
  }
 ],
 "metadata": {
  "kernelspec": {
   "display_name": "Python 3",
   "language": "python",
   "name": "python3"
  },
  "language_info": {
   "codemirror_mode": {
    "name": "ipython",
    "version": 3
   },
   "file_extension": ".py",
   "mimetype": "text/x-python",
   "name": "python",
   "nbconvert_exporter": "python",
   "pygments_lexer": "ipython3",
   "version": "3.7.1"
  }
 },
 "nbformat": 4,
 "nbformat_minor": 4
}
