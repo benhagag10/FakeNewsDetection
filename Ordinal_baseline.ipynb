{
 "cells": [
  {
   "cell_type": "code",
   "execution_count": 1,
   "metadata": {},
   "outputs": [],
   "source": [
    "import pandas as pd\n",
    "from sklearn.linear_model import LogisticRegression\n",
    "from sklearn.metrics import accuracy_score, confusion_matrix,precision_score,recall_score,classification_report,roc_auc_score,f1_score,precision_recall_fscore_support\n",
    "from model_statistics_func import plot_confusion_matrix,get_feature_importance\n",
    "\n",
    "from sklearn.model_selection import StratifiedKFold\n",
    "from sklearn.model_selection import StratifiedKFold,RepeatedStratifiedKFold\n",
    "\n",
    "\n",
    "import warnings\n",
    "warnings.filterwarnings(\"ignore\")\n",
    "import pandas as pd\n",
    "import numpy as np\n",
    "import matplotlib\n",
    "%matplotlib inline\n",
    "\n",
    "import statsmodels.api as st\n",
    "from matplotlib import pyplot as plt\n",
    "import seaborn as sns\n",
    "\n",
    "from sklearn.linear_model import LogisticRegression as LR\n",
    "#import sklearn.cross_validation as skcv\n",
    "import sklearn.model_selection\n",
    "from sklearn.model_selection import cross_validate as skcv\n",
    "\n",
    "#from pandas_ml import ConfusionMatrix\n",
    "from sklearn.model_selection import StratifiedKFold\n",
    "\n",
    "from IPython.display import display, HTML\n",
    "\n",
    "from sklearn.model_selection import train_test_split\n",
    "\n",
    "\n",
    "from sklearn.preprocessing import MinMaxScaler\n",
    "from sklearn.preprocessing import normalize\n"
   ]
  },
  {
   "cell_type": "markdown",
   "metadata": {},
   "source": [
    "# ordinal classification approach - Baseline\n",
    "#### based on this paper https://www.cs.waikato.ac.nz/~eibe/pubs/ordinal_tech_report.pdf\n",
    "https://github.com/sarvothaman/ordinal-classification/blob/master/ordinal-classification.ipynb"
   ]
  },
  {
   "cell_type": "markdown",
   "metadata": {},
   "source": [
    "1. Create \"dummy\" fields, one for each quality we are considering leving out the last quality (8)\n",
    "2. Set this dummy field to 1, if the current quality is greater than the quality which the field represents\n",
    "    Eg: Row with quality 6 has the following fields (gt_4 =1, gt_5=1, gt_6=0, gt_7=0)\n",
    "3. Build one regular logistic model for each dummy field. Each of these models will be able to predict the probability of current quality  being greater than a quality which the model is built for\n",
    "4. Use following formula to calculate probability of each quality"
   ]
  },
  {
   "cell_type": "markdown",
   "metadata": {},
   "source": [
    "# step 0"
   ]
  },
  {
   "cell_type": "code",
   "execution_count": 2,
   "metadata": {},
   "outputs": [],
   "source": [
    "#load dataset\n",
    "raw_dataset=pd.read_pickle('dataset.pkl')\n",
    "def convert_numeric_score_to_cat(score_code):\n",
    "    score_dict={0:'TRUE',0.2:'mostly_true',0.5:'half_true',0.7:'misleading',0.8:'mostly_untrue',1:'untrue'}\n",
    "    return score_dict.get(score_code)\n",
    "\n",
    "raw_dataset['score']=raw_dataset['score_code'].apply(lambda x: convert_numeric_score_to_cat(x))\n",
    "raw_dataset.drop('score_code',axis=1,inplace=True)\n",
    "#remove missleading\n",
    "raw_dataset=raw_dataset[raw_dataset.score!='misleading']"
   ]
  },
  {
   "cell_type": "markdown",
   "metadata": {},
   "source": [
    "# step 1 + 2 "
   ]
  },
  {
   "cell_type": "code",
   "execution_count": 3,
   "metadata": {},
   "outputs": [],
   "source": [
    "fields=['untrue','mostly untrue','half true','mostly true','TRUE']"
   ]
  },
  {
   "cell_type": "code",
   "execution_count": 4,
   "metadata": {},
   "outputs": [],
   "source": [
    "%%capture\n",
    "raw_dataset[\"gt_TRUE_class\"]=0\n",
    "raw_dataset.ix[(raw_dataset.score!='TRUE'),'gt_TRUE_class']=1\n",
    "\n",
    "\n",
    "raw_dataset[\"gt_mostly_true_class\"]=0\n",
    "raw_dataset.ix[(raw_dataset.score=='half_true')|(raw_dataset.score=='mostly_untrue')|(raw_dataset.score=='untrue'),'gt_mostly_true_class']=1\n",
    "\n",
    "\n",
    "raw_dataset[\"gt_half_true_class\"]=0\n",
    "raw_dataset.ix[(raw_dataset.score=='mostly_untrue')|(raw_dataset.score=='untrue'),'gt_half_true_class']=1\n",
    "\n",
    "\n",
    "raw_dataset[\"gt_mostly_untrue_class\"]=0\n",
    "raw_dataset.ix[(raw_dataset.score=='untrue'),'gt_mostly_untrue_class']=1\n"
   ]
  },
  {
   "cell_type": "markdown",
   "metadata": {},
   "source": [
    "# step 3"
   ]
  },
  {
   "cell_type": "code",
   "execution_count": 5,
   "metadata": {},
   "outputs": [],
   "source": [
    "X = raw_dataset[raw_dataset.columns[:-5].to_list() + [\"gt_TRUE_class\",\"gt_mostly_true_class\",\"gt_half_true_class\",\"gt_mostly_untrue_class\"]]\n",
    "y  = raw_dataset['score']\n",
    "X.reset_index(drop=True, inplace=True)\n",
    "y.reset_index(drop=True, inplace=True)\n"
   ]
  },
  {
   "cell_type": "code",
   "execution_count": 6,
   "metadata": {},
   "outputs": [],
   "source": [
    "#train kfolds\n",
    "n_splits=5\n",
    "n_repeats=10"
   ]
  },
  {
   "cell_type": "code",
   "execution_count": 188,
   "metadata": {},
   "outputs": [
    {
     "data": {
      "text/html": [
       "<div>\n",
       "<style scoped>\n",
       "    .dataframe tbody tr th:only-of-type {\n",
       "        vertical-align: middle;\n",
       "    }\n",
       "\n",
       "    .dataframe tbody tr th {\n",
       "        vertical-align: top;\n",
       "    }\n",
       "\n",
       "    .dataframe thead th {\n",
       "        text-align: right;\n",
       "    }\n",
       "</style>\n",
       "<table border=\"1\" class=\"dataframe\">\n",
       "  <thead>\n",
       "    <tr style=\"text-align: right;\">\n",
       "      <th></th>\n",
       "      <th>word_count</th>\n",
       "      <th>distinct_word_count</th>\n",
       "      <th>avg_chars_per_word</th>\n",
       "      <th>TTR</th>\n",
       "      <th>Flesch_Kincaid</th>\n",
       "      <th>h_hayedia_count</th>\n",
       "      <th>syllabls_count</th>\n",
       "      <th>uncertainty_words_usage</th>\n",
       "      <th>first_names_usage</th>\n",
       "      <th>last_names_usage</th>\n",
       "      <th>...</th>\n",
       "      <th>IMPERATIVE</th>\n",
       "      <th>qoutes_count</th>\n",
       "      <th>hashtag_count</th>\n",
       "      <th>positive_semantic</th>\n",
       "      <th>negative_semantic</th>\n",
       "      <th>objective_semantic</th>\n",
       "      <th>gt_TRUE_class</th>\n",
       "      <th>gt_mostly_true_class</th>\n",
       "      <th>gt_half_true_class</th>\n",
       "      <th>gt_mostly_untrue_class</th>\n",
       "    </tr>\n",
       "  </thead>\n",
       "  <tbody>\n",
       "    <tr>\n",
       "      <th>0</th>\n",
       "      <td>18</td>\n",
       "      <td>18</td>\n",
       "      <td>4.388889</td>\n",
       "      <td>1.000000</td>\n",
       "      <td>62.758571</td>\n",
       "      <td>0.040000</td>\n",
       "      <td>34</td>\n",
       "      <td>0</td>\n",
       "      <td>4</td>\n",
       "      <td>3</td>\n",
       "      <td>...</td>\n",
       "      <td>0</td>\n",
       "      <td>0</td>\n",
       "      <td>0</td>\n",
       "      <td>0.980871</td>\n",
       "      <td>0.012410</td>\n",
       "      <td>0.006719</td>\n",
       "      <td>1</td>\n",
       "      <td>1</td>\n",
       "      <td>1</td>\n",
       "      <td>1</td>\n",
       "    </tr>\n",
       "    <tr>\n",
       "      <th>1</th>\n",
       "      <td>57</td>\n",
       "      <td>52</td>\n",
       "      <td>4.052632</td>\n",
       "      <td>0.912281</td>\n",
       "      <td>23.543135</td>\n",
       "      <td>0.072289</td>\n",
       "      <td>121</td>\n",
       "      <td>0</td>\n",
       "      <td>3</td>\n",
       "      <td>6</td>\n",
       "      <td>...</td>\n",
       "      <td>0</td>\n",
       "      <td>0</td>\n",
       "      <td>0</td>\n",
       "      <td>0.615095</td>\n",
       "      <td>0.309213</td>\n",
       "      <td>0.075692</td>\n",
       "      <td>1</td>\n",
       "      <td>1</td>\n",
       "      <td>0</td>\n",
       "      <td>0</td>\n",
       "    </tr>\n",
       "    <tr>\n",
       "      <th>2</th>\n",
       "      <td>31</td>\n",
       "      <td>26</td>\n",
       "      <td>3.838710</td>\n",
       "      <td>0.838710</td>\n",
       "      <td>21.447143</td>\n",
       "      <td>0.088889</td>\n",
       "      <td>62</td>\n",
       "      <td>0</td>\n",
       "      <td>3</td>\n",
       "      <td>1</td>\n",
       "      <td>...</td>\n",
       "      <td>0</td>\n",
       "      <td>0</td>\n",
       "      <td>0</td>\n",
       "      <td>0.054728</td>\n",
       "      <td>0.894451</td>\n",
       "      <td>0.050821</td>\n",
       "      <td>1</td>\n",
       "      <td>1</td>\n",
       "      <td>0</td>\n",
       "      <td>0</td>\n",
       "    </tr>\n",
       "    <tr>\n",
       "      <th>3</th>\n",
       "      <td>32</td>\n",
       "      <td>32</td>\n",
       "      <td>4.000000</td>\n",
       "      <td>1.000000</td>\n",
       "      <td>19.895000</td>\n",
       "      <td>0.106383</td>\n",
       "      <td>64</td>\n",
       "      <td>0</td>\n",
       "      <td>4</td>\n",
       "      <td>5</td>\n",
       "      <td>...</td>\n",
       "      <td>0</td>\n",
       "      <td>0</td>\n",
       "      <td>0</td>\n",
       "      <td>0.766881</td>\n",
       "      <td>0.188297</td>\n",
       "      <td>0.044822</td>\n",
       "      <td>1</td>\n",
       "      <td>1</td>\n",
       "      <td>1</td>\n",
       "      <td>1</td>\n",
       "    </tr>\n",
       "    <tr>\n",
       "      <th>4</th>\n",
       "      <td>19</td>\n",
       "      <td>19</td>\n",
       "      <td>4.842105</td>\n",
       "      <td>1.000000</td>\n",
       "      <td>-0.076818</td>\n",
       "      <td>0.156250</td>\n",
       "      <td>48</td>\n",
       "      <td>0</td>\n",
       "      <td>0</td>\n",
       "      <td>2</td>\n",
       "      <td>...</td>\n",
       "      <td>0</td>\n",
       "      <td>0</td>\n",
       "      <td>0</td>\n",
       "      <td>0.994935</td>\n",
       "      <td>0.003275</td>\n",
       "      <td>0.001790</td>\n",
       "      <td>1</td>\n",
       "      <td>1</td>\n",
       "      <td>1</td>\n",
       "      <td>1</td>\n",
       "    </tr>\n",
       "    <tr>\n",
       "      <th>...</th>\n",
       "      <td>...</td>\n",
       "      <td>...</td>\n",
       "      <td>...</td>\n",
       "      <td>...</td>\n",
       "      <td>...</td>\n",
       "      <td>...</td>\n",
       "      <td>...</td>\n",
       "      <td>...</td>\n",
       "      <td>...</td>\n",
       "      <td>...</td>\n",
       "      <td>...</td>\n",
       "      <td>...</td>\n",
       "      <td>...</td>\n",
       "      <td>...</td>\n",
       "      <td>...</td>\n",
       "      <td>...</td>\n",
       "      <td>...</td>\n",
       "      <td>...</td>\n",
       "      <td>...</td>\n",
       "      <td>...</td>\n",
       "      <td>...</td>\n",
       "    </tr>\n",
       "    <tr>\n",
       "      <th>465</th>\n",
       "      <td>28</td>\n",
       "      <td>28</td>\n",
       "      <td>4.857143</td>\n",
       "      <td>1.000000</td>\n",
       "      <td>-18.638750</td>\n",
       "      <td>0.088889</td>\n",
       "      <td>73</td>\n",
       "      <td>0</td>\n",
       "      <td>2</td>\n",
       "      <td>2</td>\n",
       "      <td>...</td>\n",
       "      <td>0</td>\n",
       "      <td>0</td>\n",
       "      <td>0</td>\n",
       "      <td>0.079561</td>\n",
       "      <td>0.883846</td>\n",
       "      <td>0.036593</td>\n",
       "      <td>0</td>\n",
       "      <td>0</td>\n",
       "      <td>0</td>\n",
       "      <td>0</td>\n",
       "    </tr>\n",
       "    <tr>\n",
       "      <th>466</th>\n",
       "      <td>47</td>\n",
       "      <td>45</td>\n",
       "      <td>4.468085</td>\n",
       "      <td>0.957447</td>\n",
       "      <td>-10.013443</td>\n",
       "      <td>0.068493</td>\n",
       "      <td>119</td>\n",
       "      <td>0</td>\n",
       "      <td>3</td>\n",
       "      <td>9</td>\n",
       "      <td>...</td>\n",
       "      <td>0</td>\n",
       "      <td>0</td>\n",
       "      <td>0</td>\n",
       "      <td>0.858649</td>\n",
       "      <td>0.103828</td>\n",
       "      <td>0.037523</td>\n",
       "      <td>0</td>\n",
       "      <td>0</td>\n",
       "      <td>0</td>\n",
       "      <td>0</td>\n",
       "    </tr>\n",
       "    <tr>\n",
       "      <th>467</th>\n",
       "      <td>35</td>\n",
       "      <td>34</td>\n",
       "      <td>5.114286</td>\n",
       "      <td>0.971429</td>\n",
       "      <td>-10.357500</td>\n",
       "      <td>0.127273</td>\n",
       "      <td>91</td>\n",
       "      <td>0</td>\n",
       "      <td>1</td>\n",
       "      <td>4</td>\n",
       "      <td>...</td>\n",
       "      <td>0</td>\n",
       "      <td>0</td>\n",
       "      <td>0</td>\n",
       "      <td>0.991906</td>\n",
       "      <td>0.005280</td>\n",
       "      <td>0.002814</td>\n",
       "      <td>0</td>\n",
       "      <td>0</td>\n",
       "      <td>0</td>\n",
       "      <td>0</td>\n",
       "    </tr>\n",
       "    <tr>\n",
       "      <th>468</th>\n",
       "      <td>11</td>\n",
       "      <td>11</td>\n",
       "      <td>4.909091</td>\n",
       "      <td>1.000000</td>\n",
       "      <td>-27.366364</td>\n",
       "      <td>0.187500</td>\n",
       "      <td>29</td>\n",
       "      <td>0</td>\n",
       "      <td>0</td>\n",
       "      <td>2</td>\n",
       "      <td>...</td>\n",
       "      <td>0</td>\n",
       "      <td>0</td>\n",
       "      <td>0</td>\n",
       "      <td>0.166972</td>\n",
       "      <td>0.787908</td>\n",
       "      <td>0.045120</td>\n",
       "      <td>0</td>\n",
       "      <td>0</td>\n",
       "      <td>0</td>\n",
       "      <td>0</td>\n",
       "    </tr>\n",
       "    <tr>\n",
       "      <th>469</th>\n",
       "      <td>7</td>\n",
       "      <td>7</td>\n",
       "      <td>4.285714</td>\n",
       "      <td>1.000000</td>\n",
       "      <td>50.665000</td>\n",
       "      <td>0.166667</td>\n",
       "      <td>14</td>\n",
       "      <td>0</td>\n",
       "      <td>0</td>\n",
       "      <td>1</td>\n",
       "      <td>...</td>\n",
       "      <td>0</td>\n",
       "      <td>0</td>\n",
       "      <td>0</td>\n",
       "      <td>0.892135</td>\n",
       "      <td>0.087304</td>\n",
       "      <td>0.020561</td>\n",
       "      <td>0</td>\n",
       "      <td>0</td>\n",
       "      <td>0</td>\n",
       "      <td>0</td>\n",
       "    </tr>\n",
       "  </tbody>\n",
       "</table>\n",
       "<p>470 rows × 10880 columns</p>\n",
       "</div>"
      ],
      "text/plain": [
       "     word_count  distinct_word_count  avg_chars_per_word       TTR  \\\n",
       "0            18                   18            4.388889  1.000000   \n",
       "1            57                   52            4.052632  0.912281   \n",
       "2            31                   26            3.838710  0.838710   \n",
       "3            32                   32            4.000000  1.000000   \n",
       "4            19                   19            4.842105  1.000000   \n",
       "..          ...                  ...                 ...       ...   \n",
       "465          28                   28            4.857143  1.000000   \n",
       "466          47                   45            4.468085  0.957447   \n",
       "467          35                   34            5.114286  0.971429   \n",
       "468          11                   11            4.909091  1.000000   \n",
       "469           7                    7            4.285714  1.000000   \n",
       "\n",
       "     Flesch_Kincaid  h_hayedia_count  syllabls_count  uncertainty_words_usage  \\\n",
       "0         62.758571         0.040000              34                        0   \n",
       "1         23.543135         0.072289             121                        0   \n",
       "2         21.447143         0.088889              62                        0   \n",
       "3         19.895000         0.106383              64                        0   \n",
       "4         -0.076818         0.156250              48                        0   \n",
       "..              ...              ...             ...                      ...   \n",
       "465      -18.638750         0.088889              73                        0   \n",
       "466      -10.013443         0.068493             119                        0   \n",
       "467      -10.357500         0.127273              91                        0   \n",
       "468      -27.366364         0.187500              29                        0   \n",
       "469       50.665000         0.166667              14                        0   \n",
       "\n",
       "     first_names_usage  last_names_usage  ...  IMPERATIVE  qoutes_count  \\\n",
       "0                    4                 3  ...           0             0   \n",
       "1                    3                 6  ...           0             0   \n",
       "2                    3                 1  ...           0             0   \n",
       "3                    4                 5  ...           0             0   \n",
       "4                    0                 2  ...           0             0   \n",
       "..                 ...               ...  ...         ...           ...   \n",
       "465                  2                 2  ...           0             0   \n",
       "466                  3                 9  ...           0             0   \n",
       "467                  1                 4  ...           0             0   \n",
       "468                  0                 2  ...           0             0   \n",
       "469                  0                 1  ...           0             0   \n",
       "\n",
       "     hashtag_count  positive_semantic  negative_semantic  objective_semantic  \\\n",
       "0                0           0.980871           0.012410            0.006719   \n",
       "1                0           0.615095           0.309213            0.075692   \n",
       "2                0           0.054728           0.894451            0.050821   \n",
       "3                0           0.766881           0.188297            0.044822   \n",
       "4                0           0.994935           0.003275            0.001790   \n",
       "..             ...                ...                ...                 ...   \n",
       "465              0           0.079561           0.883846            0.036593   \n",
       "466              0           0.858649           0.103828            0.037523   \n",
       "467              0           0.991906           0.005280            0.002814   \n",
       "468              0           0.166972           0.787908            0.045120   \n",
       "469              0           0.892135           0.087304            0.020561   \n",
       "\n",
       "     gt_TRUE_class  gt_mostly_true_class  gt_half_true_class  \\\n",
       "0                1                     1                   1   \n",
       "1                1                     1                   0   \n",
       "2                1                     1                   0   \n",
       "3                1                     1                   1   \n",
       "4                1                     1                   1   \n",
       "..             ...                   ...                 ...   \n",
       "465              0                     0                   0   \n",
       "466              0                     0                   0   \n",
       "467              0                     0                   0   \n",
       "468              0                     0                   0   \n",
       "469              0                     0                   0   \n",
       "\n",
       "     gt_mostly_untrue_class  \n",
       "0                         1  \n",
       "1                         0  \n",
       "2                         0  \n",
       "3                         1  \n",
       "4                         1  \n",
       "..                      ...  \n",
       "465                       0  \n",
       "466                       0  \n",
       "467                       0  \n",
       "468                       0  \n",
       "469                       0  \n",
       "\n",
       "[470 rows x 10880 columns]"
      ]
     },
     "execution_count": 188,
     "metadata": {},
     "output_type": "execute_result"
    }
   ],
   "source": [
    "X"
   ]
  },
  {
   "cell_type": "code",
   "execution_count": 7,
   "metadata": {},
   "outputs": [
    {
     "data": {
      "text/plain": [
       "(470, 10880)"
      ]
     },
     "execution_count": 7,
     "metadata": {},
     "output_type": "execute_result"
    }
   ],
   "source": [
    "dst=X.to_numpy()\n",
    "dst.shape"
   ]
  },
  {
   "cell_type": "code",
   "execution_count": 8,
   "metadata": {},
   "outputs": [],
   "source": [
    "label=y.to_numpy()"
   ]
  },
  {
   "cell_type": "code",
   "execution_count": 14,
   "metadata": {},
   "outputs": [
    {
     "name": "stdout",
     "output_type": "stream",
     "text": [
      "results:\n",
      "precision:  0.25189828873130243\n",
      "recall:  0.3389361702127659\n",
      "fscore:  0.2822086274865515\n",
      "roc-auc:  0.5245462507315996\n"
     ]
    }
   ],
   "source": [
    "skf=RepeatedStratifiedKFold(n_splits=n_splits,n_repeats=n_repeats)\n",
    "skf.get_n_splits(dst,label)\n",
    "\n",
    "##trained model sum varibales\n",
    "precision_avg=0\n",
    "recall_score_avg=0\n",
    "f1_score_avg=0\n",
    "roc_auc_avg=0\n",
    "\n",
    "for train_index, test_index in skf.split(dst,label):\n",
    "    X_train, X_test = dst[train_index], dst[test_index]\n",
    "    y_train, y_test = label[train_index], label[test_index]\n",
    "    X_train= pd.DataFrame(data=X_train, index=[train_index], columns=list(X.columns))\n",
    "    X_test= pd.DataFrame(data=X_test, index=[test_index], columns=list(X.columns))\n",
    "\n",
    "    precision,recall,f_score,roc_auc=run_model(X_train,X_test,y_train,y_test)\n",
    "    precision_avg=precision_avg+precision\n",
    "    recall_score_avg=recall_score_avg+recall\n",
    "    f1_score_avg=f1_score_avg+f_score\n",
    "    roc_auc_avg=roc_auc_avg+roc_auc\n",
    "\n",
    "print('results:')\n",
    "print('precision: ', precision_avg/(n_splits*n_repeats))\n",
    "print('recall: ',recall_score_avg/(n_splits*n_repeats))\n",
    "print('fscore: ' ,f1_score_avg/(n_splits*n_repeats))\n",
    "print('roc-auc: ',roc_auc_avg/(n_splits*n_repeats))"
   ]
  },
  {
   "cell_type": "code",
   "execution_count": 9,
   "metadata": {},
   "outputs": [],
   "source": [
    "def run_model(X_train,X_test,y_train,y_test):\n",
    "    # Model for score > TRUE\n",
    "    logreg = LogisticRegression(class_weight='balanced')\n",
    "\n",
    "    logreg_TRUE_result=logreg.fit(X_train[X_train.columns.difference([\"gt_TRUE_class\",\"gt_mostly_true_class\",\"gt_half_true_class\",\n",
    "                                                                     \"gt_mostly_untrue_class\"])],X_train['gt_TRUE_class'])\n",
    "\n",
    "    TRUE_model=logreg_TRUE_result\n",
    "    X_test[\"TRUE_predictions\"]=logreg_TRUE_result.predict_proba(X_test[X_test.columns.difference\n",
    "                                                                         ([\"gt_TRUE_class\",\"gt_mostly_true_class\",\"gt_half_true_class\",\n",
    "                                                                           \"gt_mostly_untrue_class\"])])[:,1]\n",
    "\n",
    "    X_test[\"TRUE\"]=1 - X_test[\"TRUE_predictions\"]\n",
    "\n",
    "\n",
    "    # Model for score> mostly true\n",
    "    logreg_mostly_true_result=logreg.fit(X_train[X_train.columns.difference([\"gt_TRUE_class\",\"gt_mostly_true_class\",\"gt_half_true_class\",\n",
    "                                                                     \"gt_mostly_untrue_class\"])],X_train['gt_mostly_true_class'])\n",
    "\n",
    "\n",
    "    mostly_true_model=logreg_mostly_true_result\n",
    "    X_test[\"mostly_true_predictions\"]=logreg_mostly_true_result.predict_proba(X_test[X_test.columns.difference([\"gt_TRUE_class\",\"gt_mostly_true_class\",\n",
    "                                                                                                          \"gt_half_true_class\",\n",
    "                                                                                                          \"gt_mostly_untrue_class\",\n",
    "                                                                                                          \"TRUE\",\"TRUE_predictions\"])])[:,1]\n",
    "    X_test[\"mostly_true\"]= X_test[\"TRUE_predictions\"] - X_test[\"mostly_true_predictions\"]\n",
    "\n",
    "\n",
    "\n",
    "    # Model for score> half true\n",
    "    logreg_half_true_result=logreg.fit(X_train[X_train.columns.difference([\"gt_TRUE_class\",\"gt_mostly_true_class\",\"gt_half_true_class\",\n",
    "                                                                     \"gt_mostly_untrue_class\"])],X_train['gt_half_true_class'])\n",
    "\n",
    "\n",
    "    half_true_model=logreg_half_true_result\n",
    "    X_test[\"half_true_predictions\"]=logreg_half_true_result.predict_proba(X_test[X_test.columns.difference([ \"gt_TRUE_class\",\n",
    "                                                                                                      \"gt_mostly_true_class\",\n",
    "                                                                                                      \"gt_half_true_class\",\n",
    "                                                                                                      \"gt_mostly_untrue_class\",\n",
    "                                                                                                      \"TRUE\",\"TRUE_predictions\",\n",
    "                                                                                                      \"mostly_true\",\n",
    "                                                                                                      \"mostly_true_predictions\"])])[:,1]\n",
    "    X_test[\"half_true\"]= X_test[\"mostly_true_predictions\"] - X_test[\"half_true_predictions\"]\n",
    "\n",
    "\n",
    "    # Model for score> mostly untrue\n",
    "\n",
    "    logreg_mostly_untrue_result=logreg.fit(X_train[X_train.columns.difference([\"gt_TRUE_class\",\"gt_mostly_true_class\",\"gt_half_true_class\",\n",
    "                                                                     \"gt_mostly_untrue_class\"])],X_train['gt_mostly_untrue_class'])\n",
    "\n",
    "    mostly_untrue_model=logreg_mostly_untrue_result\n",
    "\n",
    "    X_test[\"mostly_untrue_predictions\"]=logreg_mostly_untrue_result.predict_proba(X_test[X_test.columns.difference([ \"gt_TRUE_class\",\n",
    "                                                                                                              \"gt_mostly_true_class\",\n",
    "                                                                                                              \"gt_half_true_class\",\n",
    "                                                                                                              \"gt_mostly_untrue_class\",\n",
    "                                                                                                              \"TRUE\",\"TRUE_predictions\",\"mostly_true\",\n",
    "                                                                                                              \"mostly_true_predictions\",\"half_true\",\n",
    "                                                                                                              \"half_true_predictions\"])])[:,1]\n",
    "    X_test[\"mostly_untrue\"]= X_test[\"half_true_predictions\"] - X_test[\"mostly_untrue_predictions\"]\n",
    "    X_test[\"untrue\"]= X_test[\"half_true_predictions\"]\n",
    "\n",
    "\n",
    "    X_test[\"assigned_class_prob\"]=X_test[[\"TRUE\",\"mostly_true\",\"half_true\",\"mostly_untrue\",\"untrue\"]].idxmax(axis=1)\n",
    "    #X_test[\"predicted_quality\"]=pd.to_numeric(X_test[\"assigned_class_prob\"].str[-1])\n",
    "\n",
    "    y_pred=X_test[\"assigned_class_prob\"]\n",
    "    y_score_numpy=X_test[[\"TRUE\",\"mostly_true\",\"half_true\",\"mostly_untrue\",\"untrue\"]].to_numpy()\n",
    "    y_score=get_yscore(y_score_numpy)\n",
    "    return model_results(y_test,y_pred,y_score)"
   ]
  },
  {
   "cell_type": "code",
   "execution_count": 10,
   "metadata": {},
   "outputs": [],
   "source": [
    "def get_yscore(y_score_numpy):\n",
    "\n",
    "    #min max scaler to avoid negative values\n",
    "    scaler = MinMaxScaler()\n",
    "    scaler.fit(y_score_numpy)\n",
    "    y_score_numpy=scaler.transform(y_score_numpy)\n",
    "\n",
    "    #normalize to sum up to 1 \n",
    "    y_score = normalize(y_score_numpy, axis=1, norm='l1')\n",
    "    return y_score"
   ]
  },
  {
   "cell_type": "code",
   "execution_count": 13,
   "metadata": {},
   "outputs": [],
   "source": [
    "def model_results(y_test,y_pred,y_score):\n",
    "    #print precision\n",
    "    precision=precision_score(y_test,y_pred,average='weighted')\n",
    "    #print recall\n",
    "    recall=recall_score(y_test, y_pred,average='weighted')\n",
    "    #print fscore\n",
    "    fscore=f1_score(y_test, y_pred,average='weighted')\n",
    "    #print roc-auc\n",
    "    rocauc=roc_auc_score(y_test,y_score,multi_class='ovr')\n",
    "    return precision,recall,fscore,rocauc"
   ]
  },
  {
   "cell_type": "code",
   "execution_count": 131,
   "metadata": {},
   "outputs": [],
   "source": []
  },
  {
   "cell_type": "code",
   "execution_count": 133,
   "metadata": {},
   "outputs": [
    {
     "name": "stdout",
     "output_type": "stream",
     "text": [
      "accuracy 0.3617021276595745\n",
      "               precision    recall  f1-score   support\n",
      "\n",
      "         TRUE       0.30      0.38      0.33        29\n",
      "    half_true       0.33      0.14      0.20        14\n",
      "  mostly_true       0.09      0.07      0.08        15\n",
      "mostly_untrue       0.00      0.00      0.00        26\n",
      "       untrue       0.43      0.65      0.51        57\n",
      "\n",
      "     accuracy                           0.36       141\n",
      "    macro avg       0.23      0.25      0.22       141\n",
      " weighted avg       0.28      0.36      0.30       141\n",
      "\n"
     ]
    }
   ],
   "source": [
    "print('accuracy %s' % accuracy_score(X_test[\"assigned_class_prob\"], y_test))\n",
    "print(classification_report(y_test, X_test[\"assigned_class_prob\"]))"
   ]
  },
  {
   "cell_type": "code",
   "execution_count": 134,
   "metadata": {},
   "outputs": [
    {
     "data": {
      "image/png": "[encoded data removed]",
      "text/plain": [
       "<Figure size 576x432 with 2 Axes>"
      ]
     },
     "metadata": {
      "needs_background": "light"
     },
     "output_type": "display_data"
    }
   ],
   "source": [
    "cm=confusion_matrix(y_test, X_test[\"assigned_class_prob\"])\n",
    "plot_confusion_matrix(cm,target_names=['TRUE','half_true','misleading','mostly_true','mostly_untrue','untrue'])"
   ]
  },
  {
   "cell_type": "code",
   "execution_count": 135,
   "metadata": {},
   "outputs": [
    {
     "data": {
      "text/plain": [
       "(0.27583903519340053, 0.3617021276595745, 0.30434169849063464, None)"
      ]
     },
     "execution_count": 135,
     "metadata": {},
     "output_type": "execute_result"
    }
   ],
   "source": [
    "precision_recall_fscore_support(y_test, X_test[\"assigned_class_prob\"],average='weighted')"
   ]
  },
  {
   "cell_type": "code",
   "execution_count": 211,
   "metadata": {},
   "outputs": [
    {
     "data": {
      "text/plain": [
       "0.25"
      ]
     },
     "execution_count": 211,
     "metadata": {},
     "output_type": "execute_result"
    }
   ],
   "source": [
    "f1_score(y_test, X_test[\"assigned_class_prob\"],average='weighted')"
   ]
  },
  {
   "cell_type": "code",
   "execution_count": 137,
   "metadata": {},
   "outputs": [
    {
     "data": {
      "text/plain": [
       "0.3617021276595745"
      ]
     },
     "execution_count": 137,
     "metadata": {},
     "output_type": "execute_result"
    }
   ],
   "source": [
    "recall_score(y_test, X_test[\"assigned_class_prob\"],average='weighted')"
   ]
  },
  {
   "cell_type": "code",
   "execution_count": 138,
   "metadata": {},
   "outputs": [
    {
     "data": {
      "text/plain": [
       "0.5490746484436756"
      ]
     },
     "execution_count": 138,
     "metadata": {},
     "output_type": "execute_result"
    }
   ],
   "source": [
    "roc_auc_score(y_test,y_score,multi_class='ovr')"
   ]
  },
  {
   "cell_type": "code",
   "execution_count": null,
   "metadata": {},
   "outputs": [],
   "source": []
  }
 ],
 "metadata": {
  "kernelspec": {
   "display_name": "Python 3",
   "language": "python",
   "name": "python3"
  },
  "language_info": {
   "codemirror_mode": {
    "name": "ipython",
    "version": 3
   },
   "file_extension": ".py",
   "mimetype": "text/x-python",
   "name": "python",
   "nbconvert_exporter": "python",
   "pygments_lexer": "ipython3",
   "version": "3.7.1"
  }
 },
 "nbformat": 4,
 "nbformat_minor": 4
}
