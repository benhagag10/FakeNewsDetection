{
 "cells": [
  {
   "cell_type": "code",
   "execution_count": 540,
   "metadata": {},
   "outputs": [],
   "source": [
    "# this is the last notebook for this project (highlight)"
   ]
  },
  {
   "cell_type": "code",
   "execution_count": 1,
   "metadata": {},
   "outputs": [],
   "source": [
    "#global imports\n",
    "import pandas as pd\n",
    "import importlib\n",
    "import numpy as np\n",
    "\n",
    "from sklearn.model_selection import train_test_split\n",
    "\n",
    "\n",
    "#private imports\n",
    "import wordembedding_hebrew.word2vec as word2vec\n",
    "#from baseline_func import *\n",
    "#from word2vec_myfunc import *\n",
    "#from stopwords import *"
   ]
  },
  {
   "cell_type": "markdown",
   "metadata": {},
   "source": [
    "# load dataset "
   ]
  },
  {
   "cell_type": "code",
   "execution_count": 2,
   "metadata": {},
   "outputs": [
    {
     "data": {
      "text/html": [
       "<div>\n",
       "<style scoped>\n",
       "    .dataframe tbody tr th:only-of-type {\n",
       "        vertical-align: middle;\n",
       "    }\n",
       "\n",
       "    .dataframe tbody tr th {\n",
       "        vertical-align: top;\n",
       "    }\n",
       "\n",
       "    .dataframe thead th {\n",
       "        text-align: right;\n",
       "    }\n",
       "</style>\n",
       "<table border=\"1\" class=\"dataframe\">\n",
       "  <thead>\n",
       "    <tr style=\"text-align: right;\">\n",
       "      <th></th>\n",
       "      <th>word_count</th>\n",
       "      <th>distinct_word_count</th>\n",
       "      <th>avg_chars_per_word</th>\n",
       "      <th>TTR</th>\n",
       "      <th>Flesch_Kincaid</th>\n",
       "      <th>h_hayedia_count</th>\n",
       "      <th>syllabls_count</th>\n",
       "      <th>uncertainty_words_usage</th>\n",
       "      <th>first_names_usage</th>\n",
       "      <th>last_names_usage</th>\n",
       "      <th>...</th>\n",
       "      <th>BEINONI</th>\n",
       "      <th>PAST</th>\n",
       "      <th>FUTURE</th>\n",
       "      <th>IMPERATIVE</th>\n",
       "      <th>qoutes_count</th>\n",
       "      <th>hashtag_count</th>\n",
       "      <th>positive_semantic</th>\n",
       "      <th>negative_semantic</th>\n",
       "      <th>objective_semantic</th>\n",
       "      <th>score_code</th>\n",
       "    </tr>\n",
       "  </thead>\n",
       "  <tbody>\n",
       "    <tr>\n",
       "      <th>0</th>\n",
       "      <td>18</td>\n",
       "      <td>18</td>\n",
       "      <td>4.388889</td>\n",
       "      <td>1.000000</td>\n",
       "      <td>18.444286</td>\n",
       "      <td>0.040000</td>\n",
       "      <td>45</td>\n",
       "      <td>0</td>\n",
       "      <td>4</td>\n",
       "      <td>3</td>\n",
       "      <td>...</td>\n",
       "      <td>0</td>\n",
       "      <td>3</td>\n",
       "      <td>0</td>\n",
       "      <td>0</td>\n",
       "      <td>0</td>\n",
       "      <td>0</td>\n",
       "      <td>0.980871</td>\n",
       "      <td>0.012410</td>\n",
       "      <td>0.006719</td>\n",
       "      <td>1.0</td>\n",
       "    </tr>\n",
       "    <tr>\n",
       "      <th>1</th>\n",
       "      <td>57</td>\n",
       "      <td>52</td>\n",
       "      <td>4.052632</td>\n",
       "      <td>0.912281</td>\n",
       "      <td>-36.092930</td>\n",
       "      <td>0.072289</td>\n",
       "      <td>164</td>\n",
       "      <td>0</td>\n",
       "      <td>3</td>\n",
       "      <td>6</td>\n",
       "      <td>...</td>\n",
       "      <td>0</td>\n",
       "      <td>2</td>\n",
       "      <td>0</td>\n",
       "      <td>0</td>\n",
       "      <td>0</td>\n",
       "      <td>0</td>\n",
       "      <td>0.615095</td>\n",
       "      <td>0.309213</td>\n",
       "      <td>0.075692</td>\n",
       "      <td>0.5</td>\n",
       "    </tr>\n",
       "  </tbody>\n",
       "</table>\n",
       "<p>2 rows × 10877 columns</p>\n",
       "</div>"
      ],
      "text/plain": [
       "   word_count  distinct_word_count  avg_chars_per_word       TTR  \\\n",
       "0          18                   18            4.388889  1.000000   \n",
       "1          57                   52            4.052632  0.912281   \n",
       "\n",
       "   Flesch_Kincaid  h_hayedia_count  syllabls_count  uncertainty_words_usage  \\\n",
       "0       18.444286         0.040000              45                        0   \n",
       "1      -36.092930         0.072289             164                        0   \n",
       "\n",
       "   first_names_usage  last_names_usage  ...  BEINONI  PAST  FUTURE  \\\n",
       "0                  4                 3  ...        0     3       0   \n",
       "1                  3                 6  ...        0     2       0   \n",
       "\n",
       "   IMPERATIVE  qoutes_count  hashtag_count  positive_semantic  \\\n",
       "0           0             0              0           0.980871   \n",
       "1           0             0              0           0.615095   \n",
       "\n",
       "   negative_semantic  objective_semantic  score_code  \n",
       "0           0.012410            0.006719         1.0  \n",
       "1           0.309213            0.075692         0.5  \n",
       "\n",
       "[2 rows x 10877 columns]"
      ]
     },
     "execution_count": 2,
     "metadata": {},
     "output_type": "execute_result"
    }
   ],
   "source": [
    "premetives_features_dataset=pd.read_pickle('dataset.pkl')\n",
    "premetives_features_dataset.head(2)"
   ]
  },
  {
   "cell_type": "code",
   "execution_count": 3,
   "metadata": {},
   "outputs": [
    {
     "data": {
      "text/html": [
       "<div>\n",
       "<style scoped>\n",
       "    .dataframe tbody tr th:only-of-type {\n",
       "        vertical-align: middle;\n",
       "    }\n",
       "\n",
       "    .dataframe tbody tr th {\n",
       "        vertical-align: top;\n",
       "    }\n",
       "\n",
       "    .dataframe thead th {\n",
       "        text-align: right;\n",
       "    }\n",
       "</style>\n",
       "<table border=\"1\" class=\"dataframe\">\n",
       "  <thead>\n",
       "    <tr style=\"text-align: right;\">\n",
       "      <th></th>\n",
       "      <th>score</th>\n",
       "      <th>original_stmt</th>\n",
       "      <th>stmt</th>\n",
       "      <th>stopwords</th>\n",
       "      <th>stmt_without_stopwords</th>\n",
       "      <th>tokenized_stmt</th>\n",
       "      <th>stemmed_stmt</th>\n",
       "      <th>stmt_lemmas</th>\n",
       "      <th>all_pos</th>\n",
       "      <th>all_dependecies_parts</th>\n",
       "      <th>gram_person</th>\n",
       "      <th>verbs_tense</th>\n",
       "    </tr>\n",
       "  </thead>\n",
       "  <tbody>\n",
       "    <tr>\n",
       "      <th>0</th>\n",
       "      <td>untrue</td>\n",
       "      <td>דיברו על 600 מיליארד. נתניהו אמר מאות מיליארדי...</td>\n",
       "      <td>דיברו על 600 מיליארד. נתניהו אמר מאות מיליארדי...</td>\n",
       "      <td>[על, נתניהו, אמר, מאות, ועכשיו, בעצם, זה, וגם,...</td>\n",
       "      <td>דיברו 600 מיליארד. מיליארדים. ירד ל 17 מיליארד...</td>\n",
       "      <td>דיברו על 600 מיליארד . נתניהו אמר מאות מיליארד...</td>\n",
       "      <td>דיברו על 600 מיליארד . נתניהו אמר מאות מיליארד...</td>\n",
       "      <td>דיבר על 600 מיליארד . נתניהו אמר מאה מיליארד ....</td>\n",
       "      <td>[VB, IN, CD, CD, yyDOT, NNP, VB, CD, CD, yyDOT...</td>\n",
       "      <td>[ROOT, comp, pobj, nn, punct, subj, ROOT, dep,...</td>\n",
       "      <td>[3, 3, 3, 3, 3, A]</td>\n",
       "      <td>[PAST, PAST, PAST]</td>\n",
       "    </tr>\n",
       "    <tr>\n",
       "      <th>1</th>\n",
       "      <td>half true</td>\n",
       "      <td>נתניהו אמר מאות מיליארדים. ועכשיו בעצם זה ירד ...</td>\n",
       "      <td>נתניהו אמר מאות מיליארדים. ועכשיו בעצם זה ירד ...</td>\n",
       "      <td>[נתניהו, אמר, מאות, ועכשיו, בעצם, זה, השני, את...</td>\n",
       "      <td>מיליארדים. ירד ל 17 מיליארד . בכיס משלמים זה. ...</td>\n",
       "      <td>נתניהו אמר מאות מיליארדים . ועכשיו בעצם זה ירד...</td>\n",
       "      <td>נתניהו אמר מאות מיליארדים . ו עכשיו בעצם זה יר...</td>\n",
       "      <td>נתניהו אמר מאה מיליארד . ו עכשיו בעצם זה ירד ל...</td>\n",
       "      <td>[NNP, VB, CD, CD, yyDOT, CONJ, RB, RB, PRP, VB...</td>\n",
       "      <td>[subj, ROOT, dep, nn, punct, cc, advmod, parat...</td>\n",
       "      <td>[3, 3, 3, 2, A, 3, 1, A, 3, 3, A, 2, A, 3]</td>\n",
       "      <td>[PAST, PAST]</td>\n",
       "    </tr>\n",
       "  </tbody>\n",
       "</table>\n",
       "</div>"
      ],
      "text/plain": [
       "       score                                      original_stmt  \\\n",
       "0     untrue  דיברו על 600 מיליארד. נתניהו אמר מאות מיליארדי...   \n",
       "1  half true  נתניהו אמר מאות מיליארדים. ועכשיו בעצם זה ירד ...   \n",
       "\n",
       "                                                stmt  \\\n",
       "0  דיברו על 600 מיליארד. נתניהו אמר מאות מיליארדי...   \n",
       "1  נתניהו אמר מאות מיליארדים. ועכשיו בעצם זה ירד ...   \n",
       "\n",
       "                                           stopwords  \\\n",
       "0  [על, נתניהו, אמר, מאות, ועכשיו, בעצם, זה, וגם,...   \n",
       "1  [נתניהו, אמר, מאות, ועכשיו, בעצם, זה, השני, את...   \n",
       "\n",
       "                              stmt_without_stopwords  \\\n",
       "0  דיברו 600 מיליארד. מיליארדים. ירד ל 17 מיליארד...   \n",
       "1  מיליארדים. ירד ל 17 מיליארד . בכיס משלמים זה. ...   \n",
       "\n",
       "                                      tokenized_stmt  \\\n",
       "0  דיברו על 600 מיליארד . נתניהו אמר מאות מיליארד...   \n",
       "1  נתניהו אמר מאות מיליארדים . ועכשיו בעצם זה ירד...   \n",
       "\n",
       "                                        stemmed_stmt  \\\n",
       "0  דיברו על 600 מיליארד . נתניהו אמר מאות מיליארד...   \n",
       "1  נתניהו אמר מאות מיליארדים . ו עכשיו בעצם זה יר...   \n",
       "\n",
       "                                         stmt_lemmas  \\\n",
       "0  דיבר על 600 מיליארד . נתניהו אמר מאה מיליארד ....   \n",
       "1  נתניהו אמר מאה מיליארד . ו עכשיו בעצם זה ירד ל...   \n",
       "\n",
       "                                             all_pos  \\\n",
       "0  [VB, IN, CD, CD, yyDOT, NNP, VB, CD, CD, yyDOT...   \n",
       "1  [NNP, VB, CD, CD, yyDOT, CONJ, RB, RB, PRP, VB...   \n",
       "\n",
       "                               all_dependecies_parts  \\\n",
       "0  [ROOT, comp, pobj, nn, punct, subj, ROOT, dep,...   \n",
       "1  [subj, ROOT, dep, nn, punct, cc, advmod, parat...   \n",
       "\n",
       "                                  gram_person         verbs_tense  \n",
       "0                          [3, 3, 3, 3, 3, A]  [PAST, PAST, PAST]  \n",
       "1  [3, 3, 3, 2, A, 3, 1, A, 3, 3, A, 2, A, 3]        [PAST, PAST]  "
      ]
     },
     "execution_count": 3,
     "metadata": {},
     "output_type": "execute_result"
    }
   ],
   "source": [
    "original_full_ds = pd.read_pickle('full_ds_after_prepro.pkl')\n",
    "original_full_ds.head(2)"
   ]
  },
  {
   "cell_type": "markdown",
   "metadata": {},
   "source": [
    "# load model"
   ]
  },
  {
   "cell_type": "code",
   "execution_count": 4,
   "metadata": {},
   "outputs": [],
   "source": [
    "#load word2vec model (trained before)\n",
    "word2vec_model = word2vec.getModel()"
   ]
  },
  {
   "cell_type": "code",
   "execution_count": 5,
   "metadata": {},
   "outputs": [],
   "source": [
    "#lemmatize(maybe try later only tokenize) and remove stop words from dataset "
   ]
  },
  {
   "cell_type": "markdown",
   "metadata": {},
   "source": [
    "# create sentences embedding feature"
   ]
  },
  {
   "cell_type": "code",
   "execution_count": 6,
   "metadata": {},
   "outputs": [],
   "source": [
    "#shape of word embedding vector (word2vec)\n",
    "#word2vec_model[''].shape"
   ]
  },
  {
   "cell_type": "code",
   "execution_count": 6,
   "metadata": {},
   "outputs": [],
   "source": [
    "#avarage sentence vector by words vectors\n",
    "from neuron_models_func import create_sentence_avg_vector"
   ]
  },
  {
   "cell_type": "code",
   "execution_count": 7,
   "metadata": {},
   "outputs": [],
   "source": [
    "#vectorize lemmas using word2vec model\n",
    "word2vec=original_full_ds['stmt_lemmas'].apply(lambda x : create_sentence_avg_vector(x,word2vec_model))"
   ]
  },
  {
   "cell_type": "code",
   "execution_count": 8,
   "metadata": {},
   "outputs": [],
   "source": [
    "#concat dataset with stmt embedding vectors\n",
    "dataset=pd.concat([original_full_ds,word2vec], axis=1)"
   ]
  },
  {
   "cell_type": "code",
   "execution_count": 9,
   "metadata": {},
   "outputs": [
    {
     "data": {
      "text/html": [
       "<div>\n",
       "<style scoped>\n",
       "    .dataframe tbody tr th:only-of-type {\n",
       "        vertical-align: middle;\n",
       "    }\n",
       "\n",
       "    .dataframe tbody tr th {\n",
       "        vertical-align: top;\n",
       "    }\n",
       "\n",
       "    .dataframe thead th {\n",
       "        text-align: right;\n",
       "    }\n",
       "</style>\n",
       "<table border=\"1\" class=\"dataframe\">\n",
       "  <thead>\n",
       "    <tr style=\"text-align: right;\">\n",
       "      <th></th>\n",
       "      <th>word_count</th>\n",
       "      <th>distinct_word_count</th>\n",
       "      <th>avg_chars_per_word</th>\n",
       "      <th>TTR</th>\n",
       "      <th>Flesch_Kincaid</th>\n",
       "      <th>h_hayedia_count</th>\n",
       "      <th>syllabls_count</th>\n",
       "      <th>uncertainty_words_usage</th>\n",
       "      <th>first_names_usage</th>\n",
       "      <th>last_names_usage</th>\n",
       "      <th>...</th>\n",
       "      <th>90</th>\n",
       "      <th>91</th>\n",
       "      <th>92</th>\n",
       "      <th>93</th>\n",
       "      <th>94</th>\n",
       "      <th>95</th>\n",
       "      <th>96</th>\n",
       "      <th>97</th>\n",
       "      <th>98</th>\n",
       "      <th>99</th>\n",
       "    </tr>\n",
       "  </thead>\n",
       "  <tbody>\n",
       "    <tr>\n",
       "      <th>0</th>\n",
       "      <td>18</td>\n",
       "      <td>18</td>\n",
       "      <td>4.388889</td>\n",
       "      <td>1.000000</td>\n",
       "      <td>18.444286</td>\n",
       "      <td>0.040000</td>\n",
       "      <td>45</td>\n",
       "      <td>0</td>\n",
       "      <td>4</td>\n",
       "      <td>3</td>\n",
       "      <td>...</td>\n",
       "      <td>0.030844</td>\n",
       "      <td>-0.040579</td>\n",
       "      <td>0.072697</td>\n",
       "      <td>-0.035791</td>\n",
       "      <td>-0.027364</td>\n",
       "      <td>-0.032712</td>\n",
       "      <td>0.002052</td>\n",
       "      <td>-0.046226</td>\n",
       "      <td>0.004211</td>\n",
       "      <td>0.054746</td>\n",
       "    </tr>\n",
       "    <tr>\n",
       "      <th>1</th>\n",
       "      <td>57</td>\n",
       "      <td>52</td>\n",
       "      <td>4.052632</td>\n",
       "      <td>0.912281</td>\n",
       "      <td>-36.092930</td>\n",
       "      <td>0.072289</td>\n",
       "      <td>164</td>\n",
       "      <td>0</td>\n",
       "      <td>3</td>\n",
       "      <td>6</td>\n",
       "      <td>...</td>\n",
       "      <td>0.013829</td>\n",
       "      <td>-0.086772</td>\n",
       "      <td>0.069097</td>\n",
       "      <td>-0.054877</td>\n",
       "      <td>-0.003619</td>\n",
       "      <td>-0.042879</td>\n",
       "      <td>0.024840</td>\n",
       "      <td>-0.030202</td>\n",
       "      <td>-0.008577</td>\n",
       "      <td>0.032319</td>\n",
       "    </tr>\n",
       "  </tbody>\n",
       "</table>\n",
       "<p>2 rows × 10977 columns</p>\n",
       "</div>"
      ],
      "text/plain": [
       "   word_count  distinct_word_count  avg_chars_per_word       TTR  \\\n",
       "0          18                   18            4.388889  1.000000   \n",
       "1          57                   52            4.052632  0.912281   \n",
       "\n",
       "   Flesch_Kincaid  h_hayedia_count  syllabls_count  uncertainty_words_usage  \\\n",
       "0       18.444286         0.040000              45                        0   \n",
       "1      -36.092930         0.072289             164                        0   \n",
       "\n",
       "   first_names_usage  last_names_usage  ...        90        91        92  \\\n",
       "0                  4                 3  ...  0.030844 -0.040579  0.072697   \n",
       "1                  3                 6  ...  0.013829 -0.086772  0.069097   \n",
       "\n",
       "         93        94        95        96        97        98        99  \n",
       "0 -0.035791 -0.027364 -0.032712  0.002052 -0.046226  0.004211  0.054746  \n",
       "1 -0.054877 -0.003619 -0.042879  0.024840 -0.030202 -0.008577  0.032319  \n",
       "\n",
       "[2 rows x 10977 columns]"
      ]
     },
     "execution_count": 9,
     "metadata": {},
     "output_type": "execute_result"
    }
   ],
   "source": [
    "pre_and_embed_dataset=pd.concat([premetives_features_dataset,word2vec],axis=1)\n",
    "pre_and_embed_dataset.head(2)"
   ]
  },
  {
   "cell_type": "code",
   "execution_count": 10,
   "metadata": {},
   "outputs": [
    {
     "data": {
      "text/html": [
       "<div>\n",
       "<style scoped>\n",
       "    .dataframe tbody tr th:only-of-type {\n",
       "        vertical-align: middle;\n",
       "    }\n",
       "\n",
       "    .dataframe tbody tr th {\n",
       "        vertical-align: top;\n",
       "    }\n",
       "\n",
       "    .dataframe thead th {\n",
       "        text-align: right;\n",
       "    }\n",
       "</style>\n",
       "<table border=\"1\" class=\"dataframe\">\n",
       "  <thead>\n",
       "    <tr style=\"text-align: right;\">\n",
       "      <th></th>\n",
       "      <th>0</th>\n",
       "      <th>1</th>\n",
       "      <th>2</th>\n",
       "      <th>3</th>\n",
       "      <th>4</th>\n",
       "      <th>5</th>\n",
       "      <th>6</th>\n",
       "      <th>7</th>\n",
       "      <th>8</th>\n",
       "      <th>9</th>\n",
       "      <th>...</th>\n",
       "      <th>90</th>\n",
       "      <th>91</th>\n",
       "      <th>92</th>\n",
       "      <th>93</th>\n",
       "      <th>94</th>\n",
       "      <th>95</th>\n",
       "      <th>96</th>\n",
       "      <th>97</th>\n",
       "      <th>98</th>\n",
       "      <th>99</th>\n",
       "    </tr>\n",
       "  </thead>\n",
       "  <tbody>\n",
       "    <tr>\n",
       "      <th>0</th>\n",
       "      <td>0.066762</td>\n",
       "      <td>0.041613</td>\n",
       "      <td>0.174446</td>\n",
       "      <td>0.000813</td>\n",
       "      <td>0.010661</td>\n",
       "      <td>-0.003396</td>\n",
       "      <td>0.204404</td>\n",
       "      <td>-0.016948</td>\n",
       "      <td>0.011024</td>\n",
       "      <td>0.000576</td>\n",
       "      <td>...</td>\n",
       "      <td>0.030844</td>\n",
       "      <td>-0.040579</td>\n",
       "      <td>0.072697</td>\n",
       "      <td>-0.035791</td>\n",
       "      <td>-0.027364</td>\n",
       "      <td>-0.032712</td>\n",
       "      <td>0.002052</td>\n",
       "      <td>-0.046226</td>\n",
       "      <td>0.004211</td>\n",
       "      <td>0.054746</td>\n",
       "    </tr>\n",
       "    <tr>\n",
       "      <th>1</th>\n",
       "      <td>0.037679</td>\n",
       "      <td>0.075402</td>\n",
       "      <td>0.144055</td>\n",
       "      <td>0.035363</td>\n",
       "      <td>0.020485</td>\n",
       "      <td>-0.038484</td>\n",
       "      <td>0.156943</td>\n",
       "      <td>0.029304</td>\n",
       "      <td>0.018376</td>\n",
       "      <td>0.007029</td>\n",
       "      <td>...</td>\n",
       "      <td>0.013829</td>\n",
       "      <td>-0.086772</td>\n",
       "      <td>0.069097</td>\n",
       "      <td>-0.054877</td>\n",
       "      <td>-0.003619</td>\n",
       "      <td>-0.042879</td>\n",
       "      <td>0.024840</td>\n",
       "      <td>-0.030202</td>\n",
       "      <td>-0.008577</td>\n",
       "      <td>0.032319</td>\n",
       "    </tr>\n",
       "  </tbody>\n",
       "</table>\n",
       "<p>2 rows × 100 columns</p>\n",
       "</div>"
      ],
      "text/plain": [
       "         0         1         2         3         4         5         6   \\\n",
       "0  0.066762  0.041613  0.174446  0.000813  0.010661 -0.003396  0.204404   \n",
       "1  0.037679  0.075402  0.144055  0.035363  0.020485 -0.038484  0.156943   \n",
       "\n",
       "         7         8         9   ...        90        91        92        93  \\\n",
       "0 -0.016948  0.011024  0.000576  ...  0.030844 -0.040579  0.072697 -0.035791   \n",
       "1  0.029304  0.018376  0.007029  ...  0.013829 -0.086772  0.069097 -0.054877   \n",
       "\n",
       "         94        95        96        97        98        99  \n",
       "0 -0.027364 -0.032712  0.002052 -0.046226  0.004211  0.054746  \n",
       "1 -0.003619 -0.042879  0.024840 -0.030202 -0.008577  0.032319  \n",
       "\n",
       "[2 rows x 100 columns]"
      ]
     },
     "execution_count": 10,
     "metadata": {},
     "output_type": "execute_result"
    }
   ],
   "source": [
    "#keep sentence(stmt) vector embedding and remove all other column(features)\n",
    "dst=dataset[dataset.columns[-100:]]\n",
    "dst.head(2)"
   ]
  },
  {
   "cell_type": "code",
   "execution_count": 11,
   "metadata": {},
   "outputs": [
    {
     "data": {
      "text/plain": [
       "0         untrue\n",
       "1      half true\n",
       "2      half true\n",
       "3         untrue\n",
       "4         untrue\n",
       "         ...    \n",
       "472         TRUE\n",
       "473         TRUE\n",
       "474         TRUE\n",
       "475         TRUE\n",
       "476         TRUE\n",
       "Name: score, Length: 477, dtype: object"
      ]
     },
     "execution_count": 11,
     "metadata": {},
     "output_type": "execute_result"
    }
   ],
   "source": [
    "label=dataset['score']\n",
    "label"
   ]
  },
  {
   "cell_type": "markdown",
   "metadata": {},
   "source": [
    "# keras mlp - prepare"
   ]
  },
  {
   "cell_type": "markdown",
   "metadata": {},
   "source": [
    "#stages:\n",
    "1. one hot encoding\n",
    "2."
   ]
  },
  {
   "cell_type": "code",
   "execution_count": 13,
   "metadata": {},
   "outputs": [
    {
     "name": "stderr",
     "output_type": "stream",
     "text": [
      "Using TensorFlow backend.\n"
     ]
    }
   ],
   "source": [
    "import pandas\n",
    "from keras.models import Sequential\n",
    "from keras.layers import Dense\n",
    "from keras.wrappers.scikit_learn import KerasClassifier\n",
    "from keras.utils import np_utils\n",
    "from sklearn.model_selection import cross_val_score\n",
    "from sklearn.model_selection import KFold\n",
    "from sklearn.preprocessing import LabelEncoder\n",
    "from sklearn.pipeline import Pipeline\n",
    "from keras.models import Sequential\n",
    "from keras.layers import Dense, Dropout\n",
    "from keras.layers import Embedding,TimeDistributed\n",
    "from keras.layers import LSTM,Bidirectional,Input,Flatten\n",
    "import tensorflow as tf\n",
    "from keras.models import Model\n",
    "from keras.preprocessing.text import Tokenizer\n",
    "from keras.layers import SpatialDropout1D,GaussianNoise\n",
    "from keras.callbacks import EarlyStopping\n",
    "import keras.layers\n",
    "from keras.regularizers import l1\n",
    "from sklearn.metrics import classification_report,confusion_matrix\n",
    "from sklearn.metrics import classification_report,confusion_matrix\n",
    "from matplotlib import pyplot\n",
    "import numpy\n",
    "from sklearn.utils import class_weight\n",
    "from tensorflow.keras.models import model_from_json\n",
    "#private\n",
    "from model_statistics_func import plot_confusion_matrix,get_feature_importance\n",
    "from sklearn.neural_network import MLPClassifier\n",
    "from sklearn.metrics import accuracy_score, confusion_matrix,recall_score,classification_report,roc_auc_score,f1_score,precision_recall_fscore_support\n",
    "\n",
    "\n",
    "from model_statistics_func import plot_confusion_matrix,get_feature_importance\n"
   ]
  },
  {
   "cell_type": "code",
   "execution_count": 783,
   "metadata": {},
   "outputs": [],
   "source": [
    "import re\n",
    "def remove_all_single_char_words(stmt):\n",
    "    return re.sub(r'\\b\\w{1,1}\\b', ' ', stmt)"
   ]
  },
  {
   "cell_type": "code",
   "execution_count": 35,
   "metadata": {},
   "outputs": [],
   "source": [
    "def convert_score_cat_to_numeric_old(score):\n",
    "    score_dict={'TRUE':0,'mostly true':0.2,'half true':0.5,'misleading':0.7,'mostly untrue':0.8,'untrue':1}\n",
    "    return score_dict.get(score)"
   ]
  },
  {
   "cell_type": "code",
   "execution_count": 14,
   "metadata": {},
   "outputs": [],
   "source": [
    "from neuron_models_func import convert_score_cat_to_numeric"
   ]
  },
  {
   "cell_type": "code",
   "execution_count": 796,
   "metadata": {},
   "outputs": [],
   "source": [
    "label=label.apply(lambda x: convert_score_cat_to_numeric(x))"
   ]
  },
  {
   "cell_type": "code",
   "execution_count": 785,
   "metadata": {},
   "outputs": [
    {
     "data": {
      "text/plain": [
       "2272"
      ]
     },
     "execution_count": 785,
     "metadata": {},
     "output_type": "execute_result"
    }
   ],
   "source": [
    "#lemmas list\n",
    "lemmas_list=' '.join(dataset.stmt_lemmas.apply(lambda x: remove_all_single_char_words(x)).to_list()).split()\n",
    "lemmas_list=list(set(lemmas_list))\n",
    "dataset['new_stmt_lemmas']=dataset.stmt_lemmas.apply(lambda x: remove_all_single_char_words(x))\n",
    "len(lemmas_list)"
   ]
  },
  {
   "cell_type": "code",
   "execution_count": 789,
   "metadata": {},
   "outputs": [],
   "source": [
    "t = Tokenizer()\n",
    "t.fit_on_texts(lemmas_list)\n",
    "encoded_sntc=t.texts_to_sequences(dataset.new_stmt_lemmas.to_list())"
   ]
  },
  {
   "cell_type": "code",
   "execution_count": 790,
   "metadata": {},
   "outputs": [],
   "source": [
    "max_length = 100\n",
    "dst = pad_sequences(encoded_sntc, maxlen=max_length, padding='post')"
   ]
  },
  {
   "cell_type": "code",
   "execution_count": 791,
   "metadata": {},
   "outputs": [],
   "source": [
    "vocab_size=len(lemmas_list)"
   ]
  },
  {
   "cell_type": "code",
   "execution_count": 792,
   "metadata": {},
   "outputs": [
    {
     "data": {
      "text/plain": [
       "158"
      ]
     },
     "execution_count": 792,
     "metadata": {},
     "output_type": "execute_result"
    }
   ],
   "source": [
    "# get the embedding matrix from the embedding layer\n",
    "from numpy import zeros\n",
    "count=0\n",
    "embedding_matrix = zeros((vocab_size, 100))\n",
    "for word, i in t.word_index.items():\n",
    "    try:\n",
    "        embedding_vector = word2vec_model.wv.get_vector(word)\n",
    "        if embedding_vector is not None:\n",
    "              embedding_matrix[i] = embedding_vector\n",
    "    except: \n",
    "        count=count+1\n",
    "count"
   ]
  },
  {
   "cell_type": "code",
   "execution_count": null,
   "metadata": {},
   "outputs": [],
   "source": [
    "pretrained_weights = word2vec_model.wv.syn0\n",
    "vocab_size, emdedding_size = pretrained_weights.shape\n",
    "\n",
    "print('Result embedding shape:', pretrained_weights.shape)"
   ]
  },
  {
   "cell_type": "code",
   "execution_count": 370,
   "metadata": {},
   "outputs": [
    {
     "data": {
      "text/plain": [
       "(515505, 100)"
      ]
     },
     "execution_count": 370,
     "metadata": {},
     "output_type": "execute_result"
    }
   ],
   "source": [
    "pretrained_weights.shape"
   ]
  },
  {
   "cell_type": "code",
   "execution_count": 797,
   "metadata": {},
   "outputs": [
    {
     "data": {
      "text/plain": [
       "0      1.0\n",
       "1      0.5\n",
       "2      0.5\n",
       "3      1.0\n",
       "4      1.0\n",
       "      ... \n",
       "472    0.0\n",
       "473    0.0\n",
       "474    0.0\n",
       "475    0.0\n",
       "476    0.0\n",
       "Name: score, Length: 477, dtype: float64"
      ]
     },
     "execution_count": 797,
     "metadata": {},
     "output_type": "execute_result"
    }
   ],
   "source": [
    "label"
   ]
  },
  {
   "cell_type": "code",
   "execution_count": 798,
   "metadata": {},
   "outputs": [],
   "source": [
    "encoder = LabelEncoder()\n",
    "label_new=encoder.fit_transform(label)"
   ]
  },
  {
   "cell_type": "code",
   "execution_count": 799,
   "metadata": {},
   "outputs": [
    {
     "data": {
      "text/plain": [
       "array([[ 680,    8, 1538, ...,    0,    0,    0],\n",
       "       [1105, 1060,  800, ...,    0,    0,    0],\n",
       "       [ 834, 1174, 1953, ...,    0,    0,    0],\n",
       "       ...,\n",
       "       [2096,  279, 2101, ...,    0,    0,    0],\n",
       "       [1362, 1421,  422, ...,    0,    0,    0],\n",
       "       [1259,  577, 1829, ...,    0,    0,    0]])"
      ]
     },
     "execution_count": 799,
     "metadata": {},
     "output_type": "execute_result"
    }
   ],
   "source": [
    "dst"
   ]
  },
  {
   "cell_type": "code",
   "execution_count": 800,
   "metadata": {},
   "outputs": [
    {
     "data": {
      "text/plain": [
       "array([5, 2, 2, 5, 5, 4, 0, 1, 0, 5, 4, 5, 5, 1, 2, 4, 2, 1, 5, 5, 5, 5,\n",
       "       5, 5, 4, 4, 5, 4, 2, 5, 5, 5, 5, 4, 5, 2, 5, 1, 2, 5, 2, 5, 5, 0,\n",
       "       5, 1, 1, 5, 5, 5, 0, 4, 0, 4, 3, 3, 1, 0, 1, 4, 4, 5, 4, 4, 5, 0,\n",
       "       5, 5, 5, 4, 5, 5, 4, 4, 4, 2, 4, 2, 5, 5, 2, 5, 5, 5, 5, 5, 4, 0,\n",
       "       3, 5, 4, 0, 5, 1, 5, 3, 1, 5, 5, 4, 5, 4, 5, 5, 4, 4, 2, 2, 0, 2,\n",
       "       2, 4, 5, 5, 4, 5, 5, 5, 4, 5, 0, 4, 5, 2, 1, 4, 4, 5, 0, 5, 5, 5,\n",
       "       5, 5, 5, 4, 4, 4, 4, 1, 4, 4, 5, 4, 5, 5, 0, 5, 5, 2, 1, 4, 5, 5,\n",
       "       2, 2, 4, 0, 5, 5, 2, 5, 5, 5, 5, 5, 4, 5, 5, 0, 5, 5, 5, 5, 5, 5,\n",
       "       5, 2, 4, 1, 2, 2, 2, 0, 0, 1, 4, 2, 0, 5, 5, 4, 5, 5, 4, 4, 2, 4,\n",
       "       4, 5, 5, 5, 5, 4, 5, 5, 4, 0, 4, 5, 5, 0, 2, 5, 1, 4, 2, 2, 4, 5,\n",
       "       5, 4, 5, 1, 5, 5, 5, 5, 4, 0, 4, 4, 5, 5, 2, 5, 5, 4, 1, 3, 4, 5,\n",
       "       5, 2, 2, 0, 5, 5, 5, 4, 5, 4, 0, 5, 2, 1, 5, 3, 5, 5, 5, 5, 4, 5,\n",
       "       5, 5, 2, 1, 1, 5, 0, 5, 1, 1, 5, 2, 5, 5, 4, 5, 1, 5, 2, 1, 5, 5,\n",
       "       5, 5, 2, 4, 5, 4, 2, 5, 4, 5, 0, 5, 4, 1, 2, 0, 0, 5, 5, 5, 5, 5,\n",
       "       5, 2, 4, 5, 5, 5, 4, 5, 5, 5, 5, 4, 5, 5, 2, 2, 0, 5, 5, 5, 5, 5,\n",
       "       5, 1, 4, 4, 4, 4, 4, 1, 2, 2, 0, 2, 5, 4, 4, 5, 4, 5, 5, 5, 1, 5,\n",
       "       2, 5, 5, 4, 5, 1, 2, 5, 5, 0, 2, 5, 5, 4, 5, 0, 1, 5, 4, 4, 4, 5,\n",
       "       5, 0, 5, 4, 0, 4, 5, 0, 5, 4, 2, 4, 2, 5, 1, 5, 4, 4, 5, 1, 5, 1,\n",
       "       0, 4, 5, 1, 5, 2, 5, 5, 2, 4, 4, 5, 5, 0, 2, 0, 5, 0, 0, 4, 5, 4,\n",
       "       0, 3, 1, 2, 4, 1, 5, 5, 0, 4, 5, 5, 5, 5, 5, 0, 4, 4, 4, 4, 5, 5,\n",
       "       5, 2, 2, 5, 0, 0, 0, 0, 0, 0, 0, 0, 0, 0, 0, 0, 0, 0, 0, 0, 0, 0,\n",
       "       0, 0, 0, 0, 0, 0, 0, 0, 0, 0, 0, 0, 0, 0, 0], dtype=int64)"
      ]
     },
     "execution_count": 800,
     "metadata": {},
     "output_type": "execute_result"
    }
   ],
   "source": [
    "label_new"
   ]
  },
  {
   "cell_type": "code",
   "execution_count": 801,
   "metadata": {},
   "outputs": [
    {
     "name": "stdout",
     "output_type": "stream",
     "text": [
      "(381, 100) (381,)\n",
      "(96, 100) (96,)\n"
     ]
    }
   ],
   "source": [
    "X_train, X_test, y_train, y_test = train_test_split(dst, label_new, test_size=0.2)\n",
    "print(X_train.shape,y_train.shape)\n",
    "print(X_test.shape,y_test.shape)"
   ]
  },
  {
   "cell_type": "markdown",
   "metadata": {},
   "source": [
    "## keras simple sequential model "
   ]
  },
  {
   "cell_type": "markdown",
   "metadata": {},
   "source": [
    "#### prepare dataset to train"
   ]
  },
  {
   "cell_type": "code",
   "execution_count": 15,
   "metadata": {},
   "outputs": [],
   "source": [
    "dst_sq1 = dst.copy()\n",
    "label_sq1=label.copy()"
   ]
  },
  {
   "cell_type": "code",
   "execution_count": 16,
   "metadata": {},
   "outputs": [],
   "source": [
    "from sklearn.preprocessing import StandardScaler\n",
    "scaler = StandardScaler()\n",
    "dst_sq1 = scaler.fit_transform(dst_sq1)\n"
   ]
  },
  {
   "cell_type": "code",
   "execution_count": 17,
   "metadata": {},
   "outputs": [],
   "source": [
    "dst_sq1=pd.DataFrame(dst_sq1)"
   ]
  },
  {
   "cell_type": "code",
   "execution_count": 18,
   "metadata": {},
   "outputs": [],
   "source": [
    "def get_model():\n",
    "    model=tf.keras.Sequential()\n",
    "    model.add(tf.keras.layers.Dense(30,activation=tf.nn.relu,input_shape=(100,),\n",
    "                                    activity_regularizer=tf.keras.regularizers.l1(0.01),\n",
    "                                   kernel_regularizer=tf.keras.regularizers.l2(0.01)))\n",
    "    model.add(tf.keras.layers.Dense(10,activation=tf.nn.relu,kernel_regularizer=tf.keras.regularizers.l2(0.01),\n",
    "                                   activity_regularizer=tf.keras.regularizers.l1(0.01)))\n",
    "    model.add(tf.keras.layers.Dropout(0.2))\n",
    "    model.add(tf.keras.layers.Dense(6,activation=tf.nn.softmax))\n",
    "\n",
    "    model.compile(loss='categorical_crossentropy',optimizer='adam',metrics=['accuracy'])\n",
    "\n",
    "\n",
    "    model.summary()\n",
    "    return model"
   ]
  },
  {
   "cell_type": "code",
   "execution_count": 19,
   "metadata": {},
   "outputs": [],
   "source": [
    "#class weights for unbalanced data\n",
    "def get_class_weights(y_train):\n",
    "    class_weights = class_weight.compute_class_weight('balanced',\n",
    "                                                     np.unique(y_train),\n",
    "                                                     y_train)\n",
    "    class_weights = dict(enumerate(class_weights))\n",
    "    return class_weights"
   ]
  },
  {
   "cell_type": "code",
   "execution_count": 20,
   "metadata": {},
   "outputs": [
    {
     "name": "stdout",
     "output_type": "stream",
     "text": [
      "(429, 100) (429,)\n",
      "(48, 100) (48,)\n"
     ]
    }
   ],
   "source": [
    "#split train test\n",
    "X_train, X_test, y_train, y_test = train_test_split(dst_sq1, label_sq1, test_size=0.1)\n",
    "print(X_train.shape,y_train.shape)\n",
    "print(X_test.shape,y_test.shape)\n",
    "class_weights=get_class_weights(y_train)"
   ]
  },
  {
   "cell_type": "code",
   "execution_count": 21,
   "metadata": {},
   "outputs": [],
   "source": [
    "# one hot encoding for test and train labels\n",
    "\n",
    "#first convert label in train to numeric\n",
    "y_train=y_train.apply(lambda x: convert_score_cat_to_numeric(x))\n",
    "\n",
    "#convert to one hot encoding (train)\n",
    "y_train = tf.keras.utils.to_categorical(y_train)\n",
    "\n",
    "\n",
    "#first convert label in test to numeric\n",
    "y_test=y_test.apply(lambda x: convert_score_cat_to_numeric(x))\n",
    "\n",
    "#convert to one hot encoding (test)\n",
    "y_test = tf.keras.utils.to_categorical(y_test)\n"
   ]
  },
  {
   "cell_type": "code",
   "execution_count": 22,
   "metadata": {},
   "outputs": [],
   "source": [
    "EPOCH=120\n",
    "BATCH_SIZE=1"
   ]
  },
  {
   "cell_type": "code",
   "execution_count": 28,
   "metadata": {},
   "outputs": [
    {
     "data": {
      "text/plain": [
       "array([[0., 0., 0., 0., 0., 1.],\n",
       "       [0., 0., 0., 0., 0., 1.],\n",
       "       [0., 0., 0., 0., 1., 0.],\n",
       "       ...,\n",
       "       [0., 1., 0., 0., 0., 0.],\n",
       "       [1., 0., 0., 0., 0., 0.],\n",
       "       [0., 0., 0., 0., 0., 1.]], dtype=float32)"
      ]
     },
     "execution_count": 28,
     "metadata": {},
     "output_type": "execute_result"
    }
   ],
   "source": [
    "y_train"
   ]
  },
  {
   "cell_type": "code",
   "execution_count": 30,
   "metadata": {},
   "outputs": [],
   "source": [
    "%%capture\n",
    "#train model\n",
    "model=get_model()\n",
    "es = EarlyStopping(monitor='val_loss', mode='min',patience=5, verbose=1)\n",
    "model.fit(X_train,y_train,epochs=EPOCH,batch_size=BATCH_SIZE,validation_split=0.2,callbacks=[es])"
   ]
  },
  {
   "cell_type": "code",
   "execution_count": 270,
   "metadata": {},
   "outputs": [],
   "source": [
    "model_json=model.to_json()\n",
    "with open(\"last_mlp_keras_model.json\",\"w\") as json_file:\n",
    "    json_file.write(model_json)\n",
    "\n",
    "model.save_weights('last_mlp_keras_weights.h5')"
   ]
  },
  {
   "cell_type": "code",
   "execution_count": 34,
   "metadata": {},
   "outputs": [
    {
     "name": "stdout",
     "output_type": "stream",
     "text": [
      "48/48 [==============================] - 0s 4ms/sample - loss: 1.6950 - accuracy: 0.4792\n"
     ]
    }
   ],
   "source": [
    "#load model\n",
    "json_file=open('last_mlp_keras_model.json','r')\n",
    "loaded_model_json=json_file.read()\n",
    "json_file.close()\n",
    "loaded_model=model_from_json(loaded_model_json)\n",
    "\n",
    "#load weights\n",
    "loaded_model.load_weights('last_mlp_keras_weights.h5')\n",
    "loaded_model.compile(loss='categorical_crossentropy',optimizer='adam',metrics=['accuracy'])\n",
    "test_loss,test_acc=loaded_model.evaluate(X_test,y_test)\n"
   ]
  },
  {
   "cell_type": "code",
   "execution_count": 32,
   "metadata": {},
   "outputs": [
    {
     "name": "stdout",
     "output_type": "stream",
     "text": [
      "48/48 [==============================] - 0s 285us/sample - loss: 2.5230 - accuracy: 0.2917\n"
     ]
    }
   ],
   "source": [
    "# evaluate on test\n",
    "test_loss,test_acc=model.evaluate(X_test,y_test)"
   ]
  },
  {
   "cell_type": "code",
   "execution_count": null,
   "metadata": {},
   "outputs": [],
   "source": [
    "print('test acc:',test_acc)"
   ]
  },
  {
   "cell_type": "code",
   "execution_count": 35,
   "metadata": {},
   "outputs": [],
   "source": [
    "#convert y_train from one-hot encoded to categorical labels again\n",
    "y_train_convert=numpy.argmax(y_train, axis=1, out=None)\n",
    "#predict on test\n",
    "Y_pred_train = loaded_model.predict(X_train)\n",
    "#get the maximum val\n",
    "y_pred_train = np.array([np.argmax(pred) for pred in Y_pred_train])"
   ]
  },
  {
   "cell_type": "code",
   "execution_count": 36,
   "metadata": {},
   "outputs": [],
   "source": [
    "#convert y_test from one-hot encoded to categorical labels again\n",
    "y_test_convert=numpy.argmax(y_test, axis=1, out=None)\n",
    "#predict on test\n",
    "Y_pred = loaded_model.predict(X_test)\n",
    "#get the maximum val\n",
    "y_pred = np.array([np.argmax(pred) for pred in Y_pred])"
   ]
  },
  {
   "cell_type": "code",
   "execution_count": 37,
   "metadata": {},
   "outputs": [
    {
     "name": "stdout",
     "output_type": "stream",
     "text": [
      "  Classification Report:\n",
      "               precision    recall  f1-score   support\n",
      "\n",
      "           0       0.67      0.43      0.52        14\n",
      "           1       0.00      0.00      0.00         3\n",
      "           2       0.00      0.00      0.00         4\n",
      "           3       0.00      0.00      0.00         2\n",
      "           4       0.67      0.55      0.60        11\n",
      "           5       0.37      0.79      0.50        14\n",
      "\n",
      "    accuracy                           0.48        48\n",
      "   macro avg       0.28      0.29      0.27        48\n",
      "weighted avg       0.45      0.48      0.44        48\n",
      " \n",
      "\n"
     ]
    },
    {
     "name": "stderr",
     "output_type": "stream",
     "text": [
      "C:\\Users\\Ben\\Anaconda3\\lib\\site-packages\\sklearn\\metrics\\_classification.py:1272: UndefinedMetricWarning: Precision and F-score are ill-defined and being set to 0.0 in labels with no predicted samples. Use `zero_division` parameter to control this behavior.\n",
      "  _warn_prf(average, modifier, msg_start, len(result))\n"
     ]
    }
   ],
   "source": [
    "print('  Classification Report:\\n',classification_report(y_test_convert,y_pred),'\\n')"
   ]
  },
  {
   "cell_type": "code",
   "execution_count": 38,
   "metadata": {},
   "outputs": [
    {
     "data": {
      "image/png": "[encoded data removed]",
      "text/plain": [
       "<Figure size 576x432 with 2 Axes>"
      ]
     },
     "metadata": {
      "needs_background": "light"
     },
     "output_type": "display_data"
    }
   ],
   "source": [
    "#confusion matrix\n",
    "cm=confusion_matrix(y_test_convert, y_pred)\n",
    "plot_confusion_matrix(cm,target_names=['TRUE','mostly true','half true','misleading','mostly untrue','untrue'])"
   ]
  },
  {
   "cell_type": "code",
   "execution_count": 303,
   "metadata": {},
   "outputs": [],
   "source": [
    "#model.history.history['val_acc'] = model.history.history.pop('val_accuracy')\n"
   ]
  },
  {
   "cell_type": "code",
   "execution_count": 342,
   "metadata": {},
   "outputs": [
    {
     "data": {
      "image/png": "[encoded data removed]",
      "text/plain": [
       "<Figure size 432x288 with 1 Axes>"
      ]
     },
     "metadata": {
      "needs_background": "light"
     },
     "output_type": "display_data"
    }
   ],
   "source": [
    "#\n",
    "pyplot.plot(model.history.history['loss'])\n",
    "pyplot.plot(model.history.history['val_loss'])\n",
    "pyplot.title('model train vs validation loss')\n",
    "pyplot.ylabel('loss')\n",
    "pyplot.xlabel('epoch')\n",
    "pyplot.legend(['train', 'validation'], loc='upper right')\n",
    "pyplot.show()"
   ]
  },
  {
   "cell_type": "code",
   "execution_count": 184,
   "metadata": {},
   "outputs": [
    {
     "name": "stdout",
     "output_type": "stream",
     "text": [
      "One-vs-One ROC AUC scores:\n",
      "0.492014 (macro),\n",
      "0.529057 (weighted by prevalence)\n",
      "One-vs-Rest ROC AUC scores:\n",
      "0.501988 (macro),\n",
      "0.604604 (weighted by prevalence)\n"
     ]
    }
   ],
   "source": [
    "from sklearn.metrics import roc_auc_score\n",
    "macro_roc_auc_ovo = roc_auc_score(y_test_convert, Y_pred, multi_class=\"ovo\",\n",
    "                                  average=\"macro\")\n",
    "weighted_roc_auc_ovo = roc_auc_score(y_test_convert, Y_pred, multi_class=\"ovo\",\n",
    "                                     average=\"weighted\")\n",
    "macro_roc_auc_ovr = roc_auc_score(y_test_convert, Y_pred, multi_class=\"ovr\",\n",
    "                                  average=\"macro\")\n",
    "weighted_roc_auc_ovr = roc_auc_score(y_test_convert, Y_pred, multi_class=\"ovr\",\n",
    "                                     average=\"weighted\")\n",
    "print(\"One-vs-One ROC AUC scores:\\n{:.6f} (macro),\\n{:.6f} \"\n",
    "      \"(weighted by prevalence)\"\n",
    "      .format(macro_roc_auc_ovo, weighted_roc_auc_ovo))\n",
    "print(\"One-vs-Rest ROC AUC scores:\\n{:.6f} (macro),\\n{:.6f} \"\n",
    "      \"(weighted by prevalence)\"\n",
    "      .format(macro_roc_auc_ovr, weighted_roc_auc_ovr))"
   ]
  },
  {
   "cell_type": "code",
   "execution_count": 185,
   "metadata": {},
   "outputs": [
    {
     "name": "stderr",
     "output_type": "stream",
     "text": [
      "C:\\Users\\Ben\\Anaconda3\\lib\\site-packages\\ipykernel_launcher.py:31: DeprecationWarning: scipy.interp is deprecated and will be removed in SciPy 2.0.0, use numpy.interp instead\n"
     ]
    },
    {
     "data": {
      "image/png": "[encoded data removed]",
      "text/plain": [
       "<Figure size 432x288 with 1 Axes>"
      ]
     },
     "metadata": {
      "needs_background": "light"
     },
     "output_type": "display_data"
    },
    {
     "data": {
      "image/png": "[encoded data removed]",
      "text/plain": [
       "<Figure size 432x288 with 1 Axes>"
      ]
     },
     "metadata": {
      "needs_background": "light"
     },
     "output_type": "display_data"
    }
   ],
   "source": [
    "import numpy as np\n",
    "from scipy import interp\n",
    "import matplotlib.pyplot as plt\n",
    "from itertools import cycle\n",
    "from sklearn.metrics import roc_curve, auc\n",
    "\n",
    "n_classes=6\n",
    "# Plot linewidth.\n",
    "lw = 2\n",
    "\n",
    "# Compute ROC curve and ROC area for each class\n",
    "fpr = dict()\n",
    "tpr = dict()\n",
    "roc_auc = dict()\n",
    "for i in range(n_classes):\n",
    "    fpr[i], tpr[i], _ = roc_curve(y_test[:, i], Y_pred[:, i])\n",
    "    roc_auc[i] = auc(fpr[i], tpr[i])\n",
    "\n",
    "# Compute micro-average ROC curve and ROC area\n",
    "fpr[\"micro\"], tpr[\"micro\"], _ = roc_curve(y_test.ravel(), Y_pred.ravel())\n",
    "roc_auc[\"micro\"] = auc(fpr[\"micro\"], tpr[\"micro\"])\n",
    "\n",
    "# Compute macro-average ROC curve and ROC area\n",
    "\n",
    "# First aggregate all false positive rates\n",
    "all_fpr = np.unique(np.concatenate([fpr[i] for i in range(n_classes)]))\n",
    "\n",
    "# Then interpolate all ROC curves at this points\n",
    "mean_tpr = np.zeros_like(all_fpr)\n",
    "for i in range(n_classes):\n",
    "    mean_tpr += interp(all_fpr, fpr[i], tpr[i])\n",
    "\n",
    "# Finally average it and compute AUC\n",
    "mean_tpr /= n_classes\n",
    "\n",
    "fpr[\"macro\"] = all_fpr\n",
    "tpr[\"macro\"] = mean_tpr\n",
    "roc_auc[\"macro\"] = auc(fpr[\"macro\"], tpr[\"macro\"])\n",
    "\n",
    "# Plot all ROC curves\n",
    "plt.figure(1)\n",
    "plt.plot(fpr[\"micro\"], tpr[\"micro\"],\n",
    "         label='micro-average ROC curve (area = {0:0.2f})'\n",
    "               ''.format(roc_auc[\"micro\"]),\n",
    "         color='deeppink', linestyle=':', linewidth=4)\n",
    "\n",
    "plt.plot(fpr[\"macro\"], tpr[\"macro\"],\n",
    "         label='macro-average ROC curve (area = {0:0.2f})'\n",
    "               ''.format(roc_auc[\"macro\"]),\n",
    "         color='navy', linestyle=':', linewidth=4)\n",
    "\n",
    "colors = cycle(['aqua', 'darkorange', 'cornflowerblue'])\n",
    "for i, color in zip(range(n_classes), colors):\n",
    "    plt.plot(fpr[i], tpr[i], color=color, lw=lw,\n",
    "             label='ROC curve of class {0} (area = {1:0.2f})'\n",
    "             ''.format(i, roc_auc[i]))\n",
    "\n",
    "plt.plot([0, 1], [0, 1], 'k--', lw=lw)\n",
    "plt.xlim([0.0, 1.0])\n",
    "plt.ylim([0.0, 1.05])\n",
    "plt.xlabel('False Positive Rate')\n",
    "plt.ylabel('True Positive Rate')\n",
    "plt.title('Some extension of Receiver operating characteristic to multi-class')\n",
    "plt.legend(loc=\"lower right\")\n",
    "plt.show()\n",
    "\n",
    "\n",
    "# Zoom in view of the upper left corner.\n",
    "plt.figure(2)\n",
    "plt.xlim(0, 0.2)\n",
    "plt.ylim(0.8, 1)\n",
    "plt.plot(fpr[\"micro\"], tpr[\"micro\"],\n",
    "         label='micro-average ROC curve (area = {0:0.2f})'\n",
    "               ''.format(roc_auc[\"micro\"]),\n",
    "         color='deeppink', linestyle=':', linewidth=4)\n",
    "\n",
    "plt.plot(fpr[\"macro\"], tpr[\"macro\"],\n",
    "         label='macro-average ROC curve (area = {0:0.2f})'\n",
    "               ''.format(roc_auc[\"macro\"]),\n",
    "         color='navy', linestyle=':', linewidth=4)\n",
    "\n",
    "colors = cycle(['aqua', 'darkorange', 'cornflowerblue'])\n",
    "for i, color in zip(range(n_classes), colors):\n",
    "    plt.plot(fpr[i], tpr[i], color=color, lw=lw,\n",
    "             label='ROC curve of class {0} (area = {1:0.2f})'\n",
    "             ''.format(i, roc_auc[i]))\n",
    "\n",
    "plt.plot([0, 1], [0, 1], 'k--', lw=lw)\n",
    "plt.xlabel('False Positive Rate')\n",
    "plt.ylabel('True Positive Rate')\n",
    "plt.title('Some extension of Receiver operating characteristic to multi-class')\n",
    "plt.legend(loc=\"lower right\")\n",
    "plt.show()"
   ]
  },
  {
   "cell_type": "markdown",
   "metadata": {},
   "source": [
    "## hyperopt"
   ]
  },
  {
   "cell_type": "code",
   "execution_count": 16,
   "metadata": {},
   "outputs": [],
   "source": [
    "from hyperas import optim\n",
    "from hyperas.distributions import choice, uniform\n",
    "from hyperopt import Trials, STATUS_OK, tpe\n"
   ]
  },
  {
   "cell_type": "code",
   "execution_count": 126,
   "metadata": {},
   "outputs": [],
   "source": [
    "def create_model(X_train, y_train, X_test, y_test):\n",
    "    model=tf.keras.Sequential()\n",
    "    model.add(tf.keras.layers.Dense({{uniform(20,100)}},activation=tf.nn.relu,input_shape=(100,),\n",
    "                                    activity_regularizer=tf.keras.regularizers.l1({{uniform(0, 1)}}),\n",
    "                                   kernel_regularizer=tf.keras.regularizers.l2({{uniform(0, 1)}})))\n",
    "    \n",
    "    model.add(tf.keras.layers.Dropout({{uniform(0, 1)}}))\n",
    "              \n",
    "    model.add(tf.keras.layers.Dense({{uniform(20,100)}},activation=tf.nn.relu,kernel_regularizer=tf.keras.regularizers.l2({{uniform(0, 1)}}),\n",
    "                                   activity_regularizer=tf.keras.regularizers.l1({{uniform(0, 1)}})))\n",
    "              \n",
    "    model.add(tf.keras.layers.Dropout({{uniform(0, 1)}}))\n",
    "              \n",
    "    model.add(tf.keras.layers.Dense(6,activation=tf.nn.softmax))\n",
    "\n",
    "    model.compile(loss='categorical_crossentropy',optimizer='adam',metrics=['accuracy'])\n",
    "\n",
    "    \n",
    "    \n",
    "    result=model.fit(X_train,y_train,epochs=5,batch_size={{choice([8,16,32,64,128,256])}},validation_split=0.2)\n",
    "    validation_acc = np.amax(result.history['val_accuracy']) \n",
    "    print('Best validation acc of epoch:', validation_acc)\n",
    "    return {'loss': -validation_acc, 'status': STATUS_OK, 'model': model}\n",
    "\n",
    "              \n",
    "              \n",
    "    return model"
   ]
  },
  {
   "cell_type": "code",
   "execution_count": 132,
   "metadata": {},
   "outputs": [],
   "source": [
    "def data():\n",
    "    original_full_ds = pd.read_pickle('full_ds_after_prepro.pkl')\n",
    "    word2vec_model = word2vec.getModel()\n",
    "    word2vec=original_full_ds['stmt_lemmas'].apply(lambda x : create_sentence_avg_vector(x,word2vec_model))\n",
    "    dataset=pd.concat([original_full_ds,word2vec], axis=1)\n",
    "    dst=dataset[dataset.columns[-100:]]\n",
    "    label=dataset['score']\n",
    "    dst_sq1 = dst.copy()\n",
    "    label_sq1=label.copy()\n",
    "    from sklearn.preprocessing import StandardScaler\n",
    "    scaler = StandardScaler()\n",
    "    dst_sq1 = scaler.fit_transform(dst_sq1)\n",
    "    dst_sq1=pd.DataFrame(dst_sq1)\n",
    "    dst_sq1=dst_sq1[:476]\n",
    "    label_sq1=label_sq1[:476]\n",
    "    X_train, X_test, y_train, y_test = train_test_split(dst_sq1, label_sq1, test_size=0.5)\n",
    "    # one hot encoding for test and train labels\n",
    "\n",
    "    #first convert label in train to numeric\n",
    "    y_train=y_train.apply(lambda x: convert_score_cat_to_numeric(x))\n",
    "\n",
    "    #convert to one hot encoding (train)\n",
    "    y_train = tf.keras.utils.to_categorical(y_train)\n",
    "\n",
    "\n",
    "    #first convert label in test to numeric\n",
    "    y_test=y_test.apply(lambda x: convert_score_cat_to_numeric(x))\n",
    "\n",
    "    #convert to one hot encoding (test)\n",
    "    y_test = tf.keras.utils.to_categorical(y_test)\n",
    "\n",
    "\n",
    "    return X_train, y_train, X_test, y_test"
   ]
  },
  {
   "cell_type": "code",
   "execution_count": 133,
   "metadata": {},
   "outputs": [],
   "source": [
    "%%capture\n",
    "best_run, best_model = optim.minimize(model=create_model,\n",
    "                                      data=data,\n",
    "                                      algo=tpe.suggest,\n",
    "                                      max_evals=40,\n",
    "                                      trials=Trials(),notebook_name='neuron_models')"
   ]
  },
  {
   "cell_type": "code",
   "execution_count": 134,
   "metadata": {},
   "outputs": [
    {
     "name": "stdout",
     "output_type": "stream",
     "text": [
      "Evalutation of best performing model:\n",
      "48/48 [==============================] - 0s 5ms/sample - loss: 14.3201 - accuracy: 0.4167\n",
      "[14.320125579833984, 0.41666666]\n",
      "Best performing model chosen hyper-parameters:\n",
      "{'Dense': 45.26811173865122, 'Dense_1': 75.04218055130701, 'batch_size': 0, 'l1': 0.11854044571155695, 'l1_1': 0.09743636039700224, 'l1_2': 0.21652113248455393, 'l1_3': 0.8001429718536348, 'l1_4': 0.38807129676348723, 'l1_5': 0.10280889083773402}\n"
     ]
    }
   ],
   "source": [
    "print(\"Evalutation of best performing model:\")\n",
    "print(best_model.evaluate(X_test, y_test))\n",
    "print(\"Best performing model chosen hyper-parameters:\")\n",
    "print(best_run)"
   ]
  },
  {
   "cell_type": "code",
   "execution_count": 137,
   "metadata": {},
   "outputs": [],
   "source": [
    "#stats on best_model\n",
    "#convert y_test from one-hot encoded to categorical labels again\n",
    "y_test_convert=numpy.argmax(y_test, axis=1, out=None)\n",
    "#predict on test\n",
    "Y_pred = best_model.predict(X_test)\n",
    "#get the maximum val\n",
    "y_pred = np.array([np.argmax(pred) for pred in Y_pred])"
   ]
  },
  {
   "cell_type": "code",
   "execution_count": 138,
   "metadata": {},
   "outputs": [
    {
     "name": "stdout",
     "output_type": "stream",
     "text": [
      "  Classification Report:\n",
      "               precision    recall  f1-score   support\n",
      "\n",
      "           0       0.00      0.00      0.00         9\n",
      "           1       0.00      0.00      0.00         4\n",
      "           2       0.00      0.00      0.00         8\n",
      "           4       0.67      0.22      0.33         9\n",
      "           5       0.40      1.00      0.57        18\n",
      "\n",
      "    accuracy                           0.42        48\n",
      "   macro avg       0.21      0.24      0.18        48\n",
      "weighted avg       0.27      0.42      0.28        48\n",
      " \n",
      "\n"
     ]
    }
   ],
   "source": [
    "print('  Classification Report:\\n',classification_report(y_test_convert,y_pred),'\\n')"
   ]
  },
  {
   "cell_type": "markdown",
   "metadata": {
    "jupyter": {
     "source_hidden": true
    }
   },
   "source": [
    "## keras LSTM model "
   ]
  },
  {
   "cell_type": "code",
   "execution_count": 854,
   "metadata": {
    "jupyter": {
     "source_hidden": true
    }
   },
   "outputs": [],
   "source": [
    "input = Input(shape=(100,))\n",
    "model = Embedding(2272,100,weights=[embedding_matrix],input_length=100)(input)\n",
    "model = GaussianNoise(0.01)(model)\n",
    "model = keras.layers.Dropout(0.2)(model)\n",
    "model = Dense(256,activation = 'relu')(model)\n",
    "#model = keras.layers.Dropout(0.6)(model)\n",
    "#model =  LSTM (100,return_sequences=True,dropout=0.5,recurrent_dropout=0.1)(model)\n",
    "#model = TimeDistributed(Dense(100,activation='relu'))(model)\n",
    "model = keras.layers.Dropout(0.6)(model)\n",
    "model = Flatten()(model)\n",
    "model = GaussianNoise(0.01)(model)\n",
    "#model = Dense(100,activation='relu')(model)\n",
    "model = keras.layers.Dropout(0.6)(model)\n",
    "output = Dense(6,activation='softmax')(model)\n",
    "model = Model(input,output)\n",
    "model.compile(loss='sparse_categorical_crossentropy',optimizer='adam', metrics=['accuracy'])"
   ]
  },
  {
   "cell_type": "code",
   "execution_count": 855,
   "metadata": {
    "collapsed": true,
    "jupyter": {
     "outputs_hidden": true,
     "source_hidden": true
    }
   },
   "outputs": [
    {
     "name": "stderr",
     "output_type": "stream",
     "text": [
      "C:\\Users\\Ben\\Anaconda3\\lib\\site-packages\\ipykernel_launcher.py:2: UserWarning: The `nb_epoch` argument in `fit` has been renamed `epochs`.\n",
      "  \n",
      "C:\\Users\\Ben\\Anaconda3\\lib\\site-packages\\tensorflow_core\\python\\framework\\indexed_slices.py:433: UserWarning: Converting sparse IndexedSlices to a dense Tensor of unknown shape. This may consume a large amount of memory.\n",
      "  \"Converting sparse IndexedSlices to a dense Tensor of unknown shape. \"\n"
     ]
    },
    {
     "name": "stdout",
     "output_type": "stream",
     "text": [
      "Train on 304 samples, validate on 77 samples\n",
      "Epoch 1/800\n",
      " - 1s - loss: 1.6267 - accuracy: 0.3684 - val_loss: 1.6134 - val_accuracy: 0.3766\n",
      "Epoch 2/800\n",
      " - 1s - loss: 1.5125 - accuracy: 0.3947 - val_loss: 1.6065 - val_accuracy: 0.3766\n",
      "Epoch 3/800\n",
      " - 1s - loss: 1.4752 - accuracy: 0.3947 - val_loss: 1.5858 - val_accuracy: 0.3766\n",
      "Epoch 4/800\n",
      " - 1s - loss: 1.4406 - accuracy: 0.4211 - val_loss: 1.5872 - val_accuracy: 0.3766\n",
      "Epoch 5/800\n",
      " - 1s - loss: 1.4154 - accuracy: 0.4145 - val_loss: 1.5667 - val_accuracy: 0.3766\n",
      "Epoch 6/800\n",
      " - 1s - loss: 1.3762 - accuracy: 0.4178 - val_loss: 1.5807 - val_accuracy: 0.3766\n",
      "Epoch 7/800\n",
      " - 1s - loss: 1.3126 - accuracy: 0.4737 - val_loss: 1.5864 - val_accuracy: 0.3766\n",
      "Epoch 8/800\n",
      " - 1s - loss: 1.2702 - accuracy: 0.4934 - val_loss: 1.5663 - val_accuracy: 0.3766\n",
      "Epoch 9/800\n",
      " - 1s - loss: 1.2189 - accuracy: 0.5197 - val_loss: 1.5847 - val_accuracy: 0.3766\n",
      "Epoch 10/800\n",
      " - 1s - loss: 1.1481 - accuracy: 0.5461 - val_loss: 1.5891 - val_accuracy: 0.3766\n",
      "Epoch 11/800\n",
      " - 1s - loss: 1.0909 - accuracy: 0.6184 - val_loss: 1.5729 - val_accuracy: 0.3896\n",
      "Epoch 12/800\n",
      " - 1s - loss: 1.0129 - accuracy: 0.6480 - val_loss: 1.5652 - val_accuracy: 0.3896\n",
      "Epoch 13/800\n",
      " - 1s - loss: 0.9369 - accuracy: 0.6842 - val_loss: 1.5718 - val_accuracy: 0.3766\n",
      "Epoch 14/800\n",
      " - 1s - loss: 0.8662 - accuracy: 0.7566 - val_loss: 1.5836 - val_accuracy: 0.3766\n",
      "Epoch 15/800\n",
      " - 1s - loss: 0.7746 - accuracy: 0.7993 - val_loss: 1.5649 - val_accuracy: 0.3896\n",
      "Epoch 16/800\n",
      " - 1s - loss: 0.6766 - accuracy: 0.8289 - val_loss: 1.5825 - val_accuracy: 0.3896\n",
      "Epoch 17/800\n",
      " - 1s - loss: 0.5694 - accuracy: 0.8882 - val_loss: 1.6204 - val_accuracy: 0.3636\n",
      "Epoch 18/800\n",
      " - 1s - loss: 0.4874 - accuracy: 0.9112 - val_loss: 1.5810 - val_accuracy: 0.3896\n",
      "Epoch 19/800\n",
      " - 1s - loss: 0.4439 - accuracy: 0.9243 - val_loss: 1.5951 - val_accuracy: 0.3896\n",
      "Epoch 20/800\n",
      " - 1s - loss: 0.4023 - accuracy: 0.9211 - val_loss: 1.6258 - val_accuracy: 0.3506\n",
      "Epoch 21/800\n",
      " - 1s - loss: 0.3484 - accuracy: 0.9375 - val_loss: 1.6817 - val_accuracy: 0.3766\n",
      "Epoch 22/800\n",
      " - 1s - loss: 0.2878 - accuracy: 0.9704 - val_loss: 1.6163 - val_accuracy: 0.3636\n",
      "Epoch 23/800\n",
      " - 1s - loss: 0.2674 - accuracy: 0.9572 - val_loss: 1.6856 - val_accuracy: 0.3636\n",
      "Epoch 24/800\n",
      " - 1s - loss: 0.2100 - accuracy: 0.9770 - val_loss: 1.7104 - val_accuracy: 0.3506\n",
      "Epoch 25/800\n",
      " - 1s - loss: 0.1901 - accuracy: 0.9934 - val_loss: 1.7047 - val_accuracy: 0.3506\n",
      "Epoch 26/800\n",
      " - 1s - loss: 0.1565 - accuracy: 0.9901 - val_loss: 1.8131 - val_accuracy: 0.3377\n",
      "Epoch 27/800\n",
      " - 1s - loss: 0.1383 - accuracy: 0.9803 - val_loss: 1.7236 - val_accuracy: 0.3636\n",
      "Epoch 28/800\n",
      " - 1s - loss: 0.1168 - accuracy: 0.9934 - val_loss: 1.7560 - val_accuracy: 0.3636\n",
      "Epoch 29/800\n",
      " - 1s - loss: 0.0964 - accuracy: 0.9934 - val_loss: 1.7825 - val_accuracy: 0.3766\n",
      "Epoch 30/800\n",
      " - 1s - loss: 0.1009 - accuracy: 0.9967 - val_loss: 1.8204 - val_accuracy: 0.3377\n",
      "Epoch 31/800\n",
      " - 1s - loss: 0.0960 - accuracy: 0.9934 - val_loss: 1.8376 - val_accuracy: 0.3506\n",
      "Epoch 32/800\n",
      " - 1s - loss: 0.0954 - accuracy: 0.9901 - val_loss: 1.7971 - val_accuracy: 0.3636\n",
      "Epoch 33/800\n",
      " - 1s - loss: 0.0705 - accuracy: 0.9967 - val_loss: 1.8763 - val_accuracy: 0.3506\n",
      "Epoch 34/800\n",
      " - 1s - loss: 0.0698 - accuracy: 0.9967 - val_loss: 1.8859 - val_accuracy: 0.3377\n",
      "Epoch 35/800\n",
      " - 1s - loss: 0.0674 - accuracy: 0.9934 - val_loss: 1.8802 - val_accuracy: 0.3377\n",
      "Epoch 36/800\n",
      " - 1s - loss: 0.0547 - accuracy: 0.9934 - val_loss: 1.9037 - val_accuracy: 0.3506\n",
      "Epoch 37/800\n",
      " - 1s - loss: 0.0541 - accuracy: 0.9934 - val_loss: 1.9198 - val_accuracy: 0.3377\n",
      "Epoch 38/800\n",
      " - 1s - loss: 0.0486 - accuracy: 0.9967 - val_loss: 1.8624 - val_accuracy: 0.3636\n",
      "Epoch 39/800\n",
      " - 1s - loss: 0.0475 - accuracy: 1.0000 - val_loss: 1.8836 - val_accuracy: 0.3766\n",
      "Epoch 40/800\n",
      " - 1s - loss: 0.0456 - accuracy: 0.9934 - val_loss: 1.9196 - val_accuracy: 0.3636\n",
      "Epoch 41/800\n",
      " - 1s - loss: 0.0492 - accuracy: 0.9934 - val_loss: 1.9648 - val_accuracy: 0.3896\n",
      "Epoch 42/800\n",
      " - 1s - loss: 0.0273 - accuracy: 1.0000 - val_loss: 2.0225 - val_accuracy: 0.3766\n",
      "Epoch 43/800\n",
      " - 1s - loss: 0.0304 - accuracy: 1.0000 - val_loss: 1.9912 - val_accuracy: 0.3636\n",
      "Epoch 44/800\n",
      " - 1s - loss: 0.0295 - accuracy: 0.9967 - val_loss: 1.9794 - val_accuracy: 0.3766\n",
      "Epoch 45/800\n",
      " - 1s - loss: 0.0380 - accuracy: 0.9934 - val_loss: 2.0196 - val_accuracy: 0.3766\n"
     ]
    },
    {
     "ename": "KeyboardInterrupt",
     "evalue": "",
     "output_type": "error",
     "traceback": [
      "\u001b[1;31m---------------------------------------------------------------------------\u001b[0m",
      "\u001b[1;31mKeyboardInterrupt\u001b[0m                         Traceback (most recent call last)",
      "\u001b[1;32m<ipython-input-855-75925cd1d24e>\u001b[0m in \u001b[0;36m<module>\u001b[1;34m\u001b[0m\n\u001b[0;32m      1\u001b[0m \u001b[0mes\u001b[0m \u001b[1;33m=\u001b[0m \u001b[0mEarlyStopping\u001b[0m\u001b[1;33m(\u001b[0m\u001b[0mmonitor\u001b[0m\u001b[1;33m=\u001b[0m\u001b[1;34m'val_loss'\u001b[0m\u001b[1;33m,\u001b[0m \u001b[0mmode\u001b[0m\u001b[1;33m=\u001b[0m\u001b[1;34m'min'\u001b[0m\u001b[1;33m,\u001b[0m\u001b[0mpatience\u001b[0m\u001b[1;33m=\u001b[0m\u001b[1;36m10\u001b[0m\u001b[1;33m,\u001b[0m \u001b[0mverbose\u001b[0m\u001b[1;33m=\u001b[0m\u001b[1;36m1\u001b[0m\u001b[1;33m)\u001b[0m\u001b[1;33m\u001b[0m\u001b[1;33m\u001b[0m\u001b[0m\n\u001b[1;32m----> 2\u001b[1;33m \u001b[0mmodel\u001b[0m\u001b[1;33m.\u001b[0m\u001b[0mfit\u001b[0m\u001b[1;33m(\u001b[0m\u001b[0mX_train\u001b[0m\u001b[1;33m,\u001b[0m\u001b[0my_train\u001b[0m\u001b[1;33m,\u001b[0m\u001b[0mvalidation_split\u001b[0m\u001b[1;33m=\u001b[0m\u001b[1;36m0.2\u001b[0m \u001b[1;33m,\u001b[0m\u001b[0mnb_epoch\u001b[0m \u001b[1;33m=\u001b[0m \u001b[1;36m800\u001b[0m\u001b[1;33m,\u001b[0m \u001b[0mverbose\u001b[0m \u001b[1;33m=\u001b[0m \u001b[1;36m2\u001b[0m\u001b[1;33m)\u001b[0m\u001b[1;33m\u001b[0m\u001b[1;33m\u001b[0m\u001b[0m\n\u001b[0m",
      "\u001b[1;32m~\\Anaconda3\\lib\\site-packages\\keras\\engine\\training.py\u001b[0m in \u001b[0;36mfit\u001b[1;34m(self, x, y, batch_size, epochs, verbose, callbacks, validation_split, validation_data, shuffle, class_weight, sample_weight, initial_epoch, steps_per_epoch, validation_steps, validation_freq, max_queue_size, workers, use_multiprocessing, **kwargs)\u001b[0m\n\u001b[0;32m   1237\u001b[0m                                         \u001b[0msteps_per_epoch\u001b[0m\u001b[1;33m=\u001b[0m\u001b[0msteps_per_epoch\u001b[0m\u001b[1;33m,\u001b[0m\u001b[1;33m\u001b[0m\u001b[1;33m\u001b[0m\u001b[0m\n\u001b[0;32m   1238\u001b[0m                                         \u001b[0mvalidation_steps\u001b[0m\u001b[1;33m=\u001b[0m\u001b[0mvalidation_steps\u001b[0m\u001b[1;33m,\u001b[0m\u001b[1;33m\u001b[0m\u001b[1;33m\u001b[0m\u001b[0m\n\u001b[1;32m-> 1239\u001b[1;33m                                         validation_freq=validation_freq)\n\u001b[0m\u001b[0;32m   1240\u001b[0m \u001b[1;33m\u001b[0m\u001b[0m\n\u001b[0;32m   1241\u001b[0m     def evaluate(self,\n",
      "\u001b[1;32m~\\Anaconda3\\lib\\site-packages\\keras\\engine\\training_arrays.py\u001b[0m in \u001b[0;36mfit_loop\u001b[1;34m(model, fit_function, fit_inputs, out_labels, batch_size, epochs, verbose, callbacks, val_function, val_inputs, shuffle, initial_epoch, steps_per_epoch, validation_steps, validation_freq)\u001b[0m\n\u001b[0;32m    214\u001b[0m                         \u001b[0mepoch_logs\u001b[0m\u001b[1;33m[\u001b[0m\u001b[1;34m'val_'\u001b[0m \u001b[1;33m+\u001b[0m \u001b[0ml\u001b[0m\u001b[1;33m]\u001b[0m \u001b[1;33m=\u001b[0m \u001b[0mo\u001b[0m\u001b[1;33m\u001b[0m\u001b[1;33m\u001b[0m\u001b[0m\n\u001b[0;32m    215\u001b[0m \u001b[1;33m\u001b[0m\u001b[0m\n\u001b[1;32m--> 216\u001b[1;33m         \u001b[0mcallbacks\u001b[0m\u001b[1;33m.\u001b[0m\u001b[0mon_epoch_end\u001b[0m\u001b[1;33m(\u001b[0m\u001b[0mepoch\u001b[0m\u001b[1;33m,\u001b[0m \u001b[0mepoch_logs\u001b[0m\u001b[1;33m)\u001b[0m\u001b[1;33m\u001b[0m\u001b[1;33m\u001b[0m\u001b[0m\n\u001b[0m\u001b[0;32m    217\u001b[0m         \u001b[1;32mif\u001b[0m \u001b[0mcallbacks\u001b[0m\u001b[1;33m.\u001b[0m\u001b[0mmodel\u001b[0m\u001b[1;33m.\u001b[0m\u001b[0mstop_training\u001b[0m\u001b[1;33m:\u001b[0m\u001b[1;33m\u001b[0m\u001b[1;33m\u001b[0m\u001b[0m\n\u001b[0;32m    218\u001b[0m             \u001b[1;32mbreak\u001b[0m\u001b[1;33m\u001b[0m\u001b[1;33m\u001b[0m\u001b[0m\n",
      "\u001b[1;32m~\\Anaconda3\\lib\\site-packages\\keras\\callbacks\\callbacks.py\u001b[0m in \u001b[0;36mon_epoch_end\u001b[1;34m(self, epoch, logs)\u001b[0m\n\u001b[0;32m    150\u001b[0m         \u001b[0mlogs\u001b[0m \u001b[1;33m=\u001b[0m \u001b[0mlogs\u001b[0m \u001b[1;32mor\u001b[0m \u001b[1;33m{\u001b[0m\u001b[1;33m}\u001b[0m\u001b[1;33m\u001b[0m\u001b[1;33m\u001b[0m\u001b[0m\n\u001b[0;32m    151\u001b[0m         \u001b[1;32mfor\u001b[0m \u001b[0mcallback\u001b[0m \u001b[1;32min\u001b[0m \u001b[0mself\u001b[0m\u001b[1;33m.\u001b[0m\u001b[0mcallbacks\u001b[0m\u001b[1;33m:\u001b[0m\u001b[1;33m\u001b[0m\u001b[1;33m\u001b[0m\u001b[0m\n\u001b[1;32m--> 152\u001b[1;33m             \u001b[0mcallback\u001b[0m\u001b[1;33m.\u001b[0m\u001b[0mon_epoch_end\u001b[0m\u001b[1;33m(\u001b[0m\u001b[0mepoch\u001b[0m\u001b[1;33m,\u001b[0m \u001b[0mlogs\u001b[0m\u001b[1;33m)\u001b[0m\u001b[1;33m\u001b[0m\u001b[1;33m\u001b[0m\u001b[0m\n\u001b[0m\u001b[0;32m    153\u001b[0m \u001b[1;33m\u001b[0m\u001b[0m\n\u001b[0;32m    154\u001b[0m     \u001b[1;32mdef\u001b[0m \u001b[0mon_train_batch_begin\u001b[0m\u001b[1;33m(\u001b[0m\u001b[0mself\u001b[0m\u001b[1;33m,\u001b[0m \u001b[0mbatch\u001b[0m\u001b[1;33m,\u001b[0m \u001b[0mlogs\u001b[0m\u001b[1;33m=\u001b[0m\u001b[1;32mNone\u001b[0m\u001b[1;33m)\u001b[0m\u001b[1;33m:\u001b[0m\u001b[1;33m\u001b[0m\u001b[1;33m\u001b[0m\u001b[0m\n",
      "\u001b[1;32m~\\Anaconda3\\lib\\site-packages\\keras\\callbacks\\callbacks.py\u001b[0m in \u001b[0;36mon_epoch_end\u001b[1;34m(self, epoch, logs)\u001b[0m\n\u001b[0;32m    609\u001b[0m                 \u001b[0mself\u001b[0m\u001b[1;33m.\u001b[0m\u001b[0mlog_values\u001b[0m\u001b[1;33m.\u001b[0m\u001b[0mappend\u001b[0m\u001b[1;33m(\u001b[0m\u001b[1;33m(\u001b[0m\u001b[0mk\u001b[0m\u001b[1;33m,\u001b[0m \u001b[0mlogs\u001b[0m\u001b[1;33m[\u001b[0m\u001b[0mk\u001b[0m\u001b[1;33m]\u001b[0m\u001b[1;33m)\u001b[0m\u001b[1;33m)\u001b[0m\u001b[1;33m\u001b[0m\u001b[1;33m\u001b[0m\u001b[0m\n\u001b[0;32m    610\u001b[0m         \u001b[1;32mif\u001b[0m \u001b[0mself\u001b[0m\u001b[1;33m.\u001b[0m\u001b[0mverbose\u001b[0m\u001b[1;33m:\u001b[0m\u001b[1;33m\u001b[0m\u001b[1;33m\u001b[0m\u001b[0m\n\u001b[1;32m--> 611\u001b[1;33m             \u001b[0mself\u001b[0m\u001b[1;33m.\u001b[0m\u001b[0mprogbar\u001b[0m\u001b[1;33m.\u001b[0m\u001b[0mupdate\u001b[0m\u001b[1;33m(\u001b[0m\u001b[0mself\u001b[0m\u001b[1;33m.\u001b[0m\u001b[0mseen\u001b[0m\u001b[1;33m,\u001b[0m \u001b[0mself\u001b[0m\u001b[1;33m.\u001b[0m\u001b[0mlog_values\u001b[0m\u001b[1;33m)\u001b[0m\u001b[1;33m\u001b[0m\u001b[1;33m\u001b[0m\u001b[0m\n\u001b[0m\u001b[0;32m    612\u001b[0m \u001b[1;33m\u001b[0m\u001b[0m\n\u001b[0;32m    613\u001b[0m \u001b[1;33m\u001b[0m\u001b[0m\n",
      "\u001b[1;32m~\\Anaconda3\\lib\\site-packages\\keras\\utils\\generic_utils.py\u001b[0m in \u001b[0;36mupdate\u001b[1;34m(self, current, values)\u001b[0m\n\u001b[0;32m    465\u001b[0m                 \u001b[0minfo\u001b[0m \u001b[1;33m+=\u001b[0m \u001b[1;34m'\\n'\u001b[0m\u001b[1;33m\u001b[0m\u001b[1;33m\u001b[0m\u001b[0m\n\u001b[0;32m    466\u001b[0m \u001b[1;33m\u001b[0m\u001b[0m\n\u001b[1;32m--> 467\u001b[1;33m                 \u001b[0msys\u001b[0m\u001b[1;33m.\u001b[0m\u001b[0mstdout\u001b[0m\u001b[1;33m.\u001b[0m\u001b[0mwrite\u001b[0m\u001b[1;33m(\u001b[0m\u001b[0minfo\u001b[0m\u001b[1;33m)\u001b[0m\u001b[1;33m\u001b[0m\u001b[1;33m\u001b[0m\u001b[0m\n\u001b[0m\u001b[0;32m    468\u001b[0m                 \u001b[0msys\u001b[0m\u001b[1;33m.\u001b[0m\u001b[0mstdout\u001b[0m\u001b[1;33m.\u001b[0m\u001b[0mflush\u001b[0m\u001b[1;33m(\u001b[0m\u001b[1;33m)\u001b[0m\u001b[1;33m\u001b[0m\u001b[1;33m\u001b[0m\u001b[0m\n\u001b[0;32m    469\u001b[0m \u001b[1;33m\u001b[0m\u001b[0m\n",
      "\u001b[1;32m~\\Anaconda3\\lib\\site-packages\\ipykernel\\iostream.py\u001b[0m in \u001b[0;36mwrite\u001b[1;34m(self, string)\u001b[0m\n\u001b[0;32m    400\u001b[0m             \u001b[0mis_child\u001b[0m \u001b[1;33m=\u001b[0m \u001b[1;33m(\u001b[0m\u001b[1;32mnot\u001b[0m \u001b[0mself\u001b[0m\u001b[1;33m.\u001b[0m\u001b[0m_is_master_process\u001b[0m\u001b[1;33m(\u001b[0m\u001b[1;33m)\u001b[0m\u001b[1;33m)\u001b[0m\u001b[1;33m\u001b[0m\u001b[1;33m\u001b[0m\u001b[0m\n\u001b[0;32m    401\u001b[0m             \u001b[1;31m# only touch the buffer in the IO thread to avoid races\u001b[0m\u001b[1;33m\u001b[0m\u001b[1;33m\u001b[0m\u001b[1;33m\u001b[0m\u001b[0m\n\u001b[1;32m--> 402\u001b[1;33m             \u001b[0mself\u001b[0m\u001b[1;33m.\u001b[0m\u001b[0mpub_thread\u001b[0m\u001b[1;33m.\u001b[0m\u001b[0mschedule\u001b[0m\u001b[1;33m(\u001b[0m\u001b[1;32mlambda\u001b[0m \u001b[1;33m:\u001b[0m \u001b[0mself\u001b[0m\u001b[1;33m.\u001b[0m\u001b[0m_buffer\u001b[0m\u001b[1;33m.\u001b[0m\u001b[0mwrite\u001b[0m\u001b[1;33m(\u001b[0m\u001b[0mstring\u001b[0m\u001b[1;33m)\u001b[0m\u001b[1;33m)\u001b[0m\u001b[1;33m\u001b[0m\u001b[1;33m\u001b[0m\u001b[0m\n\u001b[0m\u001b[0;32m    403\u001b[0m             \u001b[1;32mif\u001b[0m \u001b[0mis_child\u001b[0m\u001b[1;33m:\u001b[0m\u001b[1;33m\u001b[0m\u001b[1;33m\u001b[0m\u001b[0m\n\u001b[0;32m    404\u001b[0m                 \u001b[1;31m# newlines imply flush in subprocesses\u001b[0m\u001b[1;33m\u001b[0m\u001b[1;33m\u001b[0m\u001b[1;33m\u001b[0m\u001b[0m\n",
      "\u001b[1;32m~\\Anaconda3\\lib\\site-packages\\ipykernel\\iostream.py\u001b[0m in \u001b[0;36mschedule\u001b[1;34m(self, f)\u001b[0m\n\u001b[0;32m    203\u001b[0m             \u001b[0mself\u001b[0m\u001b[1;33m.\u001b[0m\u001b[0m_events\u001b[0m\u001b[1;33m.\u001b[0m\u001b[0mappend\u001b[0m\u001b[1;33m(\u001b[0m\u001b[0mf\u001b[0m\u001b[1;33m)\u001b[0m\u001b[1;33m\u001b[0m\u001b[1;33m\u001b[0m\u001b[0m\n\u001b[0;32m    204\u001b[0m             \u001b[1;31m# wake event thread (message content is ignored)\u001b[0m\u001b[1;33m\u001b[0m\u001b[1;33m\u001b[0m\u001b[1;33m\u001b[0m\u001b[0m\n\u001b[1;32m--> 205\u001b[1;33m             \u001b[0mself\u001b[0m\u001b[1;33m.\u001b[0m\u001b[0m_event_pipe\u001b[0m\u001b[1;33m.\u001b[0m\u001b[0msend\u001b[0m\u001b[1;33m(\u001b[0m\u001b[1;34mb''\u001b[0m\u001b[1;33m)\u001b[0m\u001b[1;33m\u001b[0m\u001b[1;33m\u001b[0m\u001b[0m\n\u001b[0m\u001b[0;32m    206\u001b[0m         \u001b[1;32melse\u001b[0m\u001b[1;33m:\u001b[0m\u001b[1;33m\u001b[0m\u001b[1;33m\u001b[0m\u001b[0m\n\u001b[0;32m    207\u001b[0m             \u001b[0mf\u001b[0m\u001b[1;33m(\u001b[0m\u001b[1;33m)\u001b[0m\u001b[1;33m\u001b[0m\u001b[1;33m\u001b[0m\u001b[0m\n",
      "\u001b[1;32m~\\Anaconda3\\lib\\site-packages\\zmq\\sugar\\socket.py\u001b[0m in \u001b[0;36msend\u001b[1;34m(self, data, flags, copy, track, routing_id, group)\u001b[0m\n\u001b[0;32m    398\u001b[0m                                  copy_threshold=self.copy_threshold)\n\u001b[0;32m    399\u001b[0m             \u001b[0mdata\u001b[0m\u001b[1;33m.\u001b[0m\u001b[0mgroup\u001b[0m \u001b[1;33m=\u001b[0m \u001b[0mgroup\u001b[0m\u001b[1;33m\u001b[0m\u001b[1;33m\u001b[0m\u001b[0m\n\u001b[1;32m--> 400\u001b[1;33m         \u001b[1;32mreturn\u001b[0m \u001b[0msuper\u001b[0m\u001b[1;33m(\u001b[0m\u001b[0mSocket\u001b[0m\u001b[1;33m,\u001b[0m \u001b[0mself\u001b[0m\u001b[1;33m)\u001b[0m\u001b[1;33m.\u001b[0m\u001b[0msend\u001b[0m\u001b[1;33m(\u001b[0m\u001b[0mdata\u001b[0m\u001b[1;33m,\u001b[0m \u001b[0mflags\u001b[0m\u001b[1;33m=\u001b[0m\u001b[0mflags\u001b[0m\u001b[1;33m,\u001b[0m \u001b[0mcopy\u001b[0m\u001b[1;33m=\u001b[0m\u001b[0mcopy\u001b[0m\u001b[1;33m,\u001b[0m \u001b[0mtrack\u001b[0m\u001b[1;33m=\u001b[0m\u001b[0mtrack\u001b[0m\u001b[1;33m)\u001b[0m\u001b[1;33m\u001b[0m\u001b[1;33m\u001b[0m\u001b[0m\n\u001b[0m\u001b[0;32m    401\u001b[0m \u001b[1;33m\u001b[0m\u001b[0m\n\u001b[0;32m    402\u001b[0m     \u001b[1;32mdef\u001b[0m \u001b[0msend_multipart\u001b[0m\u001b[1;33m(\u001b[0m\u001b[0mself\u001b[0m\u001b[1;33m,\u001b[0m \u001b[0mmsg_parts\u001b[0m\u001b[1;33m,\u001b[0m \u001b[0mflags\u001b[0m\u001b[1;33m=\u001b[0m\u001b[1;36m0\u001b[0m\u001b[1;33m,\u001b[0m \u001b[0mcopy\u001b[0m\u001b[1;33m=\u001b[0m\u001b[1;32mTrue\u001b[0m\u001b[1;33m,\u001b[0m \u001b[0mtrack\u001b[0m\u001b[1;33m=\u001b[0m\u001b[1;32mFalse\u001b[0m\u001b[1;33m,\u001b[0m \u001b[1;33m**\u001b[0m\u001b[0mkwargs\u001b[0m\u001b[1;33m)\u001b[0m\u001b[1;33m:\u001b[0m\u001b[1;33m\u001b[0m\u001b[1;33m\u001b[0m\u001b[0m\n",
      "\u001b[1;32mzmq/backend/cython/socket.pyx\u001b[0m in \u001b[0;36mzmq.backend.cython.socket.Socket.send\u001b[1;34m()\u001b[0m\n",
      "\u001b[1;32mzmq/backend/cython/socket.pyx\u001b[0m in \u001b[0;36mzmq.backend.cython.socket.Socket.send\u001b[1;34m()\u001b[0m\n",
      "\u001b[1;32mzmq/backend/cython/socket.pyx\u001b[0m in \u001b[0;36mzmq.backend.cython.socket._send_copy\u001b[1;34m()\u001b[0m\n",
      "\u001b[1;32m~\\Anaconda3\\lib\\site-packages\\zmq\\backend\\cython\\checkrc.pxd\u001b[0m in \u001b[0;36mzmq.backend.cython.checkrc._check_rc\u001b[1;34m()\u001b[0m\n",
      "\u001b[1;31mKeyboardInterrupt\u001b[0m: "
     ]
    }
   ],
   "source": [
    "es = EarlyStopping(monitor='val_loss', mode='min',patience=10, verbose=1)\n",
    "model.fit(X_train,y_train,validation_split=0.2 ,nb_epoch = 800, verbose = 2)"
   ]
  },
  {
   "cell_type": "code",
   "execution_count": 856,
   "metadata": {
    "collapsed": true,
    "jupyter": {
     "outputs_hidden": true,
     "source_hidden": true
    }
   },
   "outputs": [
    {
     "name": "stdout",
     "output_type": "stream",
     "text": [
      "Accuracy: 87.139106\n"
     ]
    }
   ],
   "source": [
    "loss, accuracy = model.evaluate(X_train, y_train, verbose=2)\n",
    "print('Accuracy: %f' % (accuracy*100))"
   ]
  },
  {
   "cell_type": "code",
   "execution_count": 857,
   "metadata": {
    "collapsed": true,
    "jupyter": {
     "outputs_hidden": true,
     "source_hidden": true
    }
   },
   "outputs": [
    {
     "name": "stdout",
     "output_type": "stream",
     "text": [
      "  Classification Report:\n",
      "               precision    recall  f1-score   support\n",
      "\n",
      "           0       0.96      0.75      0.84        67\n",
      "           1       0.89      0.73      0.80        33\n",
      "           2       0.87      0.85      0.86        46\n",
      "           3       1.00      1.00      1.00         5\n",
      "           4       0.84      0.90      0.87        81\n",
      "           5       0.85      0.95      0.90       149\n",
      "\n",
      "    accuracy                           0.87       381\n",
      "   macro avg       0.90      0.86      0.88       381\n",
      "weighted avg       0.88      0.87      0.87       381\n",
      " \n",
      "\n"
     ]
    }
   ],
   "source": [
    "Y_pred = model.predict(X_train)\n",
    "y_pred = np.array([np.argmax(pred) for pred in Y_pred])\n",
    "print('  Classification Report:\\n',classification_report(y_train,y_pred),'\\n')"
   ]
  },
  {
   "cell_type": "code",
   "execution_count": 858,
   "metadata": {
    "collapsed": true,
    "jupyter": {
     "outputs_hidden": true,
     "source_hidden": true
    }
   },
   "outputs": [
    {
     "name": "stdout",
     "output_type": "stream",
     "text": [
      "Accuracy: 50.000000\n"
     ]
    }
   ],
   "source": [
    "# evaluate the model\n",
    "loss, accuracy = model.evaluate(X_test, y_test, verbose=2)\n",
    "print('Accuracy: %f' % (accuracy*100))"
   ]
  },
  {
   "cell_type": "code",
   "execution_count": 859,
   "metadata": {
    "collapsed": true,
    "jupyter": {
     "outputs_hidden": true,
     "source_hidden": true
    }
   },
   "outputs": [
    {
     "name": "stdout",
     "output_type": "stream",
     "text": [
      "  Classification Report:\n",
      "               precision    recall  f1-score   support\n",
      "\n",
      "           0       0.12      0.12      0.12         8\n",
      "           1       0.00      0.00      0.00         4\n",
      "           2       0.00      0.00      0.00        10\n",
      "           3       0.00      0.00      0.00         2\n",
      "           4       0.36      0.28      0.31        18\n",
      "           5       0.59      0.78      0.67        54\n",
      "\n",
      "    accuracy                           0.50        96\n",
      "   macro avg       0.18      0.20      0.18        96\n",
      "weighted avg       0.41      0.50      0.45        96\n",
      " \n",
      "\n"
     ]
    },
    {
     "name": "stderr",
     "output_type": "stream",
     "text": [
      "C:\\Users\\Ben\\Anaconda3\\lib\\site-packages\\sklearn\\metrics\\_classification.py:1272: UndefinedMetricWarning: Precision and F-score are ill-defined and being set to 0.0 in labels with no predicted samples. Use `zero_division` parameter to control this behavior.\n",
      "  _warn_prf(average, modifier, msg_start, len(result))\n"
     ]
    }
   ],
   "source": [
    "from sklearn.metrics import classification_report,confusion_matrix\n",
    "Y_pred = model.predict(X_test)\n",
    "y_pred = np.array([np.argmax(pred) for pred in Y_pred])\n",
    "print('  Classification Report:\\n',classification_report(y_test,y_pred),'\\n')"
   ]
  },
  {
   "cell_type": "code",
   "execution_count": 850,
   "metadata": {
    "collapsed": true,
    "jupyter": {
     "outputs_hidden": true,
     "source_hidden": true
    }
   },
   "outputs": [
    {
     "data": {
      "image/png": "[encoded data removed]",
      "text/plain": [
       "<Figure size 432x288 with 1 Axes>"
      ]
     },
     "metadata": {
      "needs_background": "light"
     },
     "output_type": "display_data"
    }
   ],
   "source": [
    "from matplotlib import pyplot\n",
    "pyplot.plot(model.history.history['loss'])\n",
    "pyplot.plot(model.history.history['val_loss'])\n",
    "pyplot.title('model train vs validation loss')\n",
    "pyplot.ylabel('loss')\n",
    "pyplot.xlabel('epoch')\n",
    "pyplot.legend(['train', 'validation'], loc='upper right')\n",
    "pyplot.show()"
   ]
  },
  {
   "cell_type": "code",
   "execution_count": 704,
   "metadata": {
    "collapsed": true,
    "jupyter": {
     "outputs_hidden": true,
     "source_hidden": true
    }
   },
   "outputs": [
    {
     "data": {
      "text/plain": [
       "array([2, 0, 0, 5, 2, 1, 0, 5, 5, 0, 0, 5, 1, 4, 5, 2, 5, 5, 1, 5, 0, 4,\n",
       "       4, 5, 5, 5, 4, 0, 4, 5, 0, 5, 1, 1, 5, 0, 5, 2, 4, 5, 0, 0, 0, 5,\n",
       "       1, 2, 1, 5], dtype=int64)"
      ]
     },
     "execution_count": 704,
     "metadata": {},
     "output_type": "execute_result"
    }
   ],
   "source": [
    "y_test"
   ]
  },
  {
   "cell_type": "code",
   "execution_count": 716,
   "metadata": {
    "collapsed": true,
    "jupyter": {
     "outputs_hidden": true,
     "source_hidden": true
    }
   },
   "outputs": [
    {
     "data": {
      "image/png": "[encoded data removed]",
      "text/plain": [
       "<Figure size 576x432 with 2 Axes>"
      ]
     },
     "metadata": {
      "needs_background": "light"
     },
     "output_type": "display_data"
    }
   ],
   "source": [
    "\n",
    "cm=confusion_matrix(y_test, y_pred)\n",
    "plot_confusion_matrix(cm,target_names=['TRUE','mostly true','half true','misleading','mostly untrue','untrue'])"
   ]
  },
  {
   "cell_type": "code",
   "execution_count": 694,
   "metadata": {
    "collapsed": true,
    "jupyter": {
     "outputs_hidden": true,
     "source_hidden": true
    }
   },
   "outputs": [
    {
     "data": {
      "text/plain": [
       "array([0, 5, 1, 5, 0, 4, 0, 5, 5, 5, 0, 5, 5, 4, 5, 5, 5, 5, 5, 5, 0, 5,\n",
       "       5, 5, 5, 0, 5, 0, 0, 5, 0, 5, 5, 5, 5, 0, 5, 4, 4, 5, 5, 1, 5, 5,\n",
       "       5, 5, 5, 2], dtype=int64)"
      ]
     },
     "execution_count": 694,
     "metadata": {},
     "output_type": "execute_result"
    }
   ],
   "source": [
    "y_pred"
   ]
  }
 ],
 "metadata": {
  "kernelspec": {
   "display_name": "Python 3",
   "language": "python",
   "name": "python3"
  },
  "language_info": {
   "codemirror_mode": {
    "name": "ipython",
    "version": 3
   },
   "file_extension": ".py",
   "mimetype": "text/x-python",
   "name": "python",
   "nbconvert_exporter": "python",
   "pygments_lexer": "ipython3",
   "version": "3.7.1"
  }
 },
 "nbformat": 4,
 "nbformat_minor": 4
}
